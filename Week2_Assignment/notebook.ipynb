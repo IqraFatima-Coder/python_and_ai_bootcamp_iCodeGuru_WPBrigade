{
 "cells": [
  {
   "cell_type": "markdown",
   "id": "e544992a",
   "metadata": {},
   "source": [
    "# Assignment 2"
   ]
  },
  {
   "cell_type": "markdown",
   "id": "0b4c6584",
   "metadata": {},
   "source": [
    "### Imports"
   ]
  },
  {
   "cell_type": "code",
   "execution_count": 28,
   "id": "a6988e8d",
   "metadata": {},
   "outputs": [],
   "source": [
    "import pandas as  pd"
   ]
  },
  {
   "cell_type": "markdown",
   "id": "0425dafd",
   "metadata": {},
   "source": [
    "## 1 - Data Handling"
   ]
  },
  {
   "cell_type": "markdown",
   "id": "01614fad",
   "metadata": {},
   "source": [
    "### Loading Dataset"
   ]
  },
  {
   "cell_type": "code",
   "execution_count": 29,
   "id": "4915618e",
   "metadata": {},
   "outputs": [],
   "source": [
    "# Loading dataset\n",
    "df = pd.read_csv('college_student_placement_dataset.csv')\n"
   ]
  },
  {
   "cell_type": "markdown",
   "id": "5b59aed5",
   "metadata": {},
   "source": [
    "### Initial Checks"
   ]
  },
  {
   "cell_type": "code",
   "execution_count": 30,
   "id": "5d026534",
   "metadata": {},
   "outputs": [
    {
     "data": {
      "text/html": [
       "<div>\n",
       "<style scoped>\n",
       "    .dataframe tbody tr th:only-of-type {\n",
       "        vertical-align: middle;\n",
       "    }\n",
       "\n",
       "    .dataframe tbody tr th {\n",
       "        vertical-align: top;\n",
       "    }\n",
       "\n",
       "    .dataframe thead th {\n",
       "        text-align: right;\n",
       "    }\n",
       "</style>\n",
       "<table border=\"1\" class=\"dataframe\">\n",
       "  <thead>\n",
       "    <tr style=\"text-align: right;\">\n",
       "      <th></th>\n",
       "      <th>College_ID</th>\n",
       "      <th>IQ</th>\n",
       "      <th>Prev_Sem_Result</th>\n",
       "      <th>CGPA</th>\n",
       "      <th>Academic_Performance</th>\n",
       "      <th>Internship_Experience</th>\n",
       "      <th>Extra_Curricular_Score</th>\n",
       "      <th>Communication_Skills</th>\n",
       "      <th>Projects_Completed</th>\n",
       "      <th>Placement</th>\n",
       "    </tr>\n",
       "  </thead>\n",
       "  <tbody>\n",
       "    <tr>\n",
       "      <th>0</th>\n",
       "      <td>CLG0030</td>\n",
       "      <td>107</td>\n",
       "      <td>6.61</td>\n",
       "      <td>6.28</td>\n",
       "      <td>8</td>\n",
       "      <td>No</td>\n",
       "      <td>8</td>\n",
       "      <td>8</td>\n",
       "      <td>4</td>\n",
       "      <td>No</td>\n",
       "    </tr>\n",
       "    <tr>\n",
       "      <th>1</th>\n",
       "      <td>CLG0061</td>\n",
       "      <td>97</td>\n",
       "      <td>5.52</td>\n",
       "      <td>5.37</td>\n",
       "      <td>8</td>\n",
       "      <td>No</td>\n",
       "      <td>7</td>\n",
       "      <td>8</td>\n",
       "      <td>0</td>\n",
       "      <td>No</td>\n",
       "    </tr>\n",
       "    <tr>\n",
       "      <th>2</th>\n",
       "      <td>CLG0036</td>\n",
       "      <td>109</td>\n",
       "      <td>5.36</td>\n",
       "      <td>5.83</td>\n",
       "      <td>9</td>\n",
       "      <td>No</td>\n",
       "      <td>3</td>\n",
       "      <td>1</td>\n",
       "      <td>1</td>\n",
       "      <td>No</td>\n",
       "    </tr>\n",
       "    <tr>\n",
       "      <th>3</th>\n",
       "      <td>CLG0055</td>\n",
       "      <td>122</td>\n",
       "      <td>5.47</td>\n",
       "      <td>5.75</td>\n",
       "      <td>6</td>\n",
       "      <td>Yes</td>\n",
       "      <td>1</td>\n",
       "      <td>6</td>\n",
       "      <td>1</td>\n",
       "      <td>No</td>\n",
       "    </tr>\n",
       "    <tr>\n",
       "      <th>4</th>\n",
       "      <td>CLG0004</td>\n",
       "      <td>96</td>\n",
       "      <td>7.91</td>\n",
       "      <td>7.69</td>\n",
       "      <td>7</td>\n",
       "      <td>No</td>\n",
       "      <td>8</td>\n",
       "      <td>10</td>\n",
       "      <td>2</td>\n",
       "      <td>No</td>\n",
       "    </tr>\n",
       "  </tbody>\n",
       "</table>\n",
       "</div>"
      ],
      "text/plain": [
       "  College_ID   IQ  Prev_Sem_Result  CGPA  Academic_Performance  \\\n",
       "0    CLG0030  107             6.61  6.28                     8   \n",
       "1    CLG0061   97             5.52  5.37                     8   \n",
       "2    CLG0036  109             5.36  5.83                     9   \n",
       "3    CLG0055  122             5.47  5.75                     6   \n",
       "4    CLG0004   96             7.91  7.69                     7   \n",
       "\n",
       "  Internship_Experience  Extra_Curricular_Score  Communication_Skills  \\\n",
       "0                    No                       8                     8   \n",
       "1                    No                       7                     8   \n",
       "2                    No                       3                     1   \n",
       "3                   Yes                       1                     6   \n",
       "4                    No                       8                    10   \n",
       "\n",
       "   Projects_Completed Placement  \n",
       "0                   4        No  \n",
       "1                   0        No  \n",
       "2                   1        No  \n",
       "3                   1        No  \n",
       "4                   2        No  "
      ]
     },
     "execution_count": 30,
     "metadata": {},
     "output_type": "execute_result"
    }
   ],
   "source": [
    "# Previewing dataset\n",
    "df.head()"
   ]
  },
  {
   "cell_type": "code",
   "execution_count": 31,
   "id": "09c1dd5d",
   "metadata": {},
   "outputs": [
    {
     "name": "stdout",
     "output_type": "stream",
     "text": [
      "<class 'pandas.core.frame.DataFrame'>\n",
      "RangeIndex: 10000 entries, 0 to 9999\n",
      "Data columns (total 10 columns):\n",
      " #   Column                  Non-Null Count  Dtype  \n",
      "---  ------                  --------------  -----  \n",
      " 0   College_ID              10000 non-null  object \n",
      " 1   IQ                      10000 non-null  int64  \n",
      " 2   Prev_Sem_Result         10000 non-null  float64\n",
      " 3   CGPA                    10000 non-null  float64\n",
      " 4   Academic_Performance    10000 non-null  int64  \n",
      " 5   Internship_Experience   10000 non-null  object \n",
      " 6   Extra_Curricular_Score  10000 non-null  int64  \n",
      " 7   Communication_Skills    10000 non-null  int64  \n",
      " 8   Projects_Completed      10000 non-null  int64  \n",
      " 9   Placement               10000 non-null  object \n",
      "dtypes: float64(2), int64(5), object(3)\n",
      "memory usage: 781.4+ KB\n"
     ]
    }
   ],
   "source": [
    "df.info()"
   ]
  },
  {
   "cell_type": "code",
   "execution_count": 32,
   "id": "0db01a0e",
   "metadata": {},
   "outputs": [
    {
     "name": "stdout",
     "output_type": "stream",
     "text": [
      "Duplicate rows: 0\n"
     ]
    },
    {
     "data": {
      "text/plain": [
       "College_ID                0\n",
       "IQ                        0\n",
       "Prev_Sem_Result           0\n",
       "CGPA                      0\n",
       "Academic_Performance      0\n",
       "Internship_Experience     0\n",
       "Extra_Curricular_Score    0\n",
       "Communication_Skills      0\n",
       "Projects_Completed        0\n",
       "Placement                 0\n",
       "dtype: int64"
      ]
     },
     "execution_count": 32,
     "metadata": {},
     "output_type": "execute_result"
    }
   ],
   "source": [
    "\n",
    "# Check for duplicates\n",
    "print(\"Duplicate rows:\", df.duplicated().sum())\n",
    "\n",
    "\n",
    "# Checking missed values\n",
    "df.isnull().sum().sort_values(ascending=False)"
   ]
  },
  {
   "cell_type": "markdown",
   "id": "8aa62e1c",
   "metadata": {},
   "source": [
    "### Handling Missing Values & Duplicates"
   ]
  },
  {
   "cell_type": "code",
   "execution_count": 33,
   "id": "2fdf362b",
   "metadata": {},
   "outputs": [],
   "source": [
    "\n",
    "df.dropna(inplace=True) #drop missing values if exist (but not exist in my case)\n",
    "\n",
    "df = df.drop_duplicates() #Removing if any duplicate (But no duplicate in my case)"
   ]
  },
  {
   "cell_type": "markdown",
   "id": "cc708fc9",
   "metadata": {},
   "source": [
    "### Encoding Categorical Features"
   ]
  },
  {
   "cell_type": "code",
   "execution_count": 34,
   "id": "1fd52d7d",
   "metadata": {},
   "outputs": [
    {
     "data": {
      "text/html": [
       "<div>\n",
       "<style scoped>\n",
       "    .dataframe tbody tr th:only-of-type {\n",
       "        vertical-align: middle;\n",
       "    }\n",
       "\n",
       "    .dataframe tbody tr th {\n",
       "        vertical-align: top;\n",
       "    }\n",
       "\n",
       "    .dataframe thead th {\n",
       "        text-align: right;\n",
       "    }\n",
       "</style>\n",
       "<table border=\"1\" class=\"dataframe\">\n",
       "  <thead>\n",
       "    <tr style=\"text-align: right;\">\n",
       "      <th></th>\n",
       "      <th>College_ID</th>\n",
       "      <th>IQ</th>\n",
       "      <th>Prev_Sem_Result</th>\n",
       "      <th>CGPA</th>\n",
       "      <th>Academic_Performance</th>\n",
       "      <th>Internship_Experience</th>\n",
       "      <th>Extra_Curricular_Score</th>\n",
       "      <th>Communication_Skills</th>\n",
       "      <th>Projects_Completed</th>\n",
       "      <th>Placement</th>\n",
       "    </tr>\n",
       "  </thead>\n",
       "  <tbody>\n",
       "    <tr>\n",
       "      <th>0</th>\n",
       "      <td>CLG0030</td>\n",
       "      <td>107</td>\n",
       "      <td>6.61</td>\n",
       "      <td>6.28</td>\n",
       "      <td>8</td>\n",
       "      <td>0</td>\n",
       "      <td>8</td>\n",
       "      <td>8</td>\n",
       "      <td>4</td>\n",
       "      <td>0</td>\n",
       "    </tr>\n",
       "    <tr>\n",
       "      <th>1</th>\n",
       "      <td>CLG0061</td>\n",
       "      <td>97</td>\n",
       "      <td>5.52</td>\n",
       "      <td>5.37</td>\n",
       "      <td>8</td>\n",
       "      <td>0</td>\n",
       "      <td>7</td>\n",
       "      <td>8</td>\n",
       "      <td>0</td>\n",
       "      <td>0</td>\n",
       "    </tr>\n",
       "    <tr>\n",
       "      <th>2</th>\n",
       "      <td>CLG0036</td>\n",
       "      <td>109</td>\n",
       "      <td>5.36</td>\n",
       "      <td>5.83</td>\n",
       "      <td>9</td>\n",
       "      <td>0</td>\n",
       "      <td>3</td>\n",
       "      <td>1</td>\n",
       "      <td>1</td>\n",
       "      <td>0</td>\n",
       "    </tr>\n",
       "    <tr>\n",
       "      <th>3</th>\n",
       "      <td>CLG0055</td>\n",
       "      <td>122</td>\n",
       "      <td>5.47</td>\n",
       "      <td>5.75</td>\n",
       "      <td>6</td>\n",
       "      <td>1</td>\n",
       "      <td>1</td>\n",
       "      <td>6</td>\n",
       "      <td>1</td>\n",
       "      <td>0</td>\n",
       "    </tr>\n",
       "    <tr>\n",
       "      <th>4</th>\n",
       "      <td>CLG0004</td>\n",
       "      <td>96</td>\n",
       "      <td>7.91</td>\n",
       "      <td>7.69</td>\n",
       "      <td>7</td>\n",
       "      <td>0</td>\n",
       "      <td>8</td>\n",
       "      <td>10</td>\n",
       "      <td>2</td>\n",
       "      <td>0</td>\n",
       "    </tr>\n",
       "  </tbody>\n",
       "</table>\n",
       "</div>"
      ],
      "text/plain": [
       "  College_ID   IQ  Prev_Sem_Result  CGPA  Academic_Performance  \\\n",
       "0    CLG0030  107             6.61  6.28                     8   \n",
       "1    CLG0061   97             5.52  5.37                     8   \n",
       "2    CLG0036  109             5.36  5.83                     9   \n",
       "3    CLG0055  122             5.47  5.75                     6   \n",
       "4    CLG0004   96             7.91  7.69                     7   \n",
       "\n",
       "   Internship_Experience  Extra_Curricular_Score  Communication_Skills  \\\n",
       "0                      0                       8                     8   \n",
       "1                      0                       7                     8   \n",
       "2                      0                       3                     1   \n",
       "3                      1                       1                     6   \n",
       "4                      0                       8                    10   \n",
       "\n",
       "   Projects_Completed  Placement  \n",
       "0                   4          0  \n",
       "1                   0          0  \n",
       "2                   1          0  \n",
       "3                   1          0  \n",
       "4                   2          0  "
      ]
     },
     "execution_count": 34,
     "metadata": {},
     "output_type": "execute_result"
    }
   ],
   "source": [
    "\n",
    "#Removing Extra spaces of columns\n",
    "df['Internship_Experience'] = df['Internship_Experience'].str.strip()\n",
    "df['Placement'] = df['Placement'].str.strip()\n",
    "\n",
    "# Converting 'Yes'/'No' to 1/0 for Internship Experience\n",
    "df['Internship_Experience'] = df['Internship_Experience'].map({'Yes':1 ,'No':0})\n",
    "\n",
    "\n",
    "# Converting 'Yes'/'No' to 1/0 for Placement\n",
    "df['Placement'] = df['Placement'].map( {'Yes':1,'No':0})    \n",
    "\n",
    "df.head()                                                    "
   ]
  },
  {
   "cell_type": "markdown",
   "id": "5a530461",
   "metadata": {},
   "source": [
    "### Dropping not useful data"
   ]
  },
  {
   "cell_type": "code",
   "execution_count": 35,
   "id": "f7d3540b",
   "metadata": {},
   "outputs": [],
   "source": [
    "df = df.drop('College_ID', axis = 1)\n"
   ]
  },
  {
   "cell_type": "markdown",
   "id": "8c4d323c",
   "metadata": {},
   "source": [
    "## 2 - Exploratory Data Analysis"
   ]
  },
  {
   "cell_type": "markdown",
   "id": "0329c566",
   "metadata": {},
   "source": [
    "### Basic statistics"
   ]
  },
  {
   "cell_type": "code",
   "execution_count": 36,
   "id": "88f88a87",
   "metadata": {},
   "outputs": [
    {
     "data": {
      "text/html": [
       "<div>\n",
       "<style scoped>\n",
       "    .dataframe tbody tr th:only-of-type {\n",
       "        vertical-align: middle;\n",
       "    }\n",
       "\n",
       "    .dataframe tbody tr th {\n",
       "        vertical-align: top;\n",
       "    }\n",
       "\n",
       "    .dataframe thead th {\n",
       "        text-align: right;\n",
       "    }\n",
       "</style>\n",
       "<table border=\"1\" class=\"dataframe\">\n",
       "  <thead>\n",
       "    <tr style=\"text-align: right;\">\n",
       "      <th></th>\n",
       "      <th>IQ</th>\n",
       "      <th>Prev_Sem_Result</th>\n",
       "      <th>CGPA</th>\n",
       "      <th>Academic_Performance</th>\n",
       "      <th>Internship_Experience</th>\n",
       "      <th>Extra_Curricular_Score</th>\n",
       "      <th>Communication_Skills</th>\n",
       "      <th>Projects_Completed</th>\n",
       "      <th>Placement</th>\n",
       "    </tr>\n",
       "  </thead>\n",
       "  <tbody>\n",
       "    <tr>\n",
       "      <th>count</th>\n",
       "      <td>10000.000000</td>\n",
       "      <td>10000.000000</td>\n",
       "      <td>10000.000000</td>\n",
       "      <td>10000.000000</td>\n",
       "      <td>10000.000000</td>\n",
       "      <td>10000.000000</td>\n",
       "      <td>10000.000000</td>\n",
       "      <td>10000.000000</td>\n",
       "      <td>10000.000000</td>\n",
       "    </tr>\n",
       "    <tr>\n",
       "      <th>mean</th>\n",
       "      <td>99.471800</td>\n",
       "      <td>7.535673</td>\n",
       "      <td>7.532379</td>\n",
       "      <td>5.546400</td>\n",
       "      <td>0.396400</td>\n",
       "      <td>4.970900</td>\n",
       "      <td>5.561800</td>\n",
       "      <td>2.513400</td>\n",
       "      <td>0.165900</td>\n",
       "    </tr>\n",
       "    <tr>\n",
       "      <th>std</th>\n",
       "      <td>15.053101</td>\n",
       "      <td>1.447519</td>\n",
       "      <td>1.470141</td>\n",
       "      <td>2.873477</td>\n",
       "      <td>0.489174</td>\n",
       "      <td>3.160103</td>\n",
       "      <td>2.900866</td>\n",
       "      <td>1.715959</td>\n",
       "      <td>0.372009</td>\n",
       "    </tr>\n",
       "    <tr>\n",
       "      <th>min</th>\n",
       "      <td>41.000000</td>\n",
       "      <td>5.000000</td>\n",
       "      <td>4.540000</td>\n",
       "      <td>1.000000</td>\n",
       "      <td>0.000000</td>\n",
       "      <td>0.000000</td>\n",
       "      <td>1.000000</td>\n",
       "      <td>0.000000</td>\n",
       "      <td>0.000000</td>\n",
       "    </tr>\n",
       "    <tr>\n",
       "      <th>25%</th>\n",
       "      <td>89.000000</td>\n",
       "      <td>6.290000</td>\n",
       "      <td>6.290000</td>\n",
       "      <td>3.000000</td>\n",
       "      <td>0.000000</td>\n",
       "      <td>2.000000</td>\n",
       "      <td>3.000000</td>\n",
       "      <td>1.000000</td>\n",
       "      <td>0.000000</td>\n",
       "    </tr>\n",
       "    <tr>\n",
       "      <th>50%</th>\n",
       "      <td>99.000000</td>\n",
       "      <td>7.560000</td>\n",
       "      <td>7.550000</td>\n",
       "      <td>6.000000</td>\n",
       "      <td>0.000000</td>\n",
       "      <td>5.000000</td>\n",
       "      <td>6.000000</td>\n",
       "      <td>3.000000</td>\n",
       "      <td>0.000000</td>\n",
       "    </tr>\n",
       "    <tr>\n",
       "      <th>75%</th>\n",
       "      <td>110.000000</td>\n",
       "      <td>8.790000</td>\n",
       "      <td>8.770000</td>\n",
       "      <td>8.000000</td>\n",
       "      <td>1.000000</td>\n",
       "      <td>8.000000</td>\n",
       "      <td>8.000000</td>\n",
       "      <td>4.000000</td>\n",
       "      <td>0.000000</td>\n",
       "    </tr>\n",
       "    <tr>\n",
       "      <th>max</th>\n",
       "      <td>158.000000</td>\n",
       "      <td>10.000000</td>\n",
       "      <td>10.460000</td>\n",
       "      <td>10.000000</td>\n",
       "      <td>1.000000</td>\n",
       "      <td>10.000000</td>\n",
       "      <td>10.000000</td>\n",
       "      <td>5.000000</td>\n",
       "      <td>1.000000</td>\n",
       "    </tr>\n",
       "  </tbody>\n",
       "</table>\n",
       "</div>"
      ],
      "text/plain": [
       "                 IQ  Prev_Sem_Result          CGPA  Academic_Performance  \\\n",
       "count  10000.000000     10000.000000  10000.000000          10000.000000   \n",
       "mean      99.471800         7.535673      7.532379              5.546400   \n",
       "std       15.053101         1.447519      1.470141              2.873477   \n",
       "min       41.000000         5.000000      4.540000              1.000000   \n",
       "25%       89.000000         6.290000      6.290000              3.000000   \n",
       "50%       99.000000         7.560000      7.550000              6.000000   \n",
       "75%      110.000000         8.790000      8.770000              8.000000   \n",
       "max      158.000000        10.000000     10.460000             10.000000   \n",
       "\n",
       "       Internship_Experience  Extra_Curricular_Score  Communication_Skills  \\\n",
       "count           10000.000000            10000.000000          10000.000000   \n",
       "mean                0.396400                4.970900              5.561800   \n",
       "std                 0.489174                3.160103              2.900866   \n",
       "min                 0.000000                0.000000              1.000000   \n",
       "25%                 0.000000                2.000000              3.000000   \n",
       "50%                 0.000000                5.000000              6.000000   \n",
       "75%                 1.000000                8.000000              8.000000   \n",
       "max                 1.000000               10.000000             10.000000   \n",
       "\n",
       "       Projects_Completed     Placement  \n",
       "count        10000.000000  10000.000000  \n",
       "mean             2.513400      0.165900  \n",
       "std              1.715959      0.372009  \n",
       "min              0.000000      0.000000  \n",
       "25%              1.000000      0.000000  \n",
       "50%              3.000000      0.000000  \n",
       "75%              4.000000      0.000000  \n",
       "max              5.000000      1.000000  "
      ]
     },
     "execution_count": 36,
     "metadata": {},
     "output_type": "execute_result"
    }
   ],
   "source": [
    "import numpy as np \n",
    "# Showing summary statistics for all columns\n",
    "df.describe()"
   ]
  },
  {
   "cell_type": "markdown",
   "id": "65572021",
   "metadata": {},
   "source": [
    "### Visualization"
   ]
  },
  {
   "cell_type": "code",
   "execution_count": 37,
   "id": "fd8c128a",
   "metadata": {},
   "outputs": [
    {
     "data": {
      "text/plain": [
       "Text(0.5, 1.0, 'Placement Count')"
      ]
     },
     "execution_count": 37,
     "metadata": {},
     "output_type": "execute_result"
    },
    {
     "data": {
      "image/png": "[encoded data removed]",
      "text/plain": [
       "<Figure size 640x480 with 1 Axes>"
      ]
     },
     "metadata": {},
     "output_type": "display_data"
    }
   ],
   "source": [
    "import matplotlib.pyplot as plt\n",
    "import seaborn as sns\n",
    "\n",
    "#Count of students plaved vs  not placed\n",
    "sns.countplot(x='Placement', data=df)\n",
    "plt.title('Placement Count')"
   ]
  },
  {
   "cell_type": "markdown",
   "id": "04a9e185",
   "metadata": {},
   "source": [
    "### Interactive Plot (Plotly)"
   ]
  },
  {
   "cell_type": "code",
   "execution_count": 38,
   "id": "819c207d",
   "metadata": {},
   "outputs": [
    {
     "data": {
      "application/vnd.plotly.v1+json": {
       "config": {
        "plotlyServerURL": "https://plot.ly"
       },
       "data": [
        {
         "alignmentgroup": "True",
         "hovertemplate": "Internship_Experience=%{marker.color}<br>Placement=%{y}<extra></extra>",
         "legendgroup": "",
         "marker": {
          "color": {
           "bdata": "AAAAAQAAAAAAAAEAAQAAAAABAAEBAQEBAQAAAAEBAQAAAAEBAQABAAAAAAEBAQEBAAEAAQEAAAAAAAABAAAAAAAAAQEAAAEAAAABAAAAAQAAAAAAAAAAAQABAQAAAQAAAAEAAQEAAAAAAQAAAQABAAEAAQEAAAAAAAEAAAAAAAAAAAAAAQEAAQAAAAABAAABAAEAAAEAAAABAAAAAQAAAQAAAQEBAQEBAQEBAAAAAQEBAQAAAQAAAAEBAAEAAQEBAQABAQABAQEBAAEAAAAAAQAAAAABAQEAAAAAAQEAAAABAAEBAQABAQAAAQEAAAAAAQAAAAABAQEBAAAAAQABAQABAAEAAAAAAQEAAAAAAAAAAAAAAAABAQABAQAAAQABAAAAAQEBAQAAAQEBAAEBAQABAAABAQAAAQEBAAAAAQAAAQAAAQEBAAAAAQABAQEBAAEBAAABAQEAAAABAAABAAAAAAAAAAABAAEBAAAAAAAAAAEAAAAAAAEBAAABAAABAAEAAAAAAAABAAABAAEAAQEAAAAAAQEBAAEAAQEBAAEBAAEAAAEAAAABAQABAAABAAEBAAEAAAAAAQAAAQEAAQAAAQABAQABAAAAAQAAAAEAAAABAQEBAQAAAQABAAEBAQAAAAAAAAABAQAAAQABAAEBAAAAAAAAAQEAAAABAAABAAAAAQABAAEAAAAAAQEAAAAAAQEBAAAAAAAAAQAAAQAAAAEAAAABAQAAAAAAAQEBAQAAAAEBAQABAAAAAQAAAQEAAQEBAQEAAAABAQEAAQABAAABAAAAAAEAAQEBAQEAAAAAAAEBAAABAQEAAAAAAAAAAAEAAQABAQAAAQAAAQEAAQABAQEBAAABAQABAAEBAQEAAQEAAAABAQAAAAEBAAABAAEAAAAAAQEAAQAAAQABAQAAAQEAAQAAAQABAAEBAAAAAQABAAEAAQEAAAEAAQAAAAABAAABAQAAAQABAAAAAQAAAQAAAAAAAAEAAAAAAAAAAQAAAQABAAAAAAAAAAAAAAEAAAABAQEAAAAAAQAAAQABAAAAAAAAAAAAAQAAAAAAAAABAAABAAABAAEBAAEAAAAAAQAAAQEAAAABAAEAAAEBAAEAAQABAAABAQAAAQEBAAAAAAEBAAAAAAEAAQAAAAEAAQEAAAABAAEBAAEBAQEAAAABAAAAAAABAAEBAQABAAEAAQAAAQABAAABAAEAAAAAAAAAAAAAAAEBAAABAAAAAAEBAAAAAAEAAQABAQAAAAABAAAAAAEBAAEAAQABAAABAAEAAAABAQAAAQAAAQAAAAEAAQEAAQEAAAAAAAABAAEAAAEAAAAAAAAAAAABAAEBAAAAAQAAAAAAAAABAQABAQEBAQEBAAEAAAABAQEAAAEAAQEAAAABAAABAAABAAAAAQAAAQAAAAABAQAAAQAAAQEAAAABAAEAAAEAAQAAAAABAAABAAAAAAAAAAABAQAAAAABAAABAQEAAAAAAQABAAEAAQEAAQABAAAAAAAAAQEAAQEAAAEAAQAAAQAAAAABAAABAAABAQAAAQAAAQABAAABAAEAAAEBAQEAAAAAAQEBAQABAAEAAQABAQEBAQEAAQAAAAAAAQEAAQAAAAEBAQAAAAEBAAEBAQEAAQABAAABAQEAAAABAAEBAAABAQAAAAEAAQABAQAAAQAAAQAAAQAAAAAAAQAAAQABAAAAAQAAAAEAAQAAAAAAAAABAAEAAQEAAAEBAQABAAEAAAEBAAAAAAEBAQEAAAABAQEAAAEAAAABAAEAAQAAAAEAAAEAAQABAAEBAAAAAQABAQAAAQEBAAAAAAAAAAABAQABAQEAAAEAAAAAAQEAAAAAAQABAQAAAAAAAQEAAAEAAAAAAAAAAAEAAQEBAQEAAAEAAAEAAAABAAAAAAABAAAAAAEAAAEBAAAAAAEAAAABAAEBAAEAAAABAQAAAQABAAABAAAAAQEAAAEBAAABAQAAAQAAAAEBAQEBAQEAAAEAAAEBAAEAAAEAAQEAAAEBAAAAAQEAAQEAAQEBAAAAAAAAAQABAAABAAABAQEAAAABAQAAAAEBAAEBAQABAQEBAAAAAQEBAQAAAQEBAAAAAAABAAAAAQEBAQAAAAAAAQEAAQAAAAABAAAAAAEBAAEBAAAAAAAAAAEBAQABAAAAAAABAQEBAQEBAAAAAAEBAQAAAAEAAQAAAAABAAABAAEBAAABAQAAAQABAAEAAAAAAAEAAQAAAQAAAQAAAQABAAAAAAEBAAAAAAAAAAAAAAAAAQAAAAABAAAAAAAAAQAAAQEBAAEAAQAAAQEAAAAAAAABAAABAAAAAQEBAAEBAQAAAAAAAAAAAAAAAQABAQEAAQEBAQAAAAAAAAEAAAAAAAABAAEAAAABAAABAQEAAQAAAAAAAQEBAQAAAAABAAAAAQAAAAEAAQEAAAAAAAEAAAEAAQABAAABAAEAAAEAAAAAAAAAAAEAAQEAAQEBAAEBAAAAAAAAAQAAAQAAAAABAAAAAAEAAQAAAQEBAAEAAAABAAABAAAAAAABAAEBAQABAQEAAAAAAQEBAQAAAQEBAAEAAQAAAQAAAAAAAAAAAQAAAAEBAAABAQABAAEBAQEAAQEAAQEBAAAAAAAAAAEAAAEBAAEAAQABAAAAAAAAAQEBAQAAAAAAAQABAAAAAAEAAAEBAQAAAQABAQEAAAAAAQEBAQAAAQEBAAAAAAEAAAABAAAAAQEAAAAAAQABAAEAAQABAAEAAAEBAAEBAAABAAAAAAAAAAEBAAAAAAABAQAAAQAAAAEAAAEBAQAAAAABAAAAAQEAAAEAAQAAAQEBAQEAAQABAQEAAQABAAAAAAEAAAEBAAEAAQABAAEAAAABAAAAAAEBAAEAAAABAAAAAQEBAQAAAAABAAAAAQAAAAABAQAAAAEAAAEAAQEAAQAAAAEBAAABAQEAAAEAAQAAAAABAAAAAQEBAQEBAAABAQAAAAABAAAAAAAAAAAAAAABAAEBAQEBAQABAQAAAQAAAQAAAAEBAQEBAAAAAQEAAAAAAQEAAAEBAQEAAQAAAAAAAAEBAAEBAAAAAAEBAAABAAAAAAEAAAAAAAEBAAEBAAAAAQEBAAABAQEAAQEBAAEBAQEAAQAAAAEBAAAAAAABAQAAAAAAAAEAAQABAAAAAQEBAAAAAQABAQEBAQABAQEAAQABAAAAAAAAAAAAAAEAAAAAAAAAAAAAAAEBAQAAAAEBAQEAAAAAAAEAAAAAAQABAAABAQAAAAAAAQEAAAABAAAAAAABAAEAAAAAAAAAAQEAAQEAAAAAAQAAAQAAAAAAAAEAAQAAAAABAAEBAAAAAQABAQABAQABAQAAAAEAAAEAAAAAAAABAQAAAAEAAQAAAAEBAAABAAABAQABAQAAAAEAAAEAAAEBAAEAAAABAAABAAABAQEAAAEAAQABAQAAAAAAAAEAAQEAAAAAAQAAAAAAAAEAAAABAAAAAAAAAQEAAQABAQEAAAAAAAEBAAAAAAEBAAEBAQABAQABAQEBAAEAAQAAAAABAAAAAQEAAAAAAQAAAAEAAQAAAAAAAAEAAAEAAQEBAAAAAQEAAQAAAAABAAEAAAABAAAAAAAAAAAAAAEAAAEBAAABAAABAQABAQEBAQEAAAEAAQABAAEAAQEAAAAAAQAAAQAAAQEBAAAAAAEBAAABAQEBAQEBAAAAAAAAAQABAQABAAABAQEAAQABAQAAAAAAAAAAAAABAAEBAAEAAQAAAAABAAEBAAABAAAAAQAAAQEAAAAAAAAAAQEAAAAAAQEAAQAAAQEAAQAAAQAAAAABAAEAAQEAAQAAAAABAAABAQABAAEAAQABAAEAAQAAAQEAAQAAAQABAAABAQAAAQEBAAEAAQABAQABAQABAQEAAQEBAAAAAAAAAAEBAAEAAAEAAAEAAAAAAAAAAQEAAAAAAAEAAAEBAAEAAAEBAAEBAQEAAAEAAQAAAQEAAAAAAAEAAAABAAAAAAAAAQAAAAEBAAAAAAEAAAABAAEBAAAAAAABAAEBAQABAQABAQEAAAEAAAEAAAEBAAEBAAEAAQEAAAAAAAAAAQAAAQEAAAEAAAEBAAEBAQABAQEBAQEBAQEAAAAAAAEAAAEAAAAAAQEBAQABAAEBAAAAAAEAAAEBAAEAAAEBAAABAAABAAABAAABAQABAAAAAAEAAAAAAAEAAQEBAQABAAAAAAAAAAEAAAABAAEAAAEAAQAAAQABAQABAAABAAAAAAAAAAAAAAAAAAEBAAAAAAEBAAEAAQABAQEAAAEBAAABAAEAAQAAAAABAQEAAAEAAQEBAQEAAAAAAAEAAAAAAAABAAEBAAAAAAEAAQAAAAABAAABAAABAAABAAAAAAAAAQABAAABAAAAAQAAAAAAAAABAAAAAAABAQABAQAAAAAAAQAAAAABAAABAAAAAQABAQAAAAAAAAABAAEBAQABAQAAAAAAAAEAAQAAAAAAAAAAAQAAAAEAAAABAAABAAEBAQEAAAAAAAEAAAEBAAABAAEAAAAAAQABAQABAAABAQABAAEBAAAAAAAAAAEAAQAAAAAAAAABAQAAAAABAAABAAEAAAEBAAAAAAAAAAEAAQAAAAEAAQABAQEAAAAAAAAAAAAAAQEAAQEAAAABAAAAAQABAQEBAAABAAEAAQEBAAEAAQABAQAAAAABAQAAAAAAAAABAQAAAAAAAQEBAAAAAAEBAAEAAQEBAAEBAQEAAAABAAABAAEAAAEAAAABAAAAAAEAAAEAAQAAAAAAAAABAAABAAAAAAABAQAAAAABAAEAAAABAQEBAQABAAEAAQAAAAAAAAEAAAAAAQAAAAEAAQAAAQAAAQABAQABAAABAQEAAAAAAQEBAAABAAABAQEBAAEAAQAAAQEBAQABAQAAAQABAQEAAAABAAEAAQEAAQAAAQABAAAAAQABAAEBAQAAAQAAAQABAAABAAAAAAAAAAEAAQEAAAEBAQEAAAEBAAEBAQEBAQAAAAAAAQAAAAEAAAABAQABAQABAQABAQABAQEBAAABAQEBAAABAQEAAAEAAAABAQEAAAABAAABAAAAAQEBAAAAAAAAAAEBAAABAAAAAAEBAAABAQAAAAAAAQABAQABAQAAAAEBAQEAAAAAAAABAAAAAAAAAAEAAAAAAAABAQAAAQABAAEBAAAAAQAAAQAAAAAAAAEAAAAAAAAAAAEAAAAAAQEAAAEAAQEBAQEAAAAAAQAAAAAAAAABAAABAQABAQEAAQAAAAEBAAABAAAAAQAAAQEBAAABAQEBAQEBAAABAQABAQEAAQABAQABAQABAAABAQEAAAAAAAEBAAEAAQEAAAAAAAAAAAABAQABAQAAAQEAAAEAAAAAAAAAAAEAAAAAAQAAAAABAAEAAAEAAQABAAEAAAEAAAABAAEAAQEBAAAAAAAAAAAAAAAAAAEAAQAAAAABAAABAQEAAQEBAAAAAAEAAQEBAQEAAQAAAAAAAQABAAEBAAEAAAAAAQAAAAAAAAAAAAEAAQAAAAAAAQEAAQABAAEBAQEBAAEBAAAAAAAAAQAAAAEBAAEBAQAAAAABAAEAAAEAAAABAQEBAAAAAQEAAAEAAQABAAAAAQABAAABAAABAQAAAQEBAQEAAQEAAQABAAABAAABAAAAAQEAAQAAAAAAAAABAAEBAAAAAAAAAAAAAQAAAAAAAAAAAAEAAQAAAQEAAAAAAAABAQEBAAAAAAABAAABAAABAAEAAAABAAABAQEAAQAAAAAAAQABAAABAAEAAAEAAAEBAQEAAAEBAAABAQAAAQAAAAABAAABAAEAAQAAAAABAAABAAEAAQEAAAABAQAAAQABAAABAQEBAAAAAAEBAQAAAAABAAAAAAEAAAABAQEAAQEAAAEBAQAAAQEBAQAAAQAAAAABAQEBAQAAAAAAAAEAAQAAAQEAAAABAAEAAAEBAQAAAQEBAQAAAAEAAQAAAQEAAAABAQEBAAAAAQEAAAAAAAAAAQAAAAABAAAAAQAAAAEAAAABAQABAAEAAAEBAAABAAABAQAAAQABAAAAAAAAAQABAAAAAQEAAQEAAQEAAQAAAAAAAQEAAAAAAAAAAAAAAAAAAAAAAAEAAQAAAAAAAAAAAAEAAQABAAABAAABAAAAAAEAAAAAAAABAQAAAQAAAQAAAAEBAAABAAAAAAEAAAEAAQAAAAEAAAABAQEBAQABAAEAAAEBAQAAAAEAAAEBAQAAAQABAQABAQABAQAAAAABAQABAAEAAAAAAAAAAAABAQEAAAAAAAEAAAABAAAAAAEBAAEBAAAAAAABAAAAAQAAAAAAAAEBAAEAAAEBAAEBAAAAAAEBAQAAAAEBAQAAAAAAAAEBAAABAQEBAAAAAQAAAAEAAAAAAQEBAQEBAAAAAQEBAAEBAQAAAQAAAQABAAAAAQAAAAABAQABAQABAAAAAAAAAQAAAAEBAAAAAAEBAAEBAAABAAAAAAAAAQABAQEBAAEBAQEBAQABAAABAQAAAAEBAQAAAAAAAQEAAAABAAAAAAEAAAABAAABAQAAAAEBAAEBAQEAAAAAAAEAAAEBAAEAAAAAAAEBAAAAAQAAAAABAAABAQEBAQEAAQAAAQAAAQAAAAAAAQEAAQAAAQEBAAAAAQAAAAEAAAEAAAEAAQABAAEBAQABAQEAAAEAAAABAQABAQABAQABAAAAAAAAAQAAAAEAAQAAAAAAAAABAQAAAAAAAAAAAQABAAEBAQABAAEAAQEBAAEBAQEAAQAAAAEAAAAAAQEAAAEBAQAAAAAAAQABAAEAAAAAAQAAAAABAAAAAAEAAAAAAQAAAAAAAAEAAQEAAAEBAAAAAAABAQAAAQABAAEAAAAAAQABAAEBAAAAAAAAAQAAAQAAAAAAAQEAAAABAAAAAQAAAQABAAAAAQEAAQABAAEAAAEBAAABAAABAQEAAAEAAAEAAAEAAAEBAAAAAQEAAQEAAAEAAQAAAQAAAAABAQAAAAAAAQABAAAAAAEBAAABAAAAAAAAAAABAAAAAQABAAEAAQAAAAEAAQAAAQAAAAEAAAEAAQEBAAEAAQEBAAEBAQEAAAEBAAEAAQABAAEBAAEBAQABAQAAAAAAAQABAQEAAAAAAAAAAAEAAQAAAQEAAAEBAQAAAQAAAQEAAAEAAAEBAQABAQEAAQABAAABAQEBAAEAAQEBAQEAAQAAAAAAAQEAAQABAAAAAAEBAAAAAAEAAAEAAQAAAAEBAAABAQABAQAAAQABAQAAAAEBAQEAAAAAAAEBAAAAAAEBAAAAAAEBAAABAQEAAAABAAEBAAEBAAEAAQAAAQABAAAAAQEBAAABAQEBAAEAAQABAAAAAAEBAAABAAABAQEBAAEAAAAAAAABAQABAQABAAEAAAAAAQEBAAAAAAEBAAABAQAAAAABAAEAAAABAAEBAQABAQEBAAAAAAAAAAEAAQAAAQEAAAABAQAAAAAAAQEAAAEBAAEAAAAAAAEAAAAAAAEAAAABAAABAQAAAAEAAAEAAAAAAQEBAQABAAAAAAABAAAAAQAAAAEAAAAAAAAAAAABAAABAAEBAAABAQEBAQABAQAAAQEBAAEAAQAAAAEBAAAAAAEAAQAAAQAAAAAAAAAAAQEAAAEAAQAAAQEAAAAAAAEAAAEBAAABAAABAQAAAQEBAQEAAAABAAEBAAEBAAABAQAAAAABAQEBAQABAQABAQABAAAAAAEAAQAAAAAAAQAAAAAAAAABAAEAAAEAAQEAAAABAAEBAAEBAAAAAAEAAAAAAAAAAAABAQEAAAABAQEBAQAAAQEAAQABAAAAAAEAAQABAAEBAAABAQEBAQABAQAAAAEAAAAAAQEAAAAAAAAAAQAAAQEAAQABAAAAAAAAAAAAAAEAAAABAQEAAQAAAAAAAQEAAQEBAAABAAAAAQEBAAEBAQAAAAAAAQAAAQABAAEAAQEAAAAAAAABAQEAAAEAAQAAAAEBAAAAAAEAAAAAAAABAQEAAAABAQEAAAAAAQEAAAEAAAAAAQEAAQEAAAAAAQAAAAEAAAAAAAEBAQAAAAAAAAAAAAEBAAABAQAAAAABAAAAAQAAAQABAQABAQAAAAEBAAAAAAAAAQEAAAEAAQABAAEAAQAAAQEAAQABAQEBAAAAAAEAAQEBAAAAAAAAAQEAAAEBAQAAAAABAAABAAAAAAEAAQEAAQEAAAEBAAABAQEBAQAAAAEBAQEAAAABAAAAAAEBAAAAAAABAQEBAQEBAQEAAAAAAAAAAAAAAQAAAAAAAAAAAAEBAAABAQAAAQEAAAABAAAAAAEBAAEAAAEBAQABAAEAAAAAAQEBAAEAAAAAAQEAAAABAAAAAQEBAAEAAQAAAQAAAQAAAAAAAAABAQAAAAABAAEAAAAAAAAAAAAAAQABAQABAAABAAAAAQABAAAAAAAAAAABAQEBAAEAAAAAAAABAQAAAQAAAAAAAAAAAAABAAAAAQABAAAAAAABAAABAQAAAAAAAAAAAAEBAAEAAQEBAQEBAAEBAAABAQEAAAEAAAEBAQAAAQAAAAAAAQAAAQEBAAAAAAEAAAAAAAAAAAEAAQEBAAAAAAAAAAEAAAEBAAAAAAABAAAAAAEAAQABAAEAAAAAAAAAAAAAAAABAAABAAAAAQEAAAEAAQAAAAAAAAEBAAEBAQAAAAEBAQAAAQEAAAEAAAEAAQEBAAAAAAEAAQEAAAAAAAAAAQABAAEBAAEBAQABAQAAAAABAAAAAQAAAAEBAAEAAQEAAAABAAEAAQAAAAAAAQEBAAEBAAEAAAEAAAAAAQEAAAEAAAABAQAAAAAAAAEAAAABAAAAAAEAAAAAAQEBAAABAQEAAQEAAAAAAAEAAAABAQABAAEAAAAAAAEBAQAAAQAAAQEBAAABAAAAAQABAAABAAAAAAAAAQAAAAEAAAAAAQEAAQAAAAAAAQEAAAAAAAABAAEAAAEAAAABAAABAQABAAABAAABAAEBAQEAAAEBAAEBAAAAAQAAAAEAAQABAAEAAQAAAAEAAQAAAAEBAAEAAAAAAAEAAQEBAQAAAQABAQEAAAAAAAAAAAABAQABAAAAAQAAAAAAAAEBAAEAAAEBAAEAAAABAQAAAAABAAABAQABAAEAAAEAAQEAAAAAAAEBAAEAAAAAAAAAAAEAAAABAAAAAQABAAEAAQAAAAABAQEAAAAAAAEBAQEAAAEAAAEAAQABAAAAAAABAQEBAAEAAQEAAQEBAQAAAAAAAQEBAQABAQAAAAEAAQABAAABAAEBAQABAQAAAAABAAABAQABAAAAAQABAQABAAAAAAAAAAAAAAEBAAEBAAEBAAABAAABAQAAAQEBAQAAAAEBAAAAAQAAAAEAAAABAAABAQAAAAAAAAEAAQABAQAAAQEAAAAAAQEAAAABAAAAAAEBAAEBAQABAQABAAAAAQAAAQEAAAEBAAAAAAAAAAEBAAAAAAAAAAEBAQAAAQAAAQEBAAEAAAABAQAAAAAAAQAAAQEBAAEAAQEAAAABAQEAAAEBAAABAAABAAAAAAAAAAAAAQEAAAABAAEAAAAAAQABAQABAAABAAABAQABAAABAAAAAAAAAAEAAAEBAAAAAQABAQEBAAEBAQAAAAAAAAEAAAEAAAAAAAABAAABAAAAAAAAAAEAAAAAAQAAAQEAAQABAAEBAQAAAAAAAAEAAQEBAQAAAAAAAQABAAABAQAAAAAAAAEAAQAAAAEAAQAAAAEAAQEAAQEBAAABAQAAAQAAAAEAAQEBAAAAAAAAAQEBAQAAAAAAAAEBAQAAAAAAAQAAAQEAAQAAAQAAAQAAAAABAAEBAAEBAAABAAEAAAAAAQEAAAAAAQAAAQAAAAAAAAEAAAABAAAAAQAAAAEAAAEBAAABAAAAAAAAAAAAAAAAAQEAAQEAAAAAAAAAAQAAAQAAAQEAAQABAAEBAQEAAQABAAABAAAAAAABAAABAQAAAAAAAAAAAQEAAAABAAABAAABAAAAAAAAAAEAAQABAAAAAQAAAQEBAQAAAQABAQABAQEAAQEAAAABAQEAAAAAAQAAAQABAQAAAAEAAQEBAAAAAAEAAAABAAABAQEAAQAAAAAAAAAAAAEBAAAAAAEBAAAAAQEBAQEAAAAAAAAAAAAAAAABAAEAAAAAAAAAAAEBAAABAQEAAAAAAAEBAAAAAQEBAAABAAABAAEAAQAAAAAAAAEAAAEAAQABAAEBAAABAAEAAQEAAQEAAAEBAAAAAAABAAEAAQEBAAAAAAEAAQEAAAAAAQAAAAEAAQABAAAAAAEBAQEAAAEAAAAAAAAAAAAAAQABAAAAAAABAQAAAAAAAQEAAQEBAQABAQEAAAABAQABAAABAQEBAQEAAQEAAAAAAAAAAQABAAEAAAEAAAEBAQEBAAAAAAAAAAEAAAEAAAEBAAABAAAAAAEBAQABAAABAAABAAEAAAABAQAAAAAAAAABAAAAAAEAAAEAAAEAAAEAAQABAQAAAAEAAQABAQABAAEBAQAAAAAAAQEAAAEAAAEBAAEAAAEBAAEAAAEBAAAAAQAAAAEAAQAAAAAAAAEBAAABAAEAAAABAAEBAQAAAQABAQAAAQEAAAEBAQABAQEBAAEBAQAAAAEAAQEAAAAAAAABAAABAQABAQAAAQEAAQABAQAAAAABAAEBAQAAAQEAAAAAAQEBAQEAAAAAAQEAAQEBAQEAAAEAAQEBAQEAAQEAAAABAQEAAQEAAAAAAAEAAAEBAQEAAAABAAEAAAEAAQABAQABAAAAAAEBAAEBAAAAAQAAAAABAAABAAAAAAAAAAAAAAAAAAABAQAAAAAAAAABAQEAAQAAAQEBAQEAAAABAAEBAAABAAEBAAEAAAEAAAABAQEAAQEAAAABAAEBAQABAAAAAAEAAQABAAEBAQEAAAABAQAAAAABAQEAAAEAAAABAQAAAAEAAAEAAAABAAEAAAEAAQAAAAEBAQAAAAABAAEAAQAAAAEAAAAAAQEAAAABAAEBAQAAAQAAAAEBAAABAQEAAQAAAAEBAQABAQEAAQEAAAEAAQEAAAAAAQAAAAEBAAABAAAAAAAAAAAAAAABAAABAAEAAAEBAQABAQEAAAEAAQEBAAAAAAABAAEBAQEAAAEBAAAAAAAAAAEAAAAAAAAAAQABAAEAAQEBAAABAQEBAAEAAQABAAABAQEAAQAAAAABAAAAAAAAAAAAAAAAAQABAAEAAQABAAAAAQAAAQABAAEBAQAAAAABAQAAAAAAAQEAAQEBAQAAAAAAAAABAQEAAQAAAQABAAABAQEAAQAAAQABAAEAAAAAAQAAAQAAAAABAQABAAAAAAEAAQAAAAABAAEAAAEBAQAAAAABAAABAAAAAAAAAQEAAQAAAAAAAQABAAAAAQAAAQAAAAAAAAAAAQEAAAABAQABAQAAAAAAAQABAAABAAEBAAABAAEAAAEBAQAAAAAAAAAAAQEAAAEAAQEBAAEBAQEBAQAAAAABAQABAAAAAAABAQEAAAEAAQAAAAAAAAABAQAAAQEBAQEAAQAAAAEAAQABAAAAAQAAAAEAAQABAAAAAQABAAABAAEAAAABAQAAAQEAAAEAAAEAAAAAAQAAAAAAAQEAAAABAQABAAEAAAAAAAAAAAEAAQEAAQEAAAABAAABAAEBAQEAAAAAAQEBAAABAAEAAAEBAQEAAAAAAQABAAABAQEBAAEBAQAAAAEAAQEAAAEBAAABAAEBAAEBAAEAAQEBAAABAAAAAQEAAAEAAQEBAAABAAAAAQAAAAAAAAABAQAAAQEBAQEBAAEAAAAAAQEAAQAAAAABAQEAAAAAAAEAAQAAAQAAAQAAAAAAAAEBAAAAAAABAQAAAQAAAQAAAAABAAEBAAEAAAAAAQEBAAABAAEAAQEBAQABAQAAAQAAAAEAAQAAAAEAAAEAAQEBAAEAAAAAAQEBAAABAAAAAQEAAAAAAQEAAAAAAAABAQAAAAABAQEAAQEBAAABAQAAAAEAAAAAAQEBAQAAAAAAAAAAAQABAAAAAQEBAQEAAAEBAAAAAAEAAAEAAQAAAAEBAAEAAAABAAABAAABAAEAAAABAAEAAQAAAQAAAAABAQAAAAEAAAEAAQAAAAEBAAEAAAABAAAAAQABAAAAAQEAAAAAAAABAQABAAABAQAAAAABAQAAAAEAAAAAAQEBAQEAAQAAAAEAAAEAAQEAAAAAAAABAQEBAAABAAEAAQEBAAEBAAAAAAEBAAABAAABAQABAAAAAAABAQEBAAEAAAAAAAAAAAABAAAAAQABAAAAAAEBAAEAAAEBAAABAQEAAAAAAAEAAAAAAQAAAQABAAABAAEBAAABAQAAAQABAAEBAQABAQEBAAAAAQABAQAAAQAAAAEAAAABAQAAAAAAAAABAAAAAAABAQAAAAAAAQEAAAABAAAAAAABAAAAAQEBAQAAAQEBAAAAAQAAAAAAAAEAAAEAAQABAAEAAQAAAAABAQEAAAAAAAEBAAAAAAEBAQAAAAABAQEAAQABAAABAAEBAAABAAEAAAABAAEAAAAAAAEAAQAAAQAAAAABAAEAAAEBAAAAAQABAQAAAQAAAAABAAABAAABAQEAAQAAAAAAAAEBAAEAAAEAAAABAAAAAAEBAQEAAQABAQAAAAAAAAEAAAAAAAABAAAAAQAAAAAAAAABAQAAAAABAAAAAAEAAAAAAQAAAQAAAAEBAQABAQABAAEAAAEAAQEAAQEBAAABAQEBAAABAAABAQEAAAEAAAEAAQEAAAEBAAABAQAAAQEAAQEAAQAAAQEBAAAAAAEAAAABAQAAAAEBAAAAAAAAAAAAAAAAAAEBAQABAAAAAAAAAAEBAAEAAQABAQAAAQEAAQABAQAAAAEAAAABAAEAAQAAAAABAQEAAAEBAAEBAQABAAEBAAEAAAAAAQAAAAAAAQEBAQAAAAAAAAAAAQEAAAAAAAEAAAAAAAEAAAEAAAEAAAEAAQEBAQEAAQAAAQEBAQABAQEAAAEAAAEAAQEAAAAAAQABAAEBAQABAAEBAQEAAAAAAQEAAQAAAAAAAAAAAAEBAQABAQAAAAEBAQEAAQEBAAAAAQABAAABAAEAAAAAAQEAAQEAAAAAAAAAAAABAAAAAQEAAQAAAQAAAQAAAQAAAQEAAQEBAAABAQEBAAABAQAAAQAAAAEBAQABAQEBAAEAAAEAAQEBAQAAAAEAAQAAAQAAAQEBAQAAAAEBAAAAAAABAQEAAAAAAAEAAAEAAAABAQABAQEBAAABAQEAAAEAAQEBAAEBAAABAQABAAEBAQAAAAEAAA==",
           "dtype": "i1"
          },
          "coloraxis": "coloraxis",
          "pattern": {
           "shape": ""
          }
         },
         "name": "",
         "offsetgroup": "",
         "orientation": "v",
         "showlegend": false,
         "textposition": "auto",
         "type": "bar",
         "x": {
          "bdata": "AAAAAQAAAAAAAAEAAQAAAAABAAEBAQEBAQAAAAEBAQAAAAEBAQABAAAAAAEBAQEBAAEAAQEAAAAAAAABAAAAAAAAAQEAAAEAAAABAAAAAQAAAAAAAAAAAQABAQAAAQAAAAEAAQEAAAAAAQAAAQABAAEAAQEAAAAAAAEAAAAAAAAAAAAAAQEAAQAAAAABAAABAAEAAAEAAAABAAAAAQAAAQAAAQEBAQEBAQEBAAAAAQEBAQAAAQAAAAEBAAEAAQEBAQABAQABAQEBAAEAAAAAAQAAAAABAQEAAAAAAQEAAAABAAEBAQABAQAAAQEAAAAAAQAAAAABAQEBAAAAAQABAQABAAEAAAAAAQEAAAAAAAAAAAAAAAABAQABAQAAAQABAAAAAQEBAQAAAQEBAAEBAQABAAABAQAAAQEBAAAAAQAAAQAAAQEBAAAAAQABAQEBAAEBAAABAQEAAAABAAABAAAAAAAAAAABAAEBAAAAAAAAAAEAAAAAAAEBAAABAAABAAEAAAAAAAABAAABAAEAAQEAAAAAAQEBAAEAAQEBAAEBAAEAAAEAAAABAQABAAABAAEBAAEAAAAAAQAAAQEAAQAAAQABAQABAAAAAQAAAAEAAAABAQEBAQAAAQABAAEBAQAAAAAAAAABAQAAAQABAAEBAAAAAAAAAQEAAAABAAABAAAAAQABAAEAAAAAAQEAAAAAAQEBAAAAAAAAAQAAAQAAAAEAAAABAQAAAAAAAQEBAQAAAAEBAQABAAAAAQAAAQEAAQEBAQEAAAABAQEAAQABAAABAAAAAAEAAQEBAQEAAAAAAAEBAAABAQEAAAAAAAAAAAEAAQABAQAAAQAAAQEAAQABAQEBAAABAQABAAEBAQEAAQEAAAABAQAAAAEBAAABAAEAAAAAAQEAAQAAAQABAQAAAQEAAQAAAQABAAEBAAAAAQABAAEAAQEAAAEAAQAAAAABAAABAQAAAQABAAAAAQAAAQAAAAAAAAEAAAAAAAAAAQAAAQABAAAAAAAAAAAAAAEAAAABAQEAAAAAAQAAAQABAAAAAAAAAAAAAQAAAAAAAAABAAABAAABAAEBAAEAAAAAAQAAAQEAAAABAAEAAAEBAAEAAQABAAABAQAAAQEBAAAAAAEBAAAAAAEAAQAAAAEAAQEAAAABAAEBAAEBAQEAAAABAAAAAAABAAEBAQABAAEAAQAAAQABAAABAAEAAAAAAAAAAAAAAAEBAAABAAAAAAEBAAAAAAEAAQABAQAAAAABAAAAAAEBAAEAAQABAAABAAEAAAABAQAAAQAAAQAAAAEAAQEAAQEAAAAAAAABAAEAAAEAAAAAAAAAAAABAAEBAAAAAQAAAAAAAAABAQABAQEBAQEBAAEAAAABAQEAAAEAAQEAAAABAAABAAABAAAAAQAAAQAAAAABAQAAAQAAAQEAAAABAAEAAAEAAQAAAAABAAABAAAAAAAAAAABAQAAAAABAAABAQEAAAAAAQABAAEAAQEAAQABAAAAAAAAAQEAAQEAAAEAAQAAAQAAAAABAAABAAABAQAAAQAAAQABAAABAAEAAAEBAQEAAAAAAQEBAQABAAEAAQABAQEBAQEAAQAAAAAAAQEAAQAAAAEBAQAAAAEBAAEBAQEAAQABAAABAQEAAAABAAEBAAABAQAAAAEAAQABAQAAAQAAAQAAAQAAAAAAAQAAAQABAAAAAQAAAAEAAQAAAAAAAAABAAEAAQEAAAEBAQABAAEAAAEBAAAAAAEBAQEAAAABAQEAAAEAAAABAAEAAQAAAAEAAAEAAQABAAEBAAAAAQABAQAAAQEBAAAAAAAAAAABAQABAQEAAAEAAAAAAQEAAAAAAQABAQAAAAAAAQEAAAEAAAAAAAAAAAEAAQEBAQEAAAEAAAEAAAABAAAAAAABAAAAAAEAAAEBAAAAAAEAAAABAAEBAAEAAAABAQAAAQABAAABAAAAAQEAAAEBAAABAQAAAQAAAAEBAQEBAQEAAAEAAAEBAAEAAAEAAQEAAAEBAAAAAQEAAQEAAQEBAAAAAAAAAQABAAABAAABAQEAAAABAQAAAAEBAAEBAQABAQEBAAAAAQEBAQAAAQEBAAAAAAABAAAAAQEBAQAAAAAAAQEAAQAAAAABAAAAAAEBAAEBAAAAAAAAAAEBAQABAAAAAAABAQEBAQEBAAAAAAEBAQAAAAEAAQAAAAABAAABAAEBAAABAQAAAQABAAEAAAAAAAEAAQAAAQAAAQAAAQABAAAAAAEBAAAAAAAAAAAAAAAAAQAAAAABAAAAAAAAAQAAAQEBAAEAAQAAAQEAAAAAAAABAAABAAAAAQEBAAEBAQAAAAAAAAAAAAAAAQABAQEAAQEBAQAAAAAAAAEAAAAAAAABAAEAAAABAAABAQEAAQAAAAAAAQEBAQAAAAABAAAAAQAAAAEAAQEAAAAAAAEAAAEAAQABAAABAAEAAAEAAAAAAAAAAAEAAQEAAQEBAAEBAAAAAAAAAQAAAQAAAAABAAAAAAEAAQAAAQEBAAEAAAABAAABAAAAAAABAAEBAQABAQEAAAAAAQEBAQAAAQEBAAEAAQAAAQAAAAAAAAAAAQAAAAEBAAABAQABAAEBAQEAAQEAAQEBAAAAAAAAAAEAAAEBAAEAAQABAAAAAAAAAQEBAQAAAAAAAQABAAAAAAEAAAEBAQAAAQABAQEAAAAAAQEBAQAAAQEBAAAAAAEAAAABAAAAAQEAAAAAAQABAAEAAQABAAEAAAEBAAEBAAABAAAAAAAAAAEBAAAAAAABAQAAAQAAAAEAAAEBAQAAAAABAAAAAQEAAAEAAQAAAQEBAQEAAQABAQEAAQABAAAAAAEAAAEBAAEAAQABAAEAAAABAAAAAAEBAAEAAAABAAAAAQEBAQAAAAABAAAAAQAAAAABAQAAAAEAAAEAAQEAAQAAAAEBAAABAQEAAAEAAQAAAAABAAAAAQEBAQEBAAABAQAAAAABAAAAAAAAAAAAAAABAAEBAQEBAQABAQAAAQAAAQAAAAEBAQEBAAAAAQEAAAAAAQEAAAEBAQEAAQAAAAAAAAEBAAEBAAAAAAEBAAABAAAAAAEAAAAAAAEBAAEBAAAAAQEBAAABAQEAAQEBAAEBAQEAAQAAAAEBAAAAAAABAQAAAAAAAAEAAQABAAAAAQEBAAAAAQABAQEBAQABAQEAAQABAAAAAAAAAAAAAAEAAAAAAAAAAAAAAAEBAQAAAAEBAQEAAAAAAAEAAAAAAQABAAABAQAAAAAAAQEAAAABAAAAAAABAAEAAAAAAAAAAQEAAQEAAAAAAQAAAQAAAAAAAAEAAQAAAAABAAEBAAAAAQABAQABAQABAQAAAAEAAAEAAAAAAAABAQAAAAEAAQAAAAEBAAABAAABAQABAQAAAAEAAAEAAAEBAAEAAAABAAABAAABAQEAAAEAAQABAQAAAAAAAAEAAQEAAAAAAQAAAAAAAAEAAAABAAAAAAAAAQEAAQABAQEAAAAAAAEBAAAAAAEBAAEBAQABAQABAQEBAAEAAQAAAAABAAAAAQEAAAAAAQAAAAEAAQAAAAAAAAEAAAEAAQEBAAAAAQEAAQAAAAABAAEAAAABAAAAAAAAAAAAAAEAAAEBAAABAAABAQABAQEBAQEAAAEAAQABAAEAAQEAAAAAAQAAAQAAAQEBAAAAAAEBAAABAQEBAQEBAAAAAAAAAQABAQABAAABAQEAAQABAQAAAAAAAAAAAAABAAEBAAEAAQAAAAABAAEBAAABAAAAAQAAAQEAAAAAAAAAAQEAAAAAAQEAAQAAAQEAAQAAAQAAAAABAAEAAQEAAQAAAAABAAABAQABAAEAAQABAAEAAQAAAQEAAQAAAQABAAABAQAAAQEBAAEAAQABAQABAQABAQEAAQEBAAAAAAAAAAEBAAEAAAEAAAEAAAAAAAAAAQEAAAAAAAEAAAEBAAEAAAEBAAEBAQEAAAEAAQAAAQEAAAAAAAEAAAABAAAAAAAAAQAAAAEBAAAAAAEAAAABAAEBAAAAAAABAAEBAQABAQABAQEAAAEAAAEAAAEBAAEBAAEAAQEAAAAAAAAAAQAAAQEAAAEAAAEBAAEBAQABAQEBAQEBAQEAAAAAAAEAAAEAAAAAAQEBAQABAAEBAAAAAAEAAAEBAAEAAAEBAAABAAABAAABAAABAQABAAAAAAEAAAAAAAEAAQEBAQABAAAAAAAAAAEAAAABAAEAAAEAAQAAAQABAQABAAABAAAAAAAAAAAAAAAAAAEBAAAAAAEBAAEAAQABAQEAAAEBAAABAAEAAQAAAAABAQEAAAEAAQEBAQEAAAAAAAEAAAAAAAABAAEBAAAAAAEAAQAAAAABAAABAAABAAABAAAAAAAAAQABAAABAAAAAQAAAAAAAAABAAAAAAABAQABAQAAAAAAAQAAAAABAAABAAAAAQABAQAAAAAAAAABAAEBAQABAQAAAAAAAAEAAQAAAAAAAAAAAQAAAAEAAAABAAABAAEBAQEAAAAAAAEAAAEBAAABAAEAAAAAAQABAQABAAABAQABAAEBAAAAAAAAAAEAAQAAAAAAAAABAQAAAAABAAABAAEAAAEBAAAAAAAAAAEAAQAAAAEAAQABAQEAAAAAAAAAAAAAAQEAAQEAAAABAAAAAQABAQEBAAABAAEAAQEBAAEAAQABAQAAAAABAQAAAAAAAAABAQAAAAAAAQEBAAAAAAEBAAEAAQEBAAEBAQEAAAABAAABAAEAAAEAAAABAAAAAAEAAAEAAQAAAAAAAAABAAABAAAAAAABAQAAAAABAAEAAAABAQEBAQABAAEAAQAAAAAAAAEAAAAAAQAAAAEAAQAAAQAAAQABAQABAAABAQEAAAAAAQEBAAABAAABAQEBAAEAAQAAAQEBAQABAQAAAQABAQEAAAABAAEAAQEAAQAAAQABAAAAAQABAAEBAQAAAQAAAQABAAABAAAAAAAAAAEAAQEAAAEBAQEAAAEBAAEBAQEBAQAAAAAAAQAAAAEAAAABAQABAQABAQABAQABAQEBAAABAQEBAAABAQEAAAEAAAABAQEAAAABAAABAAAAAQEBAAAAAAAAAAEBAAABAAAAAAEBAAABAQAAAAAAAQABAQABAQAAAAEBAQEAAAAAAAABAAAAAAAAAAEAAAAAAAABAQAAAQABAAEBAAAAAQAAAQAAAAAAAAEAAAAAAAAAAAEAAAAAAQEAAAEAAQEBAQEAAAAAAQAAAAAAAAABAAABAQABAQEAAQAAAAEBAAABAAAAAQAAAQEBAAABAQEBAQEBAAABAQABAQEAAQABAQABAQABAAABAQEAAAAAAAEBAAEAAQEAAAAAAAAAAAABAQABAQAAAQEAAAEAAAAAAAAAAAEAAAAAAQAAAAABAAEAAAEAAQABAAEAAAEAAAABAAEAAQEBAAAAAAAAAAAAAAAAAAEAAQAAAAABAAABAQEAAQEBAAAAAAEAAQEBAQEAAQAAAAAAAQABAAEBAAEAAAAAAQAAAAAAAAAAAAEAAQAAAAAAAQEAAQABAAEBAQEBAAEBAAAAAAAAAQAAAAEBAAEBAQAAAAABAAEAAAEAAAABAQEBAAAAAQEAAAEAAQABAAAAAQABAAABAAABAQAAAQEBAQEAAQEAAQABAAABAAABAAAAAQEAAQAAAAAAAAABAAEBAAAAAAAAAAAAAQAAAAAAAAAAAAEAAQAAAQEAAAAAAAABAQEBAAAAAAABAAABAAABAAEAAAABAAABAQEAAQAAAAAAAQABAAABAAEAAAEAAAEBAQEAAAEBAAABAQAAAQAAAAABAAABAAEAAQAAAAABAAABAAEAAQEAAAABAQAAAQABAAABAQEBAAAAAAEBAQAAAAABAAAAAAEAAAABAQEAAQEAAAEBAQAAAQEBAQAAAQAAAAABAQEBAQAAAAAAAAEAAQAAAQEAAAABAAEAAAEBAQAAAQEBAQAAAAEAAQAAAQEAAAABAQEBAAAAAQEAAAAAAAAAAQAAAAABAAAAAQAAAAEAAAABAQABAAEAAAEBAAABAAABAQAAAQABAAAAAAAAAQABAAAAAQEAAQEAAQEAAQAAAAAAAQEAAAAAAAAAAAAAAAAAAAAAAAEAAQAAAAAAAAAAAAEAAQABAAABAAABAAAAAAEAAAAAAAABAQAAAQAAAQAAAAEBAAABAAAAAAEAAAEAAQAAAAEAAAABAQEBAQABAAEAAAEBAQAAAAEAAAEBAQAAAQABAQABAQABAQAAAAABAQABAAEAAAAAAAAAAAABAQEAAAAAAAEAAAABAAAAAAEBAAEBAAAAAAABAAAAAQAAAAAAAAEBAAEAAAEBAAEBAAAAAAEBAQAAAAEBAQAAAAAAAAEBAAABAQEBAAAAAQAAAAEAAAAAAQEBAQEBAAAAAQEBAAEBAQAAAQAAAQABAAAAAQAAAAABAQABAQABAAAAAAAAAQAAAAEBAAAAAAEBAAEBAAABAAAAAAAAAQABAQEBAAEBAQEBAQABAAABAQAAAAEBAQAAAAAAAQEAAAABAAAAAAEAAAABAAABAQAAAAEBAAEBAQEAAAAAAAEAAAEBAAEAAAAAAAEBAAAAAQAAAAABAAABAQEBAQEAAQAAAQAAAQAAAAAAAQEAAQAAAQEBAAAAAQAAAAEAAAEAAAEAAQABAAEBAQABAQEAAAEAAAABAQABAQABAQABAAAAAAAAAQAAAAEAAQAAAAAAAAABAQAAAAAAAAAAAQABAAEBAQABAAEAAQEBAAEBAQEAAQAAAAEAAAAAAQEAAAEBAQAAAAAAAQABAAEAAAAAAQAAAAABAAAAAAEAAAAAAQAAAAAAAAEAAQEAAAEBAAAAAAABAQAAAQABAAEAAAAAAQABAAEBAAAAAAAAAQAAAQAAAAAAAQEAAAABAAAAAQAAAQABAAAAAQEAAQABAAEAAAEBAAABAAABAQEAAAEAAAEAAAEAAAEBAAAAAQEAAQEAAAEAAQAAAQAAAAABAQAAAAAAAQABAAAAAAEBAAABAAAAAAAAAAABAAAAAQABAAEAAQAAAAEAAQAAAQAAAAEAAAEAAQEBAAEAAQEBAAEBAQEAAAEBAAEAAQABAAEBAAEBAQABAQAAAAAAAQABAQEAAAAAAAAAAAEAAQAAAQEAAAEBAQAAAQAAAQEAAAEAAAEBAQABAQEAAQABAAABAQEBAAEAAQEBAQEAAQAAAAAAAQEAAQABAAAAAAEBAAAAAAEAAAEAAQAAAAEBAAABAQABAQAAAQABAQAAAAEBAQEAAAAAAAEBAAAAAAEBAAAAAAEBAAABAQEAAAABAAEBAAEBAAEAAQAAAQABAAAAAQEBAAABAQEBAAEAAQABAAAAAAEBAAABAAABAQEBAAEAAAAAAAABAQABAQABAAEAAAAAAQEBAAAAAAEBAAABAQAAAAABAAEAAAABAAEBAQABAQEBAAAAAAAAAAEAAQAAAQEAAAABAQAAAAAAAQEAAAEBAAEAAAAAAAEAAAAAAAEAAAABAAABAQAAAAEAAAEAAAAAAQEBAQABAAAAAAABAAAAAQAAAAEAAAAAAAAAAAABAAABAAEBAAABAQEBAQABAQAAAQEBAAEAAQAAAAEBAAAAAAEAAQAAAQAAAAAAAAAAAQEAAAEAAQAAAQEAAAAAAAEAAAEBAAABAAABAQAAAQEBAQEAAAABAAEBAAEBAAABAQAAAAABAQEBAQABAQABAQABAAAAAAEAAQAAAAAAAQAAAAAAAAABAAEAAAEAAQEAAAABAAEBAAEBAAAAAAEAAAAAAAAAAAABAQEAAAABAQEBAQAAAQEAAQABAAAAAAEAAQABAAEBAAABAQEBAQABAQAAAAEAAAAAAQEAAAAAAAAAAQAAAQEAAQABAAAAAAAAAAAAAAEAAAABAQEAAQAAAAAAAQEAAQEBAAABAAAAAQEBAAEBAQAAAAAAAQAAAQABAAEAAQEAAAAAAAABAQEAAAEAAQAAAAEBAAAAAAEAAAAAAAABAQEAAAABAQEAAAAAAQEAAAEAAAAAAQEAAQEAAAAAAQAAAAEAAAAAAAEBAQAAAAAAAAAAAAEBAAABAQAAAAABAAAAAQAAAQABAQABAQAAAAEBAAAAAAAAAQEAAAEAAQABAAEAAQAAAQEAAQABAQEBAAAAAAEAAQEBAAAAAAAAAQEAAAEBAQAAAAABAAABAAAAAAEAAQEAAQEAAAEBAAABAQEBAQAAAAEBAQEAAAABAAAAAAEBAAAAAAABAQEBAQEBAQEAAAAAAAAAAAAAAQAAAAAAAAAAAAEBAAABAQAAAQEAAAABAAAAAAEBAAEAAAEBAQABAAEAAAAAAQEBAAEAAAAAAQEAAAABAAAAAQEBAAEAAQAAAQAAAQAAAAAAAAABAQAAAAABAAEAAAAAAAAAAAAAAQABAQABAAABAAAAAQABAAAAAAAAAAABAQEBAAEAAAAAAAABAQAAAQAAAAAAAAAAAAABAAAAAQABAAAAAAABAAABAQAAAAAAAAAAAAEBAAEAAQEBAQEBAAEBAAABAQEAAAEAAAEBAQAAAQAAAAAAAQAAAQEBAAAAAAEAAAAAAAAAAAEAAQEBAAAAAAAAAAEAAAEBAAAAAAABAAAAAAEAAQABAAEAAAAAAAAAAAAAAAABAAABAAAAAQEAAAEAAQAAAAAAAAEBAAEBAQAAAAEBAQAAAQEAAAEAAAEAAQEBAAAAAAEAAQEAAAAAAAAAAQABAAEBAAEBAQABAQAAAAABAAAAAQAAAAEBAAEAAQEAAAABAAEAAQAAAAAAAQEBAAEBAAEAAAEAAAAAAQEAAAEAAAABAQAAAAAAAAEAAAABAAAAAAEAAAAAAQEBAAABAQEAAQEAAAAAAAEAAAABAQABAAEAAAAAAAEBAQAAAQAAAQEBAAABAAAAAQABAAABAAAAAAAAAQAAAAEAAAAAAQEAAQAAAAAAAQEAAAAAAAABAAEAAAEAAAABAAABAQABAAABAAABAAEBAQEAAAEBAAEBAAAAAQAAAAEAAQABAAEAAQAAAAEAAQAAAAEBAAEAAAAAAAEAAQEBAQAAAQABAQEAAAAAAAAAAAABAQABAAAAAQAAAAAAAAEBAAEAAAEBAAEAAAABAQAAAAABAAABAQABAAEAAAEAAQEAAAAAAAEBAAEAAAAAAAAAAAEAAAABAAAAAQABAAEAAQAAAAABAQEAAAAAAAEBAQEAAAEAAAEAAQABAAAAAAABAQEBAAEAAQEAAQEBAQAAAAAAAQEBAQABAQAAAAEAAQABAAABAAEBAQABAQAAAAABAAABAQABAAAAAQABAQABAAAAAAAAAAAAAAEBAAEBAAEBAAABAAABAQAAAQEBAQAAAAEBAAAAAQAAAAEAAAABAAABAQAAAAAAAAEAAQABAQAAAQEAAAAAAQEAAAABAAAAAAEBAAEBAQABAQABAAAAAQAAAQEAAAEBAAAAAAAAAAEBAAAAAAAAAAEBAQAAAQAAAQEBAAEAAAABAQAAAAAAAQAAAQEBAAEAAQEAAAABAQEAAAEBAAABAAABAAAAAAAAAAAAAQEAAAABAAEAAAAAAQABAQABAAABAAABAQABAAABAAAAAAAAAAEAAAEBAAAAAQABAQEBAAEBAQAAAAAAAAEAAAEAAAAAAAABAAABAAAAAAAAAAEAAAAAAQAAAQEAAQABAAEBAQAAAAAAAAEAAQEBAQAAAAAAAQABAAABAQAAAAAAAAEAAQAAAAEAAQAAAAEAAQEAAQEBAAABAQAAAQAAAAEAAQEBAAAAAAAAAQEBAQAAAAAAAAEBAQAAAAAAAQAAAQEAAQAAAQAAAQAAAAABAAEBAAEBAAABAAEAAAAAAQEAAAAAAQAAAQAAAAAAAAEAAAABAAAAAQAAAAEAAAEBAAABAAAAAAAAAAAAAAAAAQEAAQEAAAAAAAAAAQAAAQAAAQEAAQABAAEBAQEAAQABAAABAAAAAAABAAABAQAAAAAAAAAAAQEAAAABAAABAAABAAAAAAAAAAEAAQABAAAAAQAAAQEBAQAAAQABAQABAQEAAQEAAAABAQEAAAAAAQAAAQABAQAAAAEAAQEBAAAAAAEAAAABAAABAQEAAQAAAAAAAAAAAAEBAAAAAAEBAAAAAQEBAQEAAAAAAAAAAAAAAAABAAEAAAAAAAAAAAEBAAABAQEAAAAAAAEBAAAAAQEBAAABAAABAAEAAQAAAAAAAAEAAAEAAQABAAEBAAABAAEAAQEAAQEAAAEBAAAAAAABAAEAAQEBAAAAAAEAAQEAAAAAAQAAAAEAAQABAAAAAAEBAQEAAAEAAAAAAAAAAAAAAQABAAAAAAABAQAAAAAAAQEAAQEBAQABAQEAAAABAQABAAABAQEBAQEAAQEAAAAAAAAAAQABAAEAAAEAAAEBAQEBAAAAAAAAAAEAAAEAAAEBAAABAAAAAAEBAQABAAABAAABAAEAAAABAQAAAAAAAAABAAAAAAEAAAEAAAEAAAEAAQABAQAAAAEAAQABAQABAAEBAQAAAAAAAQEAAAEAAAEBAAEAAAEBAAEAAAEBAAAAAQAAAAEAAQAAAAAAAAEBAAABAAEAAAABAAEBAQAAAQABAQAAAQEAAAEBAQABAQEBAAEBAQAAAAEAAQEAAAAAAAABAAABAQABAQAAAQEAAQABAQAAAAABAAEBAQAAAQEAAAAAAQEBAQEAAAAAAQEAAQEBAQEAAAEAAQEBAQEAAQEAAAABAQEAAQEAAAAAAAEAAAEBAQEAAAABAAEAAAEAAQABAQABAAAAAAEBAAEBAAAAAQAAAAABAAABAAAAAAAAAAAAAAAAAAABAQAAAAAAAAABAQEAAQAAAQEBAQEAAAABAAEBAAABAAEBAAEAAAEAAAABAQEAAQEAAAABAAEBAQABAAAAAAEAAQABAAEBAQEAAAABAQAAAAABAQEAAAEAAAABAQAAAAEAAAEAAAABAAEAAAEAAQAAAAEBAQAAAAABAAEAAQAAAAEAAAAAAQEAAAABAAEBAQAAAQAAAAEBAAABAQEAAQAAAAEBAQABAQEAAQEAAAEAAQEAAAAAAQAAAAEBAAABAAAAAAAAAAAAAAABAAABAAEAAAEBAQABAQEAAAEAAQEBAAAAAAABAAEBAQEAAAEBAAAAAAAAAAEAAAAAAAAAAQABAAEAAQEBAAABAQEBAAEAAQABAAABAQEAAQAAAAABAAAAAAAAAAAAAAAAAQABAAEAAQABAAAAAQAAAQABAAEBAQAAAAABAQAAAAAAAQEAAQEBAQAAAAAAAAABAQEAAQAAAQABAAABAQEAAQAAAQABAAEAAAAAAQAAAQAAAAABAQABAAAAAAEAAQAAAAABAAEAAAEBAQAAAAABAAABAAAAAAAAAQEAAQAAAAAAAQABAAAAAQAAAQAAAAAAAAAAAQEAAAABAQABAQAAAAAAAQABAAABAAEBAAABAAEAAAEBAQAAAAAAAAAAAQEAAAEAAQEBAAEBAQEBAQAAAAABAQABAAAAAAABAQEAAAEAAQAAAAAAAAABAQAAAQEBAQEAAQAAAAEAAQABAAAAAQAAAAEAAQABAAAAAQABAAABAAEAAAABAQAAAQEAAAEAAAEAAAAAAQAAAAAAAQEAAAABAQABAAEAAAAAAAAAAAEAAQEAAQEAAAABAAABAAEBAQEAAAAAAQEBAAABAAEAAAEBAQEAAAAAAQABAAABAQEBAAEBAQAAAAEAAQEAAAEBAAABAAEBAAEBAAEAAQEBAAABAAAAAQEAAAEAAQEBAAABAAAAAQAAAAAAAAABAQAAAQEBAQEBAAEAAAAAAQEAAQAAAAABAQEAAAAAAAEAAQAAAQAAAQAAAAAAAAEBAAAAAAABAQAAAQAAAQAAAAABAAEBAAEAAAAAAQEBAAABAAEAAQEBAQABAQAAAQAAAAEAAQAAAAEAAAEAAQEBAAEAAAAAAQEBAAABAAAAAQEAAAAAAQEAAAAAAAABAQAAAAABAQEAAQEBAAABAQAAAAEAAAAAAQEBAQAAAAAAAAAAAQABAAAAAQEBAQEAAAEBAAAAAAEAAAEAAQAAAAEBAAEAAAABAAABAAABAAEAAAABAAEAAQAAAQAAAAABAQAAAAEAAAEAAQAAAAEBAAEAAAABAAAAAQABAAAAAQEAAAAAAAABAQABAAABAQAAAAABAQAAAAEAAAAAAQEBAQEAAQAAAAEAAAEAAQEAAAAAAAABAQEBAAABAAEAAQEBAAEBAAAAAAEBAAABAAABAQABAAAAAAABAQEBAAEAAAAAAAAAAAABAAAAAQABAAAAAAEBAAEAAAEBAAABAQEAAAAAAAEAAAAAAQAAAQABAAABAAEBAAABAQAAAQABAAEBAQABAQEBAAAAAQABAQAAAQAAAAEAAAABAQAAAAAAAAABAAAAAAABAQAAAAAAAQEAAAABAAAAAAABAAAAAQEBAQAAAQEBAAAAAQAAAAAAAAEAAAEAAQABAAEAAQAAAAABAQEAAAAAAAEBAAAAAAEBAQAAAAABAQEAAQABAAABAAEBAAABAAEAAAABAAEAAAAAAAEAAQAAAQAAAAABAAEAAAEBAAAAAQABAQAAAQAAAAABAAABAAABAQEAAQAAAAAAAAEBAAEAAAEAAAABAAAAAAEBAQEAAQABAQAAAAAAAAEAAAAAAAABAAAAAQAAAAAAAAABAQAAAAABAAAAAAEAAAAAAQAAAQAAAAEBAQABAQABAAEAAAEAAQEAAQEBAAABAQEBAAABAAABAQEAAAEAAAEAAQEAAAEBAAABAQAAAQEAAQEAAQAAAQEBAAAAAAEAAAABAQAAAAEBAAAAAAAAAAAAAAAAAAEBAQABAAAAAAAAAAEBAAEAAQABAQAAAQEAAQABAQAAAAEAAAABAAEAAQAAAAABAQEAAAEBAAEBAQABAAEBAAEAAAAAAQAAAAAAAQEBAQAAAAAAAAAAAQEAAAAAAAEAAAAAAAEAAAEAAAEAAAEAAQEBAQEAAQAAAQEBAQABAQEAAAEAAAEAAQEAAAAAAQABAAEBAQABAAEBAQEAAAAAAQEAAQAAAAAAAAAAAAEBAQABAQAAAAEBAQEAAQEBAAAAAQABAAABAAEAAAAAAQEAAQEAAAAAAAAAAAABAAAAAQEAAQAAAQAAAQAAAQAAAQEAAQEBAAABAQEBAAABAQAAAQAAAAEBAQABAQEBAAEAAAEAAQEBAQAAAAEAAQAAAQAAAQEBAQAAAAEBAAAAAAABAQEAAAAAAAEAAAEAAAABAQABAQEBAAABAQEAAAEAAQEBAAEBAAABAQABAAEBAQAAAAEAAA==",
          "dtype": "i1"
         },
         "xaxis": "x",
         "y": {
          "bdata": "AAAAAAAAAQEAAAAAAAAAAAAAAQABAAABAAAAAAAAAAAAAAEAAAAAAAAAAAAAAAAAAAABAAAAAQEAAAEBAAAAAAEAAAAAAAABAQAAAQEAAAAAAAAAAAAAAQAAAAAAAAABAQAAAAAAAAAAAAAAAAEAAAEBAAAAAAAAAAAAAAABAAABAAAAAAAAAAEAAAAAAQAAAAAAAAAAAAAAAAAAAAAAAAAAAAAAAAEBAAAAAAAAAAAAAAABAAAAAAAAAAAAAAAAAAAAAAAAAAAAAAEBAAAAAAAAAAABAQAAAAAAAAEAAAAAAQAAAAAAAAEAAAABAAABAAAAAQAAAAAAAAABAQAAAAAAAAAAAAABAAABAAAAAAAAAQAAAAAAAAEAAAABAAAAAAAAAQAAAAABAAAAAAABAAAAAQAAAAABAAAAAQAAAAAAAAABAAAAAAABAAAAAAEAAAAAAQAAAQAAAAAAAQAAAQAAAAAAAAAAAAAAAAAAAAAAAAAAAAABAAAAAAABAAAAAAAAAQAAAAAAAAAAAAEAAAAAAAAAAAAAAAEAAAAAAAAAAAEAAQAAAAABAAAAAAAAAAAAAAEAAAABAAAAAAAAAAAAAAAAAAAAAAAAAAAAAAAAAAABAAAAAAAAAAAAAAEAAAAAAAAAAAAAAAAAAAABAAAAAAABAQAAAAAAAQEAAAAAAAABAAEAAAEAAAAAAAAAAAAAAAAAAAAAAAAAAAEAAAAAAAAAAAAAAQAAAAAAAAAAAAAAAQAAAAAAAAEAAAAAAQEAAAAAAAAAAAAAAAAAAAEAAQAAAAABAQAAAQAAAQAAAQAAAAABAAAAAAAAAAABAQAAAAAAAAAAAAAAAQAAAAAAAAAAAAAAAAABAAEAAAAAAAAAAAAAAAAAAAEAAAEAAAAAAAAAAQAAAAAAAQAAAAAAAAAAAAAAAAAAAQABAAAAAQAAAAEAAAAAAQAAAAAAAAAAAAAAAAAAAAAAAAEAAAAAAQEAAAAAAAAAAAAAAAAAAQAAAAAAAAAAAAAAAAABAAEAAAABAAAAAAAAAQABAAABAAAAAAAAAAAAAQAAAAABAAAAAAAAAAABAAAAAAEAAQEAAQAAAQAAAQEAAQAAAAABAAAAAAEBAAAAAAABAAAAAAAAAAAAAAAAAAAAAAEAAAAAAAAAAQAAAAABAAAAAAEAAAAAAAAAAAEBAAABAAAAAAAAAAAAAQAAAAEAAAAAAAAAAAAAAAAAAAAAAQAAAAAAAAEAAAAAAAAAAQAAAAEAAAAAAAAAAAABAAAAAAAAAAEAAAABAAEAAAAAAAAAAAAAAAAAAQAAAAABAQAAAAAAAAABAAAAAAEBAAAAAAEAAQAAAAEBAQABAAAAAAEAAQAAAAAAAAAAAAAAAQAAAAABAQAAAAAAAAEAAAAAAAAAAAEBAAAAAQAAAAAAAQAAAQAAAQAAAAEAAAAAAAAAAAAAAAAAAAAAAAAAAAABAAAAAAEAAAAAAAABAAAAAAAAAQEBAAABAAEBAAABAAAAAQEBAAAAAAAAAAAAAAABAAAAAAABAAAAAQAAAAAAAQEAAAAAAAAAAAAAAAAAAAABAQAAAQAAAAAAAAAAAAABAAAAAAAAAAEAAAAAAAABAAAAAAAAAAAAAAAAAAAAAAAAAAAAAQABAAAAAAAAAAAAAAAAAQAAAAAAAQAAAAAAAQAAAAAAAAAAAQAAAAAAAAAAAAAAAAABAAEAAQAAAAAAAAAAAAAAAQAAAAAAAAAAAAAAAAAAAAAAAAAAAAAAAAAAAQAAAAABAAAAAAAAAAAAAQABAAEAAAEAAQAAAQAAAAAAAAAAAAAAAAAAAAAAAAAAAQAAAAAAAAAAAAEAAAEAAQAAAQAAAAAAAQAAAAAAAQAAAAAAAAAAAQAAAAABAAAAAQAAAQEBAAABAQEAAAABAAAAAAAAAAAAAAAAAAAAAAAAAAEAAQAAAAAAAAAAAAAAAQAAAAAAAAAAAAAAAQAAAAAAAAAAAAAAAQAAAAAAAQABAAAAAAEAAQAAAAABAAEAAAEAAQAAAAEAAAAAAAAAAAAAAAAAAQAAAAEAAAAAAAAAAAABAAAAAAAAAAAAAQABAQEBAAAAAAAAAAEAAAAAAQAAAAEAAAAAAAAAAQAAAAAAAAEBAAAAAAAAAAAAAAEAAAAAAAABAAAAAAAAAAEAAAAAAAEAAAAAAAAAAAAAAAAAAQAAAAAAAAAAAAAAAAAAAAAAAAAAAQAAAAAAAAEBAAAAAAAAAAAAAAAAAAEAAQAAAQAAAAAAAAEBAAAAAQABAAAAAQAAAAAAAAAAAAEAAAAAAQAAAAAAAQEAAAAAAAAAAQEAAQAAAQEAAQAAAAABAQEAAAEAAAAAAAAAAAAAAAABAAAAAAAAAAAAAAAAAAAAAAAAAAABAAEAAQAAAAAAAAABAQAAAAAAAAAAAAAAAAEAAAAAAAAAAAAAAAAAAAAAAAAAAQAAAAAAAAAAAAABAAABAAAAAAABAAAAAQAAAAEAAAEAAQAAAAAAAAAAAAAAAAAAAAAAAAAAAAEAAAAAAAEAAAAAAAABAQAAAAAAAAAAAAAAAAAAAAABAQAAAAAAAAAAAQAAAAAAAAEAAAAAAQABAAABAAEAAAEAAQAAAAAAAAABAAABAAABAAEAAAAAAAAAAAAAAQEAAQAAAQAAAAAAAAAAAAEAAAABAAAAAAEAAAAAAAAAAQAAAAAAAAAAAAAAAQEBAAAAAAAAAAAAAAAAAQAAAAAAAAEAAAABAAAAAAEAAAABAQAAAAAAAAAAAAAAAAAAAAAAAAEAAAAAAQAAAAAAAAABAQAAAAAAAAAAAAABAAAAAQAAAAAAAQAAAQAAAAEAAAAAAAEAAAAAAAAAAAAAAAAAAAAAAAAAAAAAAQAAAAEAAAAAAAAAAAAAAAAAAQAAAAABAAAAAAAAAAAAAAAAAAAAAAAAAAAAAAEAAAAAAAEAAAAAAAEAAAABAAABAAAAAAAAAAAAAAEAAAAAAAAAAQAAAAAAAAAAAAAAAAAAAAAAAAAAAAAAAAAAAAAAAAAAAAAAAAAAAAAAAAEAAQABAAABAAABAAAAAAAAAAAAAAAAAAEAAAAAAAAAAAABAAEAAAABAAAAAAAAAAAAAAAAAAAAAAABAAAAAAAAAAAAAAAAAAAAAAABAAEBAQAAAAAAAAAAAQAAAAAAAAAAAAABAQEAAAAAAAAAAAAAAAEAAAEAAAAAAAEAAAABAAAAAQABAAAAAAAAAAEAAQAAAAAAAAEAAAEAAQAAAAABAAAAAAAAAAEAAAAAAAAAAAAAAAAAAAABAAAAAAABAAAAAQEAAAAAAAAAAAAAAAAAAAAAAAEBAAAAAAEBAAAAAAAAAAAAAAAAAAAAAAAAAAABAQABAAAAAAAAAAAAAAAAAQAAAAEAAAABAQAAAAAAAAAAAAABAAAAAQAAAAAAAQAAAAEBAAAAAQAAAAAAAAEAAAAAAAAAAAAAAAAAAAAAAAABAAAAAQAAAAAAAQEBAAEAAAAAAAAAAAAAAQAAAQEAAQAAAAAAAAAAAAAAAAEAAQAAAAAAAAABAAAAAAAAAAABAAAAAAAAAAAAAAAAAAAAAAAAAAAAAAAAAAAAAAEAAQAAAAAAAQAAAAAAAAABAAAAAAAAAAEBAQAAAQEAAAEAAAABAAAAAAAAAAAAAAAAAAAAAAAAAAAAAAAAAAABAAABAAAAAAAAAAAAAAABAAAAAAAAAAAAAQEAAAAAAAABAAAAAAAAAAAAAQAAAAEAAQEAAAAAAAEAAAABAAABAAAAAQAAAAABAQAAAAAAAAAAAAAAAAEAAAAAAQAAAAAAAAEAAAAAAAEAAAAAAAEAAQAAAAEAAAAAAAEAAQEAAQAAAQAAAAAAAAEAAAAAAAAAAAABAAAAAAAAAAAAAAAAAAAAAAEAAAABAQEAAAABAQEAAAAAAAAAAAEBAAAAAQAAAQAAAAAAAQAAAAAAAQAAAAAAAAEAAAAAAAABAAEAAAAAAAAAAAAAAAAAAQAAAAABAAEBAAAAAAAAAQAAAQAAAAABAAAAAAAAAAAAAAAAAAAAAAAAAAAAAAABAAEAAAAAAQAAAAAAAAAAAQAAAAAAAAAAAAEAAQAAAAABAAAAAAAAAAAAAAAAAAAAAAAAAAABAQAAAAAAAAAAAQAAAAAAAAEAAAAAAAABAAAAAAAAAAAAAAAAAAEBAAAAAAAAAAABAAAAAAAAAAAAAAAAAAAAAAAAAQAAAQAAAAAAAAEAAAAAAAAAAAAAAAAAAAAAAAAAAAAAAAAAAQAAAQAAAAAAAAABAQAAAAABAAAAAAAAAAAAAAAAAAAAAAAAAAAAAQAAAQAAAAEAAAEAAAAAAQEAAAAAAAAAAAAAAAAAAAABAAAAAAAAAQAAAAAAAAABAAEBAAAAAAABAAAAAAEAAAAAAAAAAQAAAAEAAQAAAAAAAQABAAABAQABAAAAAAAAAAAAAAAAAQAAAQABAQAAAAAAAAAAAAAAAAAAAAAAAAAAAAEAAAAAAAAAAQAAAAEAAAAAAAAAAAAAAAEAAAAAAAAAAAAAAAAAAAAAAAAAAQAAAQAAAAAAAAEAAAABAAAAAAEAAAEAAAABAAAAAAEAAAAAAAAAAAABAAAAAQEAAAAAAAEAAAAAAAAAAAEBAAAAAAAAAAAAAAAAAAAAAAAAAAEAAAAAAAAAAAAAAAABAAAAAAAAAQAAAAEAAQAAAAABAAEAAQEAAAAAAAEAAAAAAAAAAAAAAAAAAAAAAAAAAQAAAQAAAAABAAEAAAAAAAAAAQAAAAAAAAAAAQAAAAAAAQEAAAAAAAAAAAEAAAAAAAAAAAEBAQABAQEAAAAAAQAAAAAAAAAAAAAAAAAAAAAAAAAAAAAAAAAAAQABAQEAAAAAAQEAAQEAAAAAAAAAAAEBAAAAAQAAAAABAAAAAAAAAAEBAAEAAAABAAAAAAAAAAAAAAABAAAAAAABAQAAAAEAAAAAAAAAAAABAAAAAAAAAAAAAQAAAQAAAAEAAAABAAAAAAAAAAAAAAEAAAABAQAAAAAAAAAAAQAAAQABAAAAAAAAAAABAAEAAAAAAAAAAAAAAAAAAAAAAAAAAAAAAAABAAAAAAAAAQAAAAAAAAAAAAAAAAAAAAABAAABAQAAAAAAAAAAAAAAAAAAAAAAAAAAAAABAAAAAAAAAQAAAAAAAAAAAAAAAQAAAAAAAAABAAAAAAABAAEBAAAAAAAAAAABAAAAAAABAAAAAQAAAAAAAAEBAQAAAAAAAAAAAAAAAAAAAAAAAQEAAAAAAAABAAAAAAAAAAABAQABAQAAAAAAAQABAAAAAAAAAAAAAAAAAAAAAAABAQAAAAABAQAAAQAAAAAAAAAAAAAAAAAAAAAAAAABAAAAAAAAAAEAAAEAAQAAAQAAAQAAAAAAAAAAAQAAAAEBAAAAAAAAAAAAAAAAAQAAAAAAAAABAAAAAQAAAAAAAAAAAAAAAAAAAAEBAAAAAQAAAAABAAAAAAAAAAEAAQAAAQAAAAAAAAAAAAAAAAAAAAEBAAAAAAAAAAABAAAAAAAAAAAAAAAAAAEAAAABAAAAAAAAAAAAAQAAAAABAAEAAAABAAAAAAAAAQAAAAEAAAAAAAAAAAAAAAEAAAAAAAAAAQABAAABAAAAAAAAAAAAAQAAAAEAAAAAAAAAAAABAQEAAQAAAQAAAAABAAAAAAAAAAAAAAAAAAAAAAAAAAEAAQEAAAAAAAABAAEAAAEAAAAAAAEAAAAAAAAAAAAAAAAAAQAAAAAAAAEBAAABAAAAAQABAAABAAABAAEBAAAAAAAAAAAAAAAAAAAAAAAAAAAAAAAAAAABAQAAAAEAAQAAAAAAAAAAAAAAAAABAAABAAAAAAEAAAAAAQEAAAAAAAAAAAAAAAAAAAAAAQEAAAAAAQAAAAAAAAABAAAAAAAAAAAAAAAAAAAAAAAAAAAAAAAAAQABAQABAAAAAAABAAABAQEAAAAAAAAAAAAAAQAAAAABAQEBAQABAAAAAAAAAAAAAAABAQEAAAAAAAEAAQAAAQEAAQAAAAEAAAAAAAAAAAABAAABAAAAAAAAAAAAAAAAAAAAAAAAAAAAAQEAAAAAAAAAAAABAAEBAAABAAAAAQAAAAAAAAAAAAEAAAAAAAEAAAAAAAAAAAAAAAAAAAAAAQAAAAABAAEAAAABAAEAAAAAAAEAAAAAAAAAAAAAAAAAAAEAAAAAAAEAAQAAAQABAAAAAAEAAQAAAQAAAAABAAAAAAAAAAAAAAABAAABAAABAAAAAAEAAAAAAAAAAAAAAAEAAAEAAAAAAAAAAQAAAQAAAAABAQAAAAAAAAAAAAEAAAAAAAAAAAAAAAABAAAAAAAAAAABAAAAAAAAAAEAAAAAAAABAAAAAAAAAAAAAAAAAAAAAQAAAAAAAAAAAAEAAAAAAAAAAAABAQAAAAAAAAAAAAAAAAAAAAABAAAAAAABAAAAAQAAAAAAAAEBAAABAQAAAAAAAAAAAAEAAAAAAAABAAABAQAAAAAAAQAAAAAAAAAAAAAAAAAAAQEAAAABAAAAAQEAAAABAAEBAAEAAAAAAQAAAAEAAAAAAAAAAQAAAAAAAQAAAAAAAAAAAQEAAAAAAAAAAAAAAAAAAAAAAAAAAAABAQAAAAAAAAABAAAAAAABAAABAQAAAQAAAAAAAAABAAEAAAAAAAAAAAEAAAAAAAABAAAAAAAAAQAAAAEAAAAAAAAAAAEBAAAAAAAAAAAAAAABAAAAAAAAAQAAAAAAAAAAAAEAAAABAQAAAAAAAAAAAAAAAAAAAAABAAAAAQAAAQAAAAEAAAABAAAAAAAAAAAAAAAAAAABAAAAAAEAAAAAAAAAAAAAAQABAAAAAAAAAAAAAAAAAAAAAAAAAAEAAAAAAAAAAAAAAAAAAAAAAAAAAAAAAQABAAAAAAAAAQAAAAAAAAEBAAEAAAAAAAABAAAAAAAAAQEAAAAAAAAAAQEAAAABAAABAAEAAAAAAQAAAAAAAAAAAAAAAAAAAAEBAAAAAAEAAAABAAAAAQAAAAAAAAABAAAAAQEAAAEAAAABAAABAAAAAAABAAAAAAAAAAEAAAAAAAAAAAEAAAEAAAAAAAAAAAABAAABAAABAAAAAAABAAAAAAAAAAAAAQEAAAABAAAAAAABAQABAAAAAQAAAQAAAAAAAAEBAAAAAQAAAAAAAAEAAAAAAAAAAAAAAAEAAAAAAAAAAAAAAAAAAAEAAAABAAAAAAAAAAAAAAEAAAAAAAAAAAAAAAEAAAAAAQAAAAABAAAAAAAAAAAAAQAAAAAAAAAAAAAAAAABAAAAAAEAAAEAAQAAAAAAAQAAAQAAAAAAAAAAAAAAAAAAAAAAAAAAAQAAAAAAAQEAAAAAAQAAAAAAAQAAAAABAAAAAAAAAAAAAAAAAQAAAAAAAAAAAAAAAAAAAAAAAAAAAAABAAAAAAAAAQEAAAAAAAAAAAAAAAAAAAAAAAEAAAAAAAAAAAEAAQAAAQABAAAAAAAAAQEAAAAAAAAAAQAAAQAAAAEAAAAAAAEAAAAAAQAAAAAAAAAAAQAAAAAAAAEBAAABAAAAAAAAAQAAAAAAAAAAAAAAAAEAAAEAAAAAAQAAAQEAAAAAAAAAAAABAAAAAAAAAAAAAQAAAAAAAAAAAAAAAAAAAAEAAAEAAAEAAAAAAAABAAAAAAAAAAAAAAAAAAAAAAAAAAAAAAAAAAAAAAAAAAAAAAAAAAAAAAAAAAAAAAEAAAAAAAAAAAAAAAAAAAAAAAAAAAAAAAAAAAAAAAABAAAAAAAAAAABAAAAAAAAAAAAAAEAAAABAAAAAAAAAAEAAAAAAAAAAAAAAAABAAAAAAAAAAAAAAAAAAABAQEAAAAAAAEAAQEAAAAAAQABAQABAAAAAAAAAAEBAAAAAAAAAAAAAAAAAAAAAAAAAAAAAAAAAQEAAAAAAAEAAQAAAQEAAAAAAAAAAQAAAQAAAAAAAAABAAAAAAAAAAAAAAAAAAAAAAAAAQABAAABAAAAAAEAAAAAAAAAAAAAAAABAAAAAAAAAAABAAAAAQEBAQEBAAABAAABAQEBAAEAAQAAAAABAQAAAAEBAAAAAAABAAAAAAABAAAAAAABAAAAAAAAAAAAAAAAAAAAAAAAAAABAAABAAAAAAABAAAAAAAAAAAAAAABAAEBAAAAAAAAAAAAAAEAAAAAAAAAAAAAAAAAAAAAAAEAAAABAAAAAAAAAAABAAABAQEBAAAAAAAAAAAAAQAAAAEAAAAAAAAAAAAAAQAAAQAAAQAAAAAAAAAAAAEAAAAAAAAAAQAAAAAAAQEAAAEAAAAAAAAAAAAAAQAAAAAAAAAAAAAAAAABAAAAAQEAAAAAAAAAAAAAAAAAAQEBAAAAAAAAAAAAAAAAAAAAAAAAAAABAAAAAAAAAAAAAAEAAQABAAAAAQAAAAAAAAAAAAAAAAAAAAAAAAAAAAAAAAAAAAABAAAAAAABAAABAAAAAAAAAAAAAQAAAAAAAAAAAAAAAQEAAAEAAAAAAAAAAAABAAAAAAAAAQAAAAAAAAAAAAAAAAABAAAAAQAAAAAAAAAAAQAAAAAAAAAAAAAAAAAAAAAAAAEAAAAAAAEBAAEAAAAAAQAAAAAAAAAAAAAAAAAAAAAAAAAAAAAAAAAAAAAAAAEAAAAAAQEBAAAAAAAAAQEAAAAAAAABAAAAAAEAAAEAAAAAAAAAAAAAAAEAAAAAAAAAAAAAAAAAAAAAAAAAAAAAAAABAAABAAAAAQEAAAABAAEAAAAAAAAAAAAAAAAAAAEBAAEAAQABAAAAAAAAAAAAAAAAAAAAAAEBAQAAAAAAAAEAAAAAAAEAAAAAAAAAAAABAAAAAQAAAQEAAAAAAAAAAQAAAQAAAAABAQAAAAAAAAABAQAAAAAAAAAAAAAAAQAAAAAAAAAAAAEAAAEAAAEAAAAAAAEBAQEAAAABAAAAAAAAAAABAAAAAQEAAAABAAEAAAAAAAAAAAAAAAABAAABAQEAAAABAAAAAQEAAAAAAAABAAAAAAEAAAAAAAAAAAAAAAAAAAAAAAAAAAEBAAAAAAABAAAAAAAAAAAAAAAAAAAAAAAAAAABAAAAAQAAAAAAAQAAAAABAAABAAAAAAABAAAAAQAAAAABAQAAAQEAAAEBAAAAAAAAAAAAAAAAAAAAAAAAAAEAAAABAAAAAAAAAAAAAQAAAAAAAAAAAAAAAAABAAABAQAAAAAAAAAAAAAAAAAAAAABAQAAAAABAAAAAAAAAAAAAQEAAAEAAAAAAAEAAAEAAAAAAAAAAAEAAAAAAAAAAQAAAQAAAQAAAAAAAQAAAAAAAAABAQAAAQAAAQAAAAEAAAAAAAAAAQAAAAAAAQABAAABAAAAAQAAAAAAAAAAAAAAAAABAAAAAAAAAAAAAAEBAAAAAAAAAAEBAAABAAAAAQEBAAABAAAAAAAAAQAAAAEAAAAAAAAAAAEBAAAAAQAAAAAAAAAAAQAAAAABAAAAAAAAAAAAAAAAAAAAAAEAAAAAAQAAAAABAAABAAAAAAEAAAAAAAEAAAAAAAAAAAAAAAEAAQAAAAAAAAAAAAABAAEAAQEBAAAAAAAAAQABAAAAAAAAAQAAAAEBAAABAAABAAAAAAAAAAAAAAAAAAAAAAAAAAAAAAAAAAAAAAAAAAAAAAAAAAAAAQAAAQABAQAAAAAAAAABAAAAAAAAAAEAAAAAAQEAAAAAAAABAAAAAAAAAAEAAAABAAAAAAAAAQAAAQAAAAEAAAAAAQAAAAAAAAEAAAABAAAAAAAAAAAAAAABAAAAAAABAAAAAAAAAQABAAABAQAAAAAAAQAAAAAAAAEAAAAAAAAAAAEAAAAAAAEAAAAAAAAAAAEAAAAAAQAAAAAAAQAAAAAAAAEAAAEBAAAAAAAAAAAAAAAAAQAAAAAAAAAAAAAAAAEAAAAAAAAAAAAAAQAAAAAAAAAAAAABAAAAAAABAAAAAAEAAAEAAAABAAAAAQAAAAEAAAAAAAAAAAAAAAAAAAAAAAAAAAAAAAAAAAAAAQEAAAAAAQAAAAAAAQAAAAAAAQAAAQAAAQABAAAAAQAAAQEAAAAAAAAAAAEAAAAAAAABAAAAAAAAAQAAAAAAAAEBAAAAAAAAAAAAAQAAAAAAAAAAAQAAAAAAAAAAAQABAQAAAQEAAQABAAAAAAAAAAAAAAAAAQABAAAAAAAAAAAAAQAAAAEAAAAAAAABAQAAAAAAAAAAAAAAAAEBAAAAAAAAAAAAAQEAAAAAAAAAAAAAAAAAAAAAAAAAAAAAAAAAAAABAAAAAAABAAEAAAAAAAAAAAAAAQAAAQAAAAAAAAAAAAEAAAAAAAAAAAAAAQABAQAAAAAAAAAAAAABAAEBAAAAAAAAAAAAAAAAAAAAAAAAAAAAAAEBAAAAAQAAAAAAAAAAAAAAAAEAAQAAAAAAAAAAAAAAAAAAAAEBAAAAAAABAAAAAAAAAAAAAQAAAAAAAAAAAAABAQABAAAAAQAAAAAAAAAAAAABAAAAAAAAAAAAAAAAAAABAAAAAAAAAAAAAAAAAAAAAQEAAQAAAAAAAAABAAAAAQABAAAAAAAAAAAAAQAAAAAAAAEAAAEBAAEBAAEBAQAAAQABAAAAAAAAAAAAAAAAAQAAAQAAAAAAAQAAAQAAAAAAAAAAAAAAAAAAAAAAAAAAAAAAAAAAAAAAAAEAAAAAAQEAAAEAAAAAAAAAAAAAAAEAAAAAAQAAAAAAAAAAAAAAAAAAAAAAAAAAAAAAAAEAAQAAAQEAAAAAAQAAAAAAAAAAAAAAAAAAAAAAAAEBAAAAAAAAAAEAAAAAAAAAAAABAAAAAQAAAQAAAQAAAAAAAAAAAAABAAAAAAAAAQAAAAAAAAEBAAABAAAAAAABAAAAAQEBAAAAAAAAAAAAAAAAAAAAAAABAAAAAAAAAAAAAAAAAAAAAAAAAAABAAEAAAAAAQABAAAAAAAAAAAAAQEAAQAAAAEBAAAAAAEAAAAAAAAAAQAAAAAAAAAAAAAAAAAAAAAAAAAAAAAAAAEBAAAAAAEAAAAAAQEBAAEAAAAAAAAAAQEAAAAAAAEBAAABAAAAAAAAAAAAAAAAAAAAAAAAAQAAAAAAAAABAAEAAAAAAQABAAEAAAAAAAAAAAAAAQAAAAAAAAAAAAAAAAAAAQEAAAABAAABAAAAAAAAAAEBAQAAAAEAAAAAAAAAAAABAAAAAQAAAAAAAQAAAAABAAEAAAABAAAAAAAAAAABAAAAAAAAAAAAAAAAAQEBAAABAAABAAABAAAAAQABAQAAAAEAAAAAAAAAAAEAAAAAAAAAAAABAAAAAAEAAQAAAAEAAAEAAAAAAAAAAAAAAAAAAAAAAAABAQAAAAEBAQAAAAAAAAAAAAEAAQEAAAAAAAEBAAEAAAABAAAAAQEAAAAAAAAAAAAAAQAAAAAAAAAAAAAAAAAAAAAAAAABAAEAAAEAAAAAAAAAAAAAAAAAAAABAAAAAAAAAAABAAAAAAAAAAEAAQAAAQEAAAAAAAAAAAAAAAAAAAEBAAEAAAAAAAEAAAAAAAAAAAABAAAAAAAAAAEBAAAAAAAAAAAAAAEAAAABAAAAAAAAAAAAAAABAAAAAAAAAAAAAAAAAAABAAAAAQAAAAAAAAABAAAAAQEBAAAAAAAAAAAAAAEAAAAAAQAAAAAAAAAAAQAAAAABAAABAQAAAAAAAAAAAAAAAAAAAAAAAAEAAQAAAAAAAAAAAAEAAAAAAAAAAAAAAAEAAAEAAAAAAAAAAAAAAAAAAAEBAAAAAAAAAAAAAAEAAAAAAQAAAQAAAAAAAQAAAAAAAAAAAQAAAAAAAAEBAAEAAAAAAAAAAAAAAQAAAAAAAAAAAAABAAAAAAAAAAABAAAAAQAAAAAAAQAAAAABAAAAAQAAAAAAAAAAAAABAAAAAAAAAAAAAQAAAAAAAAAAAQAAAAAAAAAAAAAAAAAAAAEBAAEAAAAAAAABAAAAAAABAQABAQAAAAAAAAAAAAAAAAAAAAAAAAAAAAABAAAAAQAAAAAAAAAAAQEBAAAAAAAAAAEAAAAAAAAAAAAAAAABAQAAAAAAAAAAAAAAAAAAAQAAAAAAAQAAAQABAAAAAAAAAAAAAQABAQAAAAAAAAAAAQAAAAEAAAEBAAAAAQAAAAAAAAAAAQEAAAAAAAAAAAEAAAAAAAAAAAAAAAAAAAAAAAAAAQAAAAAAAQEAAQAAAAABAAABAAAAAAAAAAAAAAAAAQAAAQAAAAABAAAAAAAAAAAAAAABAAABAAABAQAAAAAAAQAAAQABAAAAAAAAAQAAAAAAAAAAAAAAAQABAAABAAAAAAAAAAEAAAAAAAAAAAAAAQAAAQAAAAAAAAEBAAAAAAAAAAEAAAAAAAABAAAAAAEAAAEBAQAAAQEAAAABAAABAQAAAAAAAAAAAAAAAQAAAAAAAQAAAQAAAQEAAAAAAAAAAAAAAAAAAQAAAQEAAAEAAAEAAAAAAQABAAAAAAAAAAAAAAAAAAABAAAAAAAAAAABAAAAAAAAAQAAAAABAAAAAAAAAAAAAAAAAAAAAAAAAAAAAAAAAAAAAAAAAAAAAQAAAAEBAAEAAAEAAQABAAAAAAAAAAAAAAABAAAAAAABAAAAAAAAAAAAAAABAAAAAAAAAAEAAAAAAAAAAAAAAAAAAAABAAAAAQAAAAEBAAEAAAAAAAABAAAAAAABAQAAAAAAAAABAQAAAQABAAAAAAAAAAAAAAABAAAAAAEAAAAAAAEAAAABAAEAAQABAAAAAAAAAQEAAAAAAAEBAAAAAAEBAAAAAQAAAAAAAAEBAQABAAAAAAAAAAABAQEAAAABAAAAAAAAAAAAAAAAAAABAAABAAAAAAEAAAEAAAAAAQAAAAAAAAAAAQAAAAAAAAAAAAEAAAAAAAABAAAAAAABAAABAAAAAAEBAAABAAAAAAAAAAAAAAAAAAAAAAAAAAABAAAAAAAAAAAAAAAAAAAAAAABAAAAAAAAAAAAAAAAAAAAAAAAAAAAAAAAAAEAAAAAAAEAAAAAAQEAAQEAAAABAAAAAAAAAAAAAQABAAAAAAAAAQAAAAABAQAAAAABAAAAAAAAAAAAAAEAAAABAAAAAAAAAAAAAAABAAAAAAEAAAEAAQAAAQAAAAAAAAAAAAAAAQABAAAAAAAAAAEAAAAAAAAAAAAAAAAAAAAAAQAAAAAAAQAAAAAAAAAAAAAAAAABAAAAAAEAAAEBAAAAAAAAAAAAAAEAAAAAAAABAAAAAAAAAAAAAAAAAAEAAAAAAAAAAAAAAAAAAQAAAAAAAAAAAAAAAAABAAEBAAAAAA==",
          "dtype": "i1"
         },
         "yaxis": "y"
        }
       ],
       "layout": {
        "barmode": "group",
        "coloraxis": {
         "colorbar": {
          "title": {
           "text": "Internship_Experience"
          }
         },
         "colorscale": [
          [
           0,
           "#0d0887"
          ],
          [
           0.1111111111111111,
           "#46039f"
          ],
          [
           0.2222222222222222,
           "#7201a8"
          ],
          [
           0.3333333333333333,
           "#9c179e"
          ],
          [
           0.4444444444444444,
           "#bd3786"
          ],
          [
           0.5555555555555556,
           "#d8576b"
          ],
          [
           0.6666666666666666,
           "#ed7953"
          ],
          [
           0.7777777777777778,
           "#fb9f3a"
          ],
          [
           0.8888888888888888,
           "#fdca26"
          ],
          [
           1,
           "#f0f921"
          ]
         ]
        },
        "legend": {
         "tracegroupgap": 0
        },
        "margin": {
         "t": 60
        },
        "template": {
         "data": {
          "bar": [
           {
            "error_x": {
             "color": "#2a3f5f"
            },
            "error_y": {
             "color": "#2a3f5f"
            },
            "marker": {
             "line": {
              "color": "#E5ECF6",
              "width": 0.5
             },
             "pattern": {
              "fillmode": "overlay",
              "size": 10,
              "solidity": 0.2
             }
            },
            "type": "bar"
           }
          ],
          "barpolar": [
           {
            "marker": {
             "line": {
              "color": "#E5ECF6",
              "width": 0.5
             },
             "pattern": {
              "fillmode": "overlay",
              "size": 10,
              "solidity": 0.2
             }
            },
            "type": "barpolar"
           }
          ],
          "carpet": [
           {
            "aaxis": {
             "endlinecolor": "#2a3f5f",
             "gridcolor": "white",
             "linecolor": "white",
             "minorgridcolor": "white",
             "startlinecolor": "#2a3f5f"
            },
            "baxis": {
             "endlinecolor": "#2a3f5f",
             "gridcolor": "white",
             "linecolor": "white",
             "minorgridcolor": "white",
             "startlinecolor": "#2a3f5f"
            },
            "type": "carpet"
           }
          ],
          "choropleth": [
           {
            "colorbar": {
             "outlinewidth": 0,
             "ticks": ""
            },
            "type": "choropleth"
           }
          ],
          "contour": [
           {
            "colorbar": {
             "outlinewidth": 0,
             "ticks": ""
            },
            "colorscale": [
             [
              0,
              "#0d0887"
             ],
             [
              0.1111111111111111,
              "#46039f"
             ],
             [
              0.2222222222222222,
              "#7201a8"
             ],
             [
              0.3333333333333333,
              "#9c179e"
             ],
             [
              0.4444444444444444,
              "#bd3786"
             ],
             [
              0.5555555555555556,
              "#d8576b"
             ],
             [
              0.6666666666666666,
              "#ed7953"
             ],
             [
              0.7777777777777778,
              "#fb9f3a"
             ],
             [
              0.8888888888888888,
              "#fdca26"
             ],
             [
              1,
              "#f0f921"
             ]
            ],
            "type": "contour"
           }
          ],
          "contourcarpet": [
           {
            "colorbar": {
             "outlinewidth": 0,
             "ticks": ""
            },
            "type": "contourcarpet"
           }
          ],
          "heatmap": [
           {
            "colorbar": {
             "outlinewidth": 0,
             "ticks": ""
            },
            "colorscale": [
             [
              0,
              "#0d0887"
             ],
             [
              0.1111111111111111,
              "#46039f"
             ],
             [
              0.2222222222222222,
              "#7201a8"
             ],
             [
              0.3333333333333333,
              "#9c179e"
             ],
             [
              0.4444444444444444,
              "#bd3786"
             ],
             [
              0.5555555555555556,
              "#d8576b"
             ],
             [
              0.6666666666666666,
              "#ed7953"
             ],
             [
              0.7777777777777778,
              "#fb9f3a"
             ],
             [
              0.8888888888888888,
              "#fdca26"
             ],
             [
              1,
              "#f0f921"
             ]
            ],
            "type": "heatmap"
           }
          ],
          "histogram": [
           {
            "marker": {
             "pattern": {
              "fillmode": "overlay",
              "size": 10,
              "solidity": 0.2
             }
            },
            "type": "histogram"
           }
          ],
          "histogram2d": [
           {
            "colorbar": {
             "outlinewidth": 0,
             "ticks": ""
            },
            "colorscale": [
             [
              0,
              "#0d0887"
             ],
             [
              0.1111111111111111,
              "#46039f"
             ],
             [
              0.2222222222222222,
              "#7201a8"
             ],
             [
              0.3333333333333333,
              "#9c179e"
             ],
             [
              0.4444444444444444,
              "#bd3786"
             ],
             [
              0.5555555555555556,
              "#d8576b"
             ],
             [
              0.6666666666666666,
              "#ed7953"
             ],
             [
              0.7777777777777778,
              "#fb9f3a"
             ],
             [
              0.8888888888888888,
              "#fdca26"
             ],
             [
              1,
              "#f0f921"
             ]
            ],
            "type": "histogram2d"
           }
          ],
          "histogram2dcontour": [
           {
            "colorbar": {
             "outlinewidth": 0,
             "ticks": ""
            },
            "colorscale": [
             [
              0,
              "#0d0887"
             ],
             [
              0.1111111111111111,
              "#46039f"
             ],
             [
              0.2222222222222222,
              "#7201a8"
             ],
             [
              0.3333333333333333,
              "#9c179e"
             ],
             [
              0.4444444444444444,
              "#bd3786"
             ],
             [
              0.5555555555555556,
              "#d8576b"
             ],
             [
              0.6666666666666666,
              "#ed7953"
             ],
             [
              0.7777777777777778,
              "#fb9f3a"
             ],
             [
              0.8888888888888888,
              "#fdca26"
             ],
             [
              1,
              "#f0f921"
             ]
            ],
            "type": "histogram2dcontour"
           }
          ],
          "mesh3d": [
           {
            "colorbar": {
             "outlinewidth": 0,
             "ticks": ""
            },
            "type": "mesh3d"
           }
          ],
          "parcoords": [
           {
            "line": {
             "colorbar": {
              "outlinewidth": 0,
              "ticks": ""
             }
            },
            "type": "parcoords"
           }
          ],
          "pie": [
           {
            "automargin": true,
            "type": "pie"
           }
          ],
          "scatter": [
           {
            "fillpattern": {
             "fillmode": "overlay",
             "size": 10,
             "solidity": 0.2
            },
            "type": "scatter"
           }
          ],
          "scatter3d": [
           {
            "line": {
             "colorbar": {
              "outlinewidth": 0,
              "ticks": ""
             }
            },
            "marker": {
             "colorbar": {
              "outlinewidth": 0,
              "ticks": ""
             }
            },
            "type": "scatter3d"
           }
          ],
          "scattercarpet": [
           {
            "marker": {
             "colorbar": {
              "outlinewidth": 0,
              "ticks": ""
             }
            },
            "type": "scattercarpet"
           }
          ],
          "scattergeo": [
           {
            "marker": {
             "colorbar": {
              "outlinewidth": 0,
              "ticks": ""
             }
            },
            "type": "scattergeo"
           }
          ],
          "scattergl": [
           {
            "marker": {
             "colorbar": {
              "outlinewidth": 0,
              "ticks": ""
             }
            },
            "type": "scattergl"
           }
          ],
          "scattermap": [
           {
            "marker": {
             "colorbar": {
              "outlinewidth": 0,
              "ticks": ""
             }
            },
            "type": "scattermap"
           }
          ],
          "scattermapbox": [
           {
            "marker": {
             "colorbar": {
              "outlinewidth": 0,
              "ticks": ""
             }
            },
            "type": "scattermapbox"
           }
          ],
          "scatterpolar": [
           {
            "marker": {
             "colorbar": {
              "outlinewidth": 0,
              "ticks": ""
             }
            },
            "type": "scatterpolar"
           }
          ],
          "scatterpolargl": [
           {
            "marker": {
             "colorbar": {
              "outlinewidth": 0,
              "ticks": ""
             }
            },
            "type": "scatterpolargl"
           }
          ],
          "scatterternary": [
           {
            "marker": {
             "colorbar": {
              "outlinewidth": 0,
              "ticks": ""
             }
            },
            "type": "scatterternary"
           }
          ],
          "surface": [
           {
            "colorbar": {
             "outlinewidth": 0,
             "ticks": ""
            },
            "colorscale": [
             [
              0,
              "#0d0887"
             ],
             [
              0.1111111111111111,
              "#46039f"
             ],
             [
              0.2222222222222222,
              "#7201a8"
             ],
             [
              0.3333333333333333,
              "#9c179e"
             ],
             [
              0.4444444444444444,
              "#bd3786"
             ],
             [
              0.5555555555555556,
              "#d8576b"
             ],
             [
              0.6666666666666666,
              "#ed7953"
             ],
             [
              0.7777777777777778,
              "#fb9f3a"
             ],
             [
              0.8888888888888888,
              "#fdca26"
             ],
             [
              1,
              "#f0f921"
             ]
            ],
            "type": "surface"
           }
          ],
          "table": [
           {
            "cells": {
             "fill": {
              "color": "#EBF0F8"
             },
             "line": {
              "color": "white"
             }
            },
            "header": {
             "fill": {
              "color": "#C8D4E3"
             },
             "line": {
              "color": "white"
             }
            },
            "type": "table"
           }
          ]
         },
         "layout": {
          "annotationdefaults": {
           "arrowcolor": "#2a3f5f",
           "arrowhead": 0,
           "arrowwidth": 1
          },
          "autotypenumbers": "strict",
          "coloraxis": {
           "colorbar": {
            "outlinewidth": 0,
            "ticks": ""
           }
          },
          "colorscale": {
           "diverging": [
            [
             0,
             "#8e0152"
            ],
            [
             0.1,
             "#c51b7d"
            ],
            [
             0.2,
             "#de77ae"
            ],
            [
             0.3,
             "#f1b6da"
            ],
            [
             0.4,
             "#fde0ef"
            ],
            [
             0.5,
             "#f7f7f7"
            ],
            [
             0.6,
             "#e6f5d0"
            ],
            [
             0.7,
             "#b8e186"
            ],
            [
             0.8,
             "#7fbc41"
            ],
            [
             0.9,
             "#4d9221"
            ],
            [
             1,
             "#276419"
            ]
           ],
           "sequential": [
            [
             0,
             "#0d0887"
            ],
            [
             0.1111111111111111,
             "#46039f"
            ],
            [
             0.2222222222222222,
             "#7201a8"
            ],
            [
             0.3333333333333333,
             "#9c179e"
            ],
            [
             0.4444444444444444,
             "#bd3786"
            ],
            [
             0.5555555555555556,
             "#d8576b"
            ],
            [
             0.6666666666666666,
             "#ed7953"
            ],
            [
             0.7777777777777778,
             "#fb9f3a"
            ],
            [
             0.8888888888888888,
             "#fdca26"
            ],
            [
             1,
             "#f0f921"
            ]
           ],
           "sequentialminus": [
            [
             0,
             "#0d0887"
            ],
            [
             0.1111111111111111,
             "#46039f"
            ],
            [
             0.2222222222222222,
             "#7201a8"
            ],
            [
             0.3333333333333333,
             "#9c179e"
            ],
            [
             0.4444444444444444,
             "#bd3786"
            ],
            [
             0.5555555555555556,
             "#d8576b"
            ],
            [
             0.6666666666666666,
             "#ed7953"
            ],
            [
             0.7777777777777778,
             "#fb9f3a"
            ],
            [
             0.8888888888888888,
             "#fdca26"
            ],
            [
             1,
             "#f0f921"
            ]
           ]
          },
          "colorway": [
           "#636efa",
           "#EF553B",
           "#00cc96",
           "#ab63fa",
           "#FFA15A",
           "#19d3f3",
           "#FF6692",
           "#B6E880",
           "#FF97FF",
           "#FECB52"
          ],
          "font": {
           "color": "#2a3f5f"
          },
          "geo": {
           "bgcolor": "white",
           "lakecolor": "white",
           "landcolor": "#E5ECF6",
           "showlakes": true,
           "showland": true,
           "subunitcolor": "white"
          },
          "hoverlabel": {
           "align": "left"
          },
          "hovermode": "closest",
          "mapbox": {
           "style": "light"
          },
          "paper_bgcolor": "white",
          "plot_bgcolor": "#E5ECF6",
          "polar": {
           "angularaxis": {
            "gridcolor": "white",
            "linecolor": "white",
            "ticks": ""
           },
           "bgcolor": "#E5ECF6",
           "radialaxis": {
            "gridcolor": "white",
            "linecolor": "white",
            "ticks": ""
           }
          },
          "scene": {
           "xaxis": {
            "backgroundcolor": "#E5ECF6",
            "gridcolor": "white",
            "gridwidth": 2,
            "linecolor": "white",
            "showbackground": true,
            "ticks": "",
            "zerolinecolor": "white"
           },
           "yaxis": {
            "backgroundcolor": "#E5ECF6",
            "gridcolor": "white",
            "gridwidth": 2,
            "linecolor": "white",
            "showbackground": true,
            "ticks": "",
            "zerolinecolor": "white"
           },
           "zaxis": {
            "backgroundcolor": "#E5ECF6",
            "gridcolor": "white",
            "gridwidth": 2,
            "linecolor": "white",
            "showbackground": true,
            "ticks": "",
            "zerolinecolor": "white"
           }
          },
          "shapedefaults": {
           "line": {
            "color": "#2a3f5f"
           }
          },
          "ternary": {
           "aaxis": {
            "gridcolor": "white",
            "linecolor": "white",
            "ticks": ""
           },
           "baxis": {
            "gridcolor": "white",
            "linecolor": "white",
            "ticks": ""
           },
           "bgcolor": "#E5ECF6",
           "caxis": {
            "gridcolor": "white",
            "linecolor": "white",
            "ticks": ""
           }
          },
          "title": {
           "x": 0.05
          },
          "xaxis": {
           "automargin": true,
           "gridcolor": "white",
           "linecolor": "white",
           "ticks": "",
           "title": {
            "standoff": 15
           },
           "zerolinecolor": "white",
           "zerolinewidth": 2
          },
          "yaxis": {
           "automargin": true,
           "gridcolor": "white",
           "linecolor": "white",
           "ticks": "",
           "title": {
            "standoff": 15
           },
           "zerolinecolor": "white",
           "zerolinewidth": 2
          }
         }
        },
        "title": {
         "text": "Placement by Internship Experience"
        },
        "xaxis": {
         "anchor": "y",
         "domain": [
          0,
          1
         ],
         "title": {
          "text": "Internship_Experience"
         }
        },
        "yaxis": {
         "anchor": "x",
         "domain": [
          0,
          1
         ],
         "title": {
          "text": "Placement"
         }
        }
       }
      }
     },
     "metadata": {},
     "output_type": "display_data"
    }
   ],
   "source": [
    "import plotly.express as px\n",
    "\n",
    "# Interactive bar chart: Placement by Internship Experience\n",
    "fig = px.bar(df, x='Internship_Experience', y='Placement', color='Internship_Experience', barmode='group')\n",
    "fig.update_layout(title='Placement by Internship Experience')\n",
    "fig.show()"
   ]
  },
  {
   "cell_type": "markdown",
   "id": "935f11a7",
   "metadata": {},
   "source": [
    "## 3 - Feature Engineering"
   ]
  },
  {
   "cell_type": "markdown",
   "id": "da67d9b7",
   "metadata": {},
   "source": [
    "### Splitting Data"
   ]
  },
  {
   "cell_type": "code",
   "execution_count": 39,
   "id": "5bb8ebe1",
   "metadata": {},
   "outputs": [],
   "source": [
    "# Features: all columns except 'Placement'\n",
    "X = df.drop('Placement', axis=1)\n",
    "# Target: 'Placement' column\n",
    "y = df['Placement']"
   ]
  },
  {
   "cell_type": "markdown",
   "id": "ce6e0357",
   "metadata": {},
   "source": [
    "### Normalizing Data"
   ]
  },
  {
   "cell_type": "code",
   "execution_count": 40,
   "id": "34c84a6d",
   "metadata": {},
   "outputs": [
    {
     "ename": "ModuleNotFoundError",
     "evalue": "No module named 'sklearn'",
     "output_type": "error",
     "traceback": [
      "\u001b[31m---------------------------------------------------------------------------\u001b[39m",
      "\u001b[31mModuleNotFoundError\u001b[39m                       Traceback (most recent call last)",
      "\u001b[36mCell\u001b[39m\u001b[36m \u001b[39m\u001b[32mIn[40]\u001b[39m\u001b[32m, line 1\u001b[39m\n\u001b[32m----> \u001b[39m\u001b[32m1\u001b[39m \u001b[38;5;28;01mfrom\u001b[39;00m\u001b[38;5;250m \u001b[39m\u001b[34;01msklearn\u001b[39;00m\u001b[34;01m.\u001b[39;00m\u001b[34;01mpreprocessing\u001b[39;00m\u001b[38;5;250m \u001b[39m\u001b[38;5;28;01mimport\u001b[39;00m StandardScaler\n\u001b[32m      3\u001b[39m scaler = StandardScaler()\n\u001b[32m      4\u001b[39m X_scaled = scaler.fit_transform(X)\n",
      "\u001b[31mModuleNotFoundError\u001b[39m: No module named 'sklearn'"
     ]
    }
   ],
   "source": [
    "from sklearn.preprocessing import StandardScaler\n",
    "\n",
    "scaler = StandardScaler()\n",
    "X_scaled = scaler.fit_transform(X)"
   ]
  },
  {
   "cell_type": "markdown",
   "id": "a56a205c",
   "metadata": {},
   "source": [
    "### Train Test Splitting"
   ]
  },
  {
   "cell_type": "code",
   "execution_count": null,
   "id": "5a5ecc85",
   "metadata": {},
   "outputs": [],
   "source": [
    "from sklearn.model_selection import train_test_split\n",
    "\n",
    "X_train, X_test, y_train, y_test = train_test_split(X_scaled, y, test_size=0.2, random_state=42)"
   ]
  },
  {
   "cell_type": "markdown",
   "id": "8d75e796",
   "metadata": {},
   "source": [
    "## 4- Model Training"
   ]
  },
  {
   "cell_type": "markdown",
   "id": "6ab9c4c0",
   "metadata": {},
   "source": [
    "### KNN Classifier"
   ]
  },
  {
   "cell_type": "code",
   "execution_count": null,
   "id": "20406278",
   "metadata": {},
   "outputs": [],
   "source": [
    "from sklearn.neighbors import KNeighborsClassifier\n",
    "\n",
    "knn = KNeighborsClassifier()\n",
    "knn.fit(X_train, y_train)\n",
    "knn_pred = knn.predict(X_test)"
   ]
  },
  {
   "cell_type": "markdown",
   "id": "c05f12df",
   "metadata": {},
   "source": [
    "### Decision Tree Classifier"
   ]
  },
  {
   "cell_type": "code",
   "execution_count": null,
   "id": "2c4be24d",
   "metadata": {},
   "outputs": [],
   "source": [
    "from sklearn.tree import DecisionTreeClassifier\n",
    "\n",
    "dt = DecisionTreeClassifier(random_state=42)\n",
    "dt.fit(X_train, y_train)\n",
    "dt_pred = dt.predict(X_test)"
   ]
  },
  {
   "cell_type": "markdown",
   "id": "1f43924f",
   "metadata": {},
   "source": [
    "### Random Forest Classifier"
   ]
  },
  {
   "cell_type": "code",
   "execution_count": null,
   "id": "0088799e",
   "metadata": {},
   "outputs": [],
   "source": [
    "from sklearn.ensemble import RandomForestClassifier\n",
    "\n",
    "rf = RandomForestClassifier(random_state=42)\n",
    "rf.fit(X_train, y_train)\n",
    "rf_pred = rf.predict(X_test)"
   ]
  },
  {
   "cell_type": "markdown",
   "id": "548e1294",
   "metadata": {},
   "source": [
    "## 5 - Model Evaluation"
   ]
  },
  {
   "cell_type": "code",
   "execution_count": null,
   "id": "b319f140",
   "metadata": {},
   "outputs": [],
   "source": [
    "from sklearn.metrics import accuracy_score, precision_score, recall_score, f1_score, confusion_matrix, classification_report, roc_curve, auc\n",
    "import matplotlib.pyplot as plt\n",
    "\n",
    "models = {\n",
    "    \"KNN\": knn_pred,\n",
    "    \"Decision Tree\": dt_pred,\n",
    "    \"Random Forest\": rf_pred\n",
    "}\n",
    "\n",
    "for name, pred in models.items():\n",
    "    print(f\"--- {name} ---\")\n",
    "    print(\"Accuracy:\", accuracy_score(y_test, pred))\n",
    "    print(\"Precision:\", precision_score(y_test, pred))\n",
    "    print(\"Recall:\", recall_score(y_test, pred))\n",
    "    print(\"F1 Score:\", f1_score(y_test, pred))\n",
    "    print(\"Confusion Matrix:\\n\", confusion_matrix(y_test, pred))\n",
    "    print(\"Classification Report:\\n\", classification_report(y_test, pred))\n",
    "    print(\"\\n\")\n",
    "\n",
    "# ROC Curve for the best model (Random Forest as example)\n",
    "rf_probs = rf.predict_proba(X_test)[:, 1]\n",
    "fpr, tpr, thresholds = roc_curve(y_test, rf_probs)\n",
    "roc_auc = auc(fpr, tpr)\n",
    "\n",
    "plt.figure()\n",
    "plt.plot(fpr, tpr, label=f'Random Forest (AUC = {roc_auc:.2f})')\n",
    "plt.plot([0, 1], [0, 1], 'k--')\n",
    "plt.xlabel('False Positive Rate')\n",
    "plt.ylabel('True Positive Rate')\n",
    "plt.title('ROC Curve')\n",
    "plt.legend(loc='lower right')\n",
    "plt.show()"
   ]
  },
  {
   "cell_type": "markdown",
   "id": "10022e86",
   "metadata": {},
   "source": [
    "## 6 - Feature Importance"
   ]
  },
  {
   "cell_type": "markdown",
   "id": "29f731f4",
   "metadata": {},
   "source": [
    "### Extracting & Visualizing Feature Importance"
   ]
  },
  {
   "cell_type": "code",
   "execution_count": null,
   "id": "9611f8fb",
   "metadata": {},
   "outputs": [],
   "source": [
    "# Get feature importances from Random Forest\n",
    "import pandas as pd\n",
    "import matplotlib.pyplot as plt\n",
    "\n",
    "feature_importances = rf.feature_importances_\n",
    "feature_names = X.columns\n",
    "\n",
    "# Create a DataFrame for easy plotting\n",
    "fi_df = pd.DataFrame({'Feature': feature_names, 'Importance': feature_importances})\n",
    "fi_df = fi_df.sort_values('Importance', ascending=False)\n",
    "\n",
    "# Plot\n",
    "plt.figure(figsize=(8,5))\n",
    "plt.barh(fi_df['Feature'], fi_df['Importance'])\n",
    "plt.xlabel('Importance')\n",
    "plt.title('Feature Importance from Random Forest')\n",
    "plt.gca().invert_yaxis()\n",
    "plt.show()"
   ]
  },
  {
   "cell_type": "markdown",
   "id": "2eec6515",
   "metadata": {},
   "source": [
    "## 7 - Hyperparameter Tunning"
   ]
  },
  {
   "cell_type": "code",
   "execution_count": null,
   "id": "679e35d7",
   "metadata": {},
   "outputs": [],
   "source": [
    "from sklearn.model_selection import RandomizedSearchCV\n",
    "\n",
    "# KNN tuning\n",
    "knn_params = {\n",
    "    'n_neighbors': range(1, 21),\n",
    "    'weights': ['uniform', 'distance'],\n",
    "    'metric': ['euclidean', 'manhattan', 'minkowski']\n",
    "}\n",
    "knn_search = RandomizedSearchCV(KNeighborsClassifier(), knn_params, n_iter=10, cv=5, random_state=42)\n",
    "knn_search.fit(X_train, y_train)\n",
    "knn_best = knn_search.best_estimator_\n",
    "knn_best_pred = knn_best.predict(X_test)\n",
    "\n",
    "# Decision Tree tuning\n",
    "dt_params = {\n",
    "    'max_depth': range(1, 21),\n",
    "    'min_samples_split': range(2, 11)\n",
    "}\n",
    "dt_search = RandomizedSearchCV(DecisionTreeClassifier(random_state=42), dt_params, n_iter=10, cv=5, random_state=42)\n",
    "dt_search.fit(X_train, y_train)\n",
    "dt_best = dt_search.best_estimator_\n",
    "dt_best_pred = dt_best.predict(X_test)\n",
    "\n",
    "# Random Forest tuning\n",
    "rf_params = {\n",
    "    'n_estimators': [50, 100, 150, 200],\n",
    "    'max_depth': range(1, 21),\n",
    "    'min_samples_split': range(2, 11)\n",
    "}\n",
    "rf_search = RandomizedSearchCV(RandomForestClassifier(random_state=42), rf_params, n_iter=10, cv=5, random_state=42)\n",
    "rf_search.fit(X_train, y_train)\n",
    "rf_best = rf_search.best_estimator_\n",
    "rf_best_pred = rf_best.predict(X_test)\n",
    "\n",
    "print(\"Best KNN:\", knn_search.best_params_)\n",
    "print(\"Best Decision Tree:\", dt_search.best_params_)\n",
    "print(\"Best Random Forest:\", rf_search.best_params_)"
   ]
  },
  {
   "cell_type": "markdown",
   "id": "cee86e64",
   "metadata": {},
   "source": [
    "## 6- Evaluating Tuned Models"
   ]
  },
  {
   "cell_type": "code",
   "execution_count": null,
   "id": "daa3097f",
   "metadata": {},
   "outputs": [],
   "source": [
    "print(\"\\n--- Tuned Model Results ---\")\n",
    "tuned_models = {\n",
    "    \"KNN (Tuned)\": knn_best_pred,\n",
    "    \"Decision Tree (Tuned)\": dt_best_pred,\n",
    "    \"Random Forest (Tuned)\": rf_best_pred\n",
    "}\n",
    "\n",
    "for name, pred in tuned_models.items():\n",
    "    print(f\"--- {name} ---\")\n",
    "    print(\"Accuracy:\", accuracy_score(y_test, pred))\n",
    "    print(\"Precision:\", precision_score(y_test, pred))\n",
    "    print(\"Recall:\", recall_score(y_test, pred))\n",
    "    print(\"F1 Score:\", f1_score(y_test, pred))\n",
    "    print(\"Confusion Matrix:\\n\", confusion_matrix(y_test, pred))\n",
    "    print(\"Classification Report:\\n\", classification_report(y_test, pred))\n",
    "    print(\"\\n\")\n",
    "\n",
    "# ROC Curve for the best tuned model (Random Forest as example)\n",
    "rf_best_probs = rf_best.predict_proba(X_test)[:, 1]\n",
    "fpr, tpr, thresholds = roc_curve(y_test, rf_best_probs)\n",
    "roc_auc = auc(fpr, tpr)\n",
    "\n",
    "plt.figure()\n",
    "plt.plot(fpr, tpr, label=f'Random Forest Tuned (AUC = {roc_auc:.2f})')\n",
    "plt.plot([0, 1], [0, 1], 'k--')\n",
    "plt.xlabel('False Positive Rate')\n",
    "plt.ylabel('True Positive Rate')\n",
    "plt.title('ROC Curve (Tuned Random Forest)')\n",
    "plt.legend(loc='lower right')\n",
    "plt.show()"
   ]
  }
 ],
 "metadata": {
  "kernelspec": {
   "display_name": "python_course_env",
   "language": "python",
   "name": "python3"
  },
  "language_info": {
   "codemirror_mode": {
    "name": "ipython",
    "version": 3
   },
   "file_extension": ".py",
   "mimetype": "text/x-python",
   "name": "python",
   "nbconvert_exporter": "python",
   "pygments_lexer": "ipython3",
   "version": "3.13.5"
  }
 },
 "nbformat": 4,
 "nbformat_minor": 5
}
