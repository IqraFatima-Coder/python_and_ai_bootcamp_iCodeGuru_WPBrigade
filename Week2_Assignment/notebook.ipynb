{
 "cells": [
  {
   "cell_type": "markdown",
   "id": "e544992a",
   "metadata": {},
   "source": [
    "# Assignment 2"
   ]
  },
  {
   "cell_type": "markdown",
   "id": "0425dafd",
   "metadata": {},
   "source": [
    "## 1 - Data Handling"
   ]
  },
  {
   "cell_type": "markdown",
   "id": "01614fad",
   "metadata": {},
   "source": [
    "### Loading Dataset"
   ]
  },
  {
   "cell_type": "code",
   "execution_count": 88,
   "id": "4915618e",
   "metadata": {},
   "outputs": [],
   "source": [
    "\n",
    "import pandas as  pd\n",
    "# Loading dataset\n",
    "df = pd.read_csv('college_student_placement_dataset.csv')\n"
   ]
  },
  {
   "cell_type": "markdown",
   "id": "5b59aed5",
   "metadata": {},
   "source": [
    "### Initial Checks"
   ]
  },
  {
   "cell_type": "code",
   "execution_count": 89,
   "id": "5d026534",
   "metadata": {},
   "outputs": [
    {
     "data": {
      "text/html": [
       "<div>\n",
       "<style scoped>\n",
       "    .dataframe tbody tr th:only-of-type {\n",
       "        vertical-align: middle;\n",
       "    }\n",
       "\n",
       "    .dataframe tbody tr th {\n",
       "        vertical-align: top;\n",
       "    }\n",
       "\n",
       "    .dataframe thead th {\n",
       "        text-align: right;\n",
       "    }\n",
       "</style>\n",
       "<table border=\"1\" class=\"dataframe\">\n",
       "  <thead>\n",
       "    <tr style=\"text-align: right;\">\n",
       "      <th></th>\n",
       "      <th>College_ID</th>\n",
       "      <th>IQ</th>\n",
       "      <th>Prev_Sem_Result</th>\n",
       "      <th>CGPA</th>\n",
       "      <th>Academic_Performance</th>\n",
       "      <th>Internship_Experience</th>\n",
       "      <th>Extra_Curricular_Score</th>\n",
       "      <th>Communication_Skills</th>\n",
       "      <th>Projects_Completed</th>\n",
       "      <th>Placement</th>\n",
       "    </tr>\n",
       "  </thead>\n",
       "  <tbody>\n",
       "    <tr>\n",
       "      <th>0</th>\n",
       "      <td>CLG0030</td>\n",
       "      <td>107</td>\n",
       "      <td>6.61</td>\n",
       "      <td>6.28</td>\n",
       "      <td>8</td>\n",
       "      <td>No</td>\n",
       "      <td>8</td>\n",
       "      <td>8</td>\n",
       "      <td>4</td>\n",
       "      <td>No</td>\n",
       "    </tr>\n",
       "    <tr>\n",
       "      <th>1</th>\n",
       "      <td>CLG0061</td>\n",
       "      <td>97</td>\n",
       "      <td>5.52</td>\n",
       "      <td>5.37</td>\n",
       "      <td>8</td>\n",
       "      <td>No</td>\n",
       "      <td>7</td>\n",
       "      <td>8</td>\n",
       "      <td>0</td>\n",
       "      <td>No</td>\n",
       "    </tr>\n",
       "    <tr>\n",
       "      <th>2</th>\n",
       "      <td>CLG0036</td>\n",
       "      <td>109</td>\n",
       "      <td>5.36</td>\n",
       "      <td>5.83</td>\n",
       "      <td>9</td>\n",
       "      <td>No</td>\n",
       "      <td>3</td>\n",
       "      <td>1</td>\n",
       "      <td>1</td>\n",
       "      <td>No</td>\n",
       "    </tr>\n",
       "    <tr>\n",
       "      <th>3</th>\n",
       "      <td>CLG0055</td>\n",
       "      <td>122</td>\n",
       "      <td>5.47</td>\n",
       "      <td>5.75</td>\n",
       "      <td>6</td>\n",
       "      <td>Yes</td>\n",
       "      <td>1</td>\n",
       "      <td>6</td>\n",
       "      <td>1</td>\n",
       "      <td>No</td>\n",
       "    </tr>\n",
       "    <tr>\n",
       "      <th>4</th>\n",
       "      <td>CLG0004</td>\n",
       "      <td>96</td>\n",
       "      <td>7.91</td>\n",
       "      <td>7.69</td>\n",
       "      <td>7</td>\n",
       "      <td>No</td>\n",
       "      <td>8</td>\n",
       "      <td>10</td>\n",
       "      <td>2</td>\n",
       "      <td>No</td>\n",
       "    </tr>\n",
       "  </tbody>\n",
       "</table>\n",
       "</div>"
      ],
      "text/plain": [
       "  College_ID   IQ  Prev_Sem_Result  CGPA  Academic_Performance  \\\n",
       "0    CLG0030  107             6.61  6.28                     8   \n",
       "1    CLG0061   97             5.52  5.37                     8   \n",
       "2    CLG0036  109             5.36  5.83                     9   \n",
       "3    CLG0055  122             5.47  5.75                     6   \n",
       "4    CLG0004   96             7.91  7.69                     7   \n",
       "\n",
       "  Internship_Experience  Extra_Curricular_Score  Communication_Skills  \\\n",
       "0                    No                       8                     8   \n",
       "1                    No                       7                     8   \n",
       "2                    No                       3                     1   \n",
       "3                   Yes                       1                     6   \n",
       "4                    No                       8                    10   \n",
       "\n",
       "   Projects_Completed Placement  \n",
       "0                   4        No  \n",
       "1                   0        No  \n",
       "2                   1        No  \n",
       "3                   1        No  \n",
       "4                   2        No  "
      ]
     },
     "execution_count": 89,
     "metadata": {},
     "output_type": "execute_result"
    }
   ],
   "source": [
    "# Previewing dataset\n",
    "df.head()"
   ]
  },
  {
   "cell_type": "code",
   "execution_count": 90,
   "id": "09c1dd5d",
   "metadata": {},
   "outputs": [
    {
     "name": "stdout",
     "output_type": "stream",
     "text": [
      "<class 'pandas.core.frame.DataFrame'>\n",
      "RangeIndex: 10000 entries, 0 to 9999\n",
      "Data columns (total 10 columns):\n",
      " #   Column                  Non-Null Count  Dtype  \n",
      "---  ------                  --------------  -----  \n",
      " 0   College_ID              10000 non-null  object \n",
      " 1   IQ                      10000 non-null  int64  \n",
      " 2   Prev_Sem_Result         10000 non-null  float64\n",
      " 3   CGPA                    10000 non-null  float64\n",
      " 4   Academic_Performance    10000 non-null  int64  \n",
      " 5   Internship_Experience   10000 non-null  object \n",
      " 6   Extra_Curricular_Score  10000 non-null  int64  \n",
      " 7   Communication_Skills    10000 non-null  int64  \n",
      " 8   Projects_Completed      10000 non-null  int64  \n",
      " 9   Placement               10000 non-null  object \n",
      "dtypes: float64(2), int64(5), object(3)\n",
      "memory usage: 781.4+ KB\n"
     ]
    }
   ],
   "source": [
    "df.info()"
   ]
  },
  {
   "cell_type": "code",
   "execution_count": 91,
   "id": "0db01a0e",
   "metadata": {},
   "outputs": [
    {
     "name": "stdout",
     "output_type": "stream",
     "text": [
      "Duplicate rows: 0\n"
     ]
    },
    {
     "data": {
      "text/plain": [
       "College_ID                0\n",
       "IQ                        0\n",
       "Prev_Sem_Result           0\n",
       "CGPA                      0\n",
       "Academic_Performance      0\n",
       "Internship_Experience     0\n",
       "Extra_Curricular_Score    0\n",
       "Communication_Skills      0\n",
       "Projects_Completed        0\n",
       "Placement                 0\n",
       "dtype: int64"
      ]
     },
     "execution_count": 91,
     "metadata": {},
     "output_type": "execute_result"
    }
   ],
   "source": [
    "\n",
    "# Check for duplicates\n",
    "print(\"Duplicate rows:\", df.duplicated().sum())\n",
    "\n",
    "\n",
    "# Checking missed values\n",
    "df.isnull().sum().sort_values(ascending=False)"
   ]
  },
  {
   "cell_type": "markdown",
   "id": "8aa62e1c",
   "metadata": {},
   "source": [
    "### Handling Missing Values & Duplicates"
   ]
  },
  {
   "cell_type": "code",
   "execution_count": 92,
   "id": "2fdf362b",
   "metadata": {},
   "outputs": [],
   "source": [
    "\n",
    "df.dropna(inplace=True) #drop missing values if exist (but not exist in my case)\n",
    "\n",
    "df = df.drop_duplicates() #Removing if any duplicate (But no duplicate in my case)"
   ]
  },
  {
   "cell_type": "markdown",
   "id": "cc708fc9",
   "metadata": {},
   "source": [
    "### Encoding Categorical Features"
   ]
  },
  {
   "cell_type": "code",
   "execution_count": 93,
   "id": "1fd52d7d",
   "metadata": {},
   "outputs": [
    {
     "data": {
      "text/html": [
       "<div>\n",
       "<style scoped>\n",
       "    .dataframe tbody tr th:only-of-type {\n",
       "        vertical-align: middle;\n",
       "    }\n",
       "\n",
       "    .dataframe tbody tr th {\n",
       "        vertical-align: top;\n",
       "    }\n",
       "\n",
       "    .dataframe thead th {\n",
       "        text-align: right;\n",
       "    }\n",
       "</style>\n",
       "<table border=\"1\" class=\"dataframe\">\n",
       "  <thead>\n",
       "    <tr style=\"text-align: right;\">\n",
       "      <th></th>\n",
       "      <th>College_ID</th>\n",
       "      <th>IQ</th>\n",
       "      <th>Prev_Sem_Result</th>\n",
       "      <th>CGPA</th>\n",
       "      <th>Academic_Performance</th>\n",
       "      <th>Internship_Experience</th>\n",
       "      <th>Extra_Curricular_Score</th>\n",
       "      <th>Communication_Skills</th>\n",
       "      <th>Projects_Completed</th>\n",
       "      <th>Placement</th>\n",
       "    </tr>\n",
       "  </thead>\n",
       "  <tbody>\n",
       "    <tr>\n",
       "      <th>0</th>\n",
       "      <td>CLG0030</td>\n",
       "      <td>107</td>\n",
       "      <td>6.61</td>\n",
       "      <td>6.28</td>\n",
       "      <td>8</td>\n",
       "      <td>0</td>\n",
       "      <td>8</td>\n",
       "      <td>8</td>\n",
       "      <td>4</td>\n",
       "      <td>0</td>\n",
       "    </tr>\n",
       "    <tr>\n",
       "      <th>1</th>\n",
       "      <td>CLG0061</td>\n",
       "      <td>97</td>\n",
       "      <td>5.52</td>\n",
       "      <td>5.37</td>\n",
       "      <td>8</td>\n",
       "      <td>0</td>\n",
       "      <td>7</td>\n",
       "      <td>8</td>\n",
       "      <td>0</td>\n",
       "      <td>0</td>\n",
       "    </tr>\n",
       "    <tr>\n",
       "      <th>2</th>\n",
       "      <td>CLG0036</td>\n",
       "      <td>109</td>\n",
       "      <td>5.36</td>\n",
       "      <td>5.83</td>\n",
       "      <td>9</td>\n",
       "      <td>0</td>\n",
       "      <td>3</td>\n",
       "      <td>1</td>\n",
       "      <td>1</td>\n",
       "      <td>0</td>\n",
       "    </tr>\n",
       "    <tr>\n",
       "      <th>3</th>\n",
       "      <td>CLG0055</td>\n",
       "      <td>122</td>\n",
       "      <td>5.47</td>\n",
       "      <td>5.75</td>\n",
       "      <td>6</td>\n",
       "      <td>1</td>\n",
       "      <td>1</td>\n",
       "      <td>6</td>\n",
       "      <td>1</td>\n",
       "      <td>0</td>\n",
       "    </tr>\n",
       "    <tr>\n",
       "      <th>4</th>\n",
       "      <td>CLG0004</td>\n",
       "      <td>96</td>\n",
       "      <td>7.91</td>\n",
       "      <td>7.69</td>\n",
       "      <td>7</td>\n",
       "      <td>0</td>\n",
       "      <td>8</td>\n",
       "      <td>10</td>\n",
       "      <td>2</td>\n",
       "      <td>0</td>\n",
       "    </tr>\n",
       "  </tbody>\n",
       "</table>\n",
       "</div>"
      ],
      "text/plain": [
       "  College_ID   IQ  Prev_Sem_Result  CGPA  Academic_Performance  \\\n",
       "0    CLG0030  107             6.61  6.28                     8   \n",
       "1    CLG0061   97             5.52  5.37                     8   \n",
       "2    CLG0036  109             5.36  5.83                     9   \n",
       "3    CLG0055  122             5.47  5.75                     6   \n",
       "4    CLG0004   96             7.91  7.69                     7   \n",
       "\n",
       "   Internship_Experience  Extra_Curricular_Score  Communication_Skills  \\\n",
       "0                      0                       8                     8   \n",
       "1                      0                       7                     8   \n",
       "2                      0                       3                     1   \n",
       "3                      1                       1                     6   \n",
       "4                      0                       8                    10   \n",
       "\n",
       "   Projects_Completed  Placement  \n",
       "0                   4          0  \n",
       "1                   0          0  \n",
       "2                   1          0  \n",
       "3                   1          0  \n",
       "4                   2          0  "
      ]
     },
     "execution_count": 93,
     "metadata": {},
     "output_type": "execute_result"
    }
   ],
   "source": [
    "\n",
    "#Removing Extra spaces of columns\n",
    "df['Internship_Experience'] = df['Internship_Experience'].str.strip()\n",
    "df['Placement'] = df['Placement'].str.strip()\n",
    "\n",
    "# Converting 'Yes'/'No' to 1/0 for Internship Experience\n",
    "df['Internship_Experience'] = df['Internship_Experience'].map({'Yes':1 ,'No':0})\n",
    "\n",
    "\n",
    "# Converting 'Yes'/'No' to 1/0 for Placement\n",
    "df['Placement'] = df['Placement'].map( {'Yes':1,'No':0})    \n",
    "\n",
    "df.head()                                                    "
   ]
  },
  {
   "cell_type": "markdown",
   "id": "5a530461",
   "metadata": {},
   "source": [
    "### Dropping not useful data"
   ]
  },
  {
   "cell_type": "code",
   "execution_count": 94,
   "id": "f7d3540b",
   "metadata": {},
   "outputs": [],
   "source": [
    "df = df.drop('College_ID', axis = 1)\n"
   ]
  },
  {
   "cell_type": "markdown",
   "id": "8c4d323c",
   "metadata": {},
   "source": [
    "## 2 - Exploratory Data Analysis"
   ]
  },
  {
   "cell_type": "markdown",
   "id": "0329c566",
   "metadata": {},
   "source": [
    "### Basic statistics"
   ]
  },
  {
   "cell_type": "code",
   "execution_count": 95,
   "id": "88f88a87",
   "metadata": {},
   "outputs": [
    {
     "data": {
      "text/html": [
       "<div>\n",
       "<style scoped>\n",
       "    .dataframe tbody tr th:only-of-type {\n",
       "        vertical-align: middle;\n",
       "    }\n",
       "\n",
       "    .dataframe tbody tr th {\n",
       "        vertical-align: top;\n",
       "    }\n",
       "\n",
       "    .dataframe thead th {\n",
       "        text-align: right;\n",
       "    }\n",
       "</style>\n",
       "<table border=\"1\" class=\"dataframe\">\n",
       "  <thead>\n",
       "    <tr style=\"text-align: right;\">\n",
       "      <th></th>\n",
       "      <th>IQ</th>\n",
       "      <th>Prev_Sem_Result</th>\n",
       "      <th>CGPA</th>\n",
       "      <th>Academic_Performance</th>\n",
       "      <th>Internship_Experience</th>\n",
       "      <th>Extra_Curricular_Score</th>\n",
       "      <th>Communication_Skills</th>\n",
       "      <th>Projects_Completed</th>\n",
       "      <th>Placement</th>\n",
       "    </tr>\n",
       "  </thead>\n",
       "  <tbody>\n",
       "    <tr>\n",
       "      <th>count</th>\n",
       "      <td>10000.000000</td>\n",
       "      <td>10000.000000</td>\n",
       "      <td>10000.000000</td>\n",
       "      <td>10000.000000</td>\n",
       "      <td>10000.000000</td>\n",
       "      <td>10000.000000</td>\n",
       "      <td>10000.000000</td>\n",
       "      <td>10000.000000</td>\n",
       "      <td>10000.000000</td>\n",
       "    </tr>\n",
       "    <tr>\n",
       "      <th>mean</th>\n",
       "      <td>99.471800</td>\n",
       "      <td>7.535673</td>\n",
       "      <td>7.532379</td>\n",
       "      <td>5.546400</td>\n",
       "      <td>0.396400</td>\n",
       "      <td>4.970900</td>\n",
       "      <td>5.561800</td>\n",
       "      <td>2.513400</td>\n",
       "      <td>0.165900</td>\n",
       "    </tr>\n",
       "    <tr>\n",
       "      <th>std</th>\n",
       "      <td>15.053101</td>\n",
       "      <td>1.447519</td>\n",
       "      <td>1.470141</td>\n",
       "      <td>2.873477</td>\n",
       "      <td>0.489174</td>\n",
       "      <td>3.160103</td>\n",
       "      <td>2.900866</td>\n",
       "      <td>1.715959</td>\n",
       "      <td>0.372009</td>\n",
       "    </tr>\n",
       "    <tr>\n",
       "      <th>min</th>\n",
       "      <td>41.000000</td>\n",
       "      <td>5.000000</td>\n",
       "      <td>4.540000</td>\n",
       "      <td>1.000000</td>\n",
       "      <td>0.000000</td>\n",
       "      <td>0.000000</td>\n",
       "      <td>1.000000</td>\n",
       "      <td>0.000000</td>\n",
       "      <td>0.000000</td>\n",
       "    </tr>\n",
       "    <tr>\n",
       "      <th>25%</th>\n",
       "      <td>89.000000</td>\n",
       "      <td>6.290000</td>\n",
       "      <td>6.290000</td>\n",
       "      <td>3.000000</td>\n",
       "      <td>0.000000</td>\n",
       "      <td>2.000000</td>\n",
       "      <td>3.000000</td>\n",
       "      <td>1.000000</td>\n",
       "      <td>0.000000</td>\n",
       "    </tr>\n",
       "    <tr>\n",
       "      <th>50%</th>\n",
       "      <td>99.000000</td>\n",
       "      <td>7.560000</td>\n",
       "      <td>7.550000</td>\n",
       "      <td>6.000000</td>\n",
       "      <td>0.000000</td>\n",
       "      <td>5.000000</td>\n",
       "      <td>6.000000</td>\n",
       "      <td>3.000000</td>\n",
       "      <td>0.000000</td>\n",
       "    </tr>\n",
       "    <tr>\n",
       "      <th>75%</th>\n",
       "      <td>110.000000</td>\n",
       "      <td>8.790000</td>\n",
       "      <td>8.770000</td>\n",
       "      <td>8.000000</td>\n",
       "      <td>1.000000</td>\n",
       "      <td>8.000000</td>\n",
       "      <td>8.000000</td>\n",
       "      <td>4.000000</td>\n",
       "      <td>0.000000</td>\n",
       "    </tr>\n",
       "    <tr>\n",
       "      <th>max</th>\n",
       "      <td>158.000000</td>\n",
       "      <td>10.000000</td>\n",
       "      <td>10.460000</td>\n",
       "      <td>10.000000</td>\n",
       "      <td>1.000000</td>\n",
       "      <td>10.000000</td>\n",
       "      <td>10.000000</td>\n",
       "      <td>5.000000</td>\n",
       "      <td>1.000000</td>\n",
       "    </tr>\n",
       "  </tbody>\n",
       "</table>\n",
       "</div>"
      ],
      "text/plain": [
       "                 IQ  Prev_Sem_Result          CGPA  Academic_Performance  \\\n",
       "count  10000.000000     10000.000000  10000.000000          10000.000000   \n",
       "mean      99.471800         7.535673      7.532379              5.546400   \n",
       "std       15.053101         1.447519      1.470141              2.873477   \n",
       "min       41.000000         5.000000      4.540000              1.000000   \n",
       "25%       89.000000         6.290000      6.290000              3.000000   \n",
       "50%       99.000000         7.560000      7.550000              6.000000   \n",
       "75%      110.000000         8.790000      8.770000              8.000000   \n",
       "max      158.000000        10.000000     10.460000             10.000000   \n",
       "\n",
       "       Internship_Experience  Extra_Curricular_Score  Communication_Skills  \\\n",
       "count           10000.000000            10000.000000          10000.000000   \n",
       "mean                0.396400                4.970900              5.561800   \n",
       "std                 0.489174                3.160103              2.900866   \n",
       "min                 0.000000                0.000000              1.000000   \n",
       "25%                 0.000000                2.000000              3.000000   \n",
       "50%                 0.000000                5.000000              6.000000   \n",
       "75%                 1.000000                8.000000              8.000000   \n",
       "max                 1.000000               10.000000             10.000000   \n",
       "\n",
       "       Projects_Completed     Placement  \n",
       "count        10000.000000  10000.000000  \n",
       "mean             2.513400      0.165900  \n",
       "std              1.715959      0.372009  \n",
       "min              0.000000      0.000000  \n",
       "25%              1.000000      0.000000  \n",
       "50%              3.000000      0.000000  \n",
       "75%              4.000000      0.000000  \n",
       "max              5.000000      1.000000  "
      ]
     },
     "execution_count": 95,
     "metadata": {},
     "output_type": "execute_result"
    }
   ],
   "source": [
    "import numpy as np \n",
    "# Showing summary statistics for all columns\n",
    "df.describe()"
   ]
  },
  {
   "cell_type": "code",
   "execution_count": 116,
   "id": "938eb777",
   "metadata": {},
   "outputs": [
    {
     "name": "stdout",
     "output_type": "stream",
     "text": [
      "Total students that interned: 3964.0\n",
      "Percentage of students that interned: 39.64%\n"
     ]
    }
   ],
   "source": [
    "#Total Students that interned\n",
    "total_interns = df['Internship_Experience'].sum()\n",
    "print(f\"Total students that interned: {total_interns}\")\n",
    "#Percentage of internees\n",
    "percentage_interns = (total_interns / len(df)) * 100\n",
    "print(f\"Percentage of students that interned: {percentage_interns:.2f}%\")\n"
   ]
  },
  {
   "cell_type": "code",
   "execution_count": 110,
   "id": "acd010cb",
   "metadata": {},
   "outputs": [
    {
     "name": "stdout",
     "output_type": "stream",
     "text": [
      "Placement rate with internship: 16.32%\n",
      "Placement rate without internship: 16.77%\n"
     ]
    }
   ],
   "source": [
    "# Placement rates for students with and without internship experience\n",
    "internship_placed = df[(df['Internship_Experience'] == 1) & (df['Placement'] == 1)].shape[0]\n",
    "internship_total = df[df['Internship_Experience'] == 1].shape[0]\n",
    "no_internship_placed = df[(df['Internship_Experience'] == 0) & (df['Placement'] == 1)].shape[0]\n",
    "no_internship_total = df[df['Internship_Experience'] == 0].shape[0]\n",
    "\n",
    "internship_placement_rate = internship_placed / internship_total * 100\n",
    "no_internship_placement_rate = no_internship_placed / no_internship_total * 100\n",
    "\n",
    "print(f\"Placement rate with internship: {internship_placement_rate:.2f}%\")\n",
    "print(f\"Placement rate without internship: {no_internship_placement_rate:.2f}%\")"
   ]
  },
  {
   "cell_type": "code",
   "execution_count": 113,
   "id": "bdc86904",
   "metadata": {},
   "outputs": [
    {
     "name": "stdout",
     "output_type": "stream",
     "text": [
      "Total students: 10000\n",
      "Placed students: 1659.0\n",
      "Placement percentage: 16.59%\n"
     ]
    }
   ],
   "source": [
    "# Calculate and print total placement percentage out of all students\n",
    "total_students = len(df)\n",
    "placed_students = df['Placement'].sum()\n",
    "placement_percentage = placed_students / total_students * 100\n",
    "\n",
    "print(f\"Total students: {total_students}\")\n",
    "print(f\"Placed students: {placed_students}\")\n",
    "print(f\"Placement percentage: {placement_percentage:.2f}%\")"
   ]
  },
  {
   "cell_type": "markdown",
   "id": "65572021",
   "metadata": {},
   "source": [
    "### Visualization"
   ]
  },
  {
   "cell_type": "code",
   "execution_count": 96,
   "id": "fd8c128a",
   "metadata": {},
   "outputs": [
    {
     "data": {
      "text/plain": [
       "Text(0.5, 1.0, 'Placement Count')"
      ]
     },
     "execution_count": 96,
     "metadata": {},
     "output_type": "execute_result"
    },
    {
     "data": {
      "image/png": "[encoded data removed]",
      "text/plain": [
       "<Figure size 640x480 with 1 Axes>"
      ]
     },
     "metadata": {},
     "output_type": "display_data"
    }
   ],
   "source": [
    "import matplotlib.pyplot as plt\n",
    "import seaborn as sns\n",
    "\n",
    "#Count of students plaved vs  not placed\n",
    "sns.countplot(x='Placement', data=df)\n",
    "plt.title('Placement Count')"
   ]
  },
  {
   "cell_type": "markdown",
   "id": "04a9e185",
   "metadata": {},
   "source": [
    "### Interactive Plot (Plotly)"
   ]
  },
  {
   "cell_type": "code",
   "execution_count": 97,
   "id": "819c207d",
   "metadata": {},
   "outputs": [
    {
     "name": "stdout",
     "output_type": "stream",
     "text": [
      "Internship_Experience unique values: [0 1]\n",
      "Placement unique values: [0 1]\n"
     ]
    },
    {
     "data": {
      "application/vnd.plotly.v1+json": {
       "config": {
        "plotlyServerURL": "https://plot.ly"
       },
       "data": [
        {
         "alignmentgroup": "True",
         "hovertemplate": "Placement Status=Not Placed<br>Internship Experience=%{x}<br>Count=%{y}<extra></extra>",
         "legendgroup": "Not Placed",
         "marker": {
          "color": "#636efa",
          "pattern": {
           "shape": ""
          }
         },
         "name": "Not Placed",
         "offsetgroup": "Not Placed",
         "orientation": "v",
         "showlegend": true,
         "textposition": "auto",
         "type": "bar",
         "x": [
          "No Internship",
          "Had Internship"
         ],
         "xaxis": "x",
         "y": {
          "bdata": "oBP1DA==",
          "dtype": "i2"
         },
         "yaxis": "y"
        },
        {
         "alignmentgroup": "True",
         "hovertemplate": "Placement Status=Placed<br>Internship Experience=%{x}<br>Count=%{y}<extra></extra>",
         "legendgroup": "Placed",
         "marker": {
          "color": "#EF553B",
          "pattern": {
           "shape": ""
          }
         },
         "name": "Placed",
         "offsetgroup": "Placed",
         "orientation": "v",
         "showlegend": true,
         "textposition": "auto",
         "type": "bar",
         "x": [
          "No Internship",
          "Had Internship"
         ],
         "xaxis": "x",
         "y": {
          "bdata": "9AOHAg==",
          "dtype": "i2"
         },
         "yaxis": "y"
        }
       ],
       "layout": {
        "barmode": "group",
        "legend": {
         "title": {
          "text": "Placement Status"
         },
         "tracegroupgap": 0
        },
        "template": {
         "data": {
          "bar": [
           {
            "error_x": {
             "color": "#2a3f5f"
            },
            "error_y": {
             "color": "#2a3f5f"
            },
            "marker": {
             "line": {
              "color": "#E5ECF6",
              "width": 0.5
             },
             "pattern": {
              "fillmode": "overlay",
              "size": 10,
              "solidity": 0.2
             }
            },
            "type": "bar"
           }
          ],
          "barpolar": [
           {
            "marker": {
             "line": {
              "color": "#E5ECF6",
              "width": 0.5
             },
             "pattern": {
              "fillmode": "overlay",
              "size": 10,
              "solidity": 0.2
             }
            },
            "type": "barpolar"
           }
          ],
          "carpet": [
           {
            "aaxis": {
             "endlinecolor": "#2a3f5f",
             "gridcolor": "white",
             "linecolor": "white",
             "minorgridcolor": "white",
             "startlinecolor": "#2a3f5f"
            },
            "baxis": {
             "endlinecolor": "#2a3f5f",
             "gridcolor": "white",
             "linecolor": "white",
             "minorgridcolor": "white",
             "startlinecolor": "#2a3f5f"
            },
            "type": "carpet"
           }
          ],
          "choropleth": [
           {
            "colorbar": {
             "outlinewidth": 0,
             "ticks": ""
            },
            "type": "choropleth"
           }
          ],
          "contour": [
           {
            "colorbar": {
             "outlinewidth": 0,
             "ticks": ""
            },
            "colorscale": [
             [
              0,
              "#0d0887"
             ],
             [
              0.1111111111111111,
              "#46039f"
             ],
             [
              0.2222222222222222,
              "#7201a8"
             ],
             [
              0.3333333333333333,
              "#9c179e"
             ],
             [
              0.4444444444444444,
              "#bd3786"
             ],
             [
              0.5555555555555556,
              "#d8576b"
             ],
             [
              0.6666666666666666,
              "#ed7953"
             ],
             [
              0.7777777777777778,
              "#fb9f3a"
             ],
             [
              0.8888888888888888,
              "#fdca26"
             ],
             [
              1,
              "#f0f921"
             ]
            ],
            "type": "contour"
           }
          ],
          "contourcarpet": [
           {
            "colorbar": {
             "outlinewidth": 0,
             "ticks": ""
            },
            "type": "contourcarpet"
           }
          ],
          "heatmap": [
           {
            "colorbar": {
             "outlinewidth": 0,
             "ticks": ""
            },
            "colorscale": [
             [
              0,
              "#0d0887"
             ],
             [
              0.1111111111111111,
              "#46039f"
             ],
             [
              0.2222222222222222,
              "#7201a8"
             ],
             [
              0.3333333333333333,
              "#9c179e"
             ],
             [
              0.4444444444444444,
              "#bd3786"
             ],
             [
              0.5555555555555556,
              "#d8576b"
             ],
             [
              0.6666666666666666,
              "#ed7953"
             ],
             [
              0.7777777777777778,
              "#fb9f3a"
             ],
             [
              0.8888888888888888,
              "#fdca26"
             ],
             [
              1,
              "#f0f921"
             ]
            ],
            "type": "heatmap"
           }
          ],
          "histogram": [
           {
            "marker": {
             "pattern": {
              "fillmode": "overlay",
              "size": 10,
              "solidity": 0.2
             }
            },
            "type": "histogram"
           }
          ],
          "histogram2d": [
           {
            "colorbar": {
             "outlinewidth": 0,
             "ticks": ""
            },
            "colorscale": [
             [
              0,
              "#0d0887"
             ],
             [
              0.1111111111111111,
              "#46039f"
             ],
             [
              0.2222222222222222,
              "#7201a8"
             ],
             [
              0.3333333333333333,
              "#9c179e"
             ],
             [
              0.4444444444444444,
              "#bd3786"
             ],
             [
              0.5555555555555556,
              "#d8576b"
             ],
             [
              0.6666666666666666,
              "#ed7953"
             ],
             [
              0.7777777777777778,
              "#fb9f3a"
             ],
             [
              0.8888888888888888,
              "#fdca26"
             ],
             [
              1,
              "#f0f921"
             ]
            ],
            "type": "histogram2d"
           }
          ],
          "histogram2dcontour": [
           {
            "colorbar": {
             "outlinewidth": 0,
             "ticks": ""
            },
            "colorscale": [
             [
              0,
              "#0d0887"
             ],
             [
              0.1111111111111111,
              "#46039f"
             ],
             [
              0.2222222222222222,
              "#7201a8"
             ],
             [
              0.3333333333333333,
              "#9c179e"
             ],
             [
              0.4444444444444444,
              "#bd3786"
             ],
             [
              0.5555555555555556,
              "#d8576b"
             ],
             [
              0.6666666666666666,
              "#ed7953"
             ],
             [
              0.7777777777777778,
              "#fb9f3a"
             ],
             [
              0.8888888888888888,
              "#fdca26"
             ],
             [
              1,
              "#f0f921"
             ]
            ],
            "type": "histogram2dcontour"
           }
          ],
          "mesh3d": [
           {
            "colorbar": {
             "outlinewidth": 0,
             "ticks": ""
            },
            "type": "mesh3d"
           }
          ],
          "parcoords": [
           {
            "line": {
             "colorbar": {
              "outlinewidth": 0,
              "ticks": ""
             }
            },
            "type": "parcoords"
           }
          ],
          "pie": [
           {
            "automargin": true,
            "type": "pie"
           }
          ],
          "scatter": [
           {
            "fillpattern": {
             "fillmode": "overlay",
             "size": 10,
             "solidity": 0.2
            },
            "type": "scatter"
           }
          ],
          "scatter3d": [
           {
            "line": {
             "colorbar": {
              "outlinewidth": 0,
              "ticks": ""
             }
            },
            "marker": {
             "colorbar": {
              "outlinewidth": 0,
              "ticks": ""
             }
            },
            "type": "scatter3d"
           }
          ],
          "scattercarpet": [
           {
            "marker": {
             "colorbar": {
              "outlinewidth": 0,
              "ticks": ""
             }
            },
            "type": "scattercarpet"
           }
          ],
          "scattergeo": [
           {
            "marker": {
             "colorbar": {
              "outlinewidth": 0,
              "ticks": ""
             }
            },
            "type": "scattergeo"
           }
          ],
          "scattergl": [
           {
            "marker": {
             "colorbar": {
              "outlinewidth": 0,
              "ticks": ""
             }
            },
            "type": "scattergl"
           }
          ],
          "scattermap": [
           {
            "marker": {
             "colorbar": {
              "outlinewidth": 0,
              "ticks": ""
             }
            },
            "type": "scattermap"
           }
          ],
          "scattermapbox": [
           {
            "marker": {
             "colorbar": {
              "outlinewidth": 0,
              "ticks": ""
             }
            },
            "type": "scattermapbox"
           }
          ],
          "scatterpolar": [
           {
            "marker": {
             "colorbar": {
              "outlinewidth": 0,
              "ticks": ""
             }
            },
            "type": "scatterpolar"
           }
          ],
          "scatterpolargl": [
           {
            "marker": {
             "colorbar": {
              "outlinewidth": 0,
              "ticks": ""
             }
            },
            "type": "scatterpolargl"
           }
          ],
          "scatterternary": [
           {
            "marker": {
             "colorbar": {
              "outlinewidth": 0,
              "ticks": ""
             }
            },
            "type": "scatterternary"
           }
          ],
          "surface": [
           {
            "colorbar": {
             "outlinewidth": 0,
             "ticks": ""
            },
            "colorscale": [
             [
              0,
              "#0d0887"
             ],
             [
              0.1111111111111111,
              "#46039f"
             ],
             [
              0.2222222222222222,
              "#7201a8"
             ],
             [
              0.3333333333333333,
              "#9c179e"
             ],
             [
              0.4444444444444444,
              "#bd3786"
             ],
             [
              0.5555555555555556,
              "#d8576b"
             ],
             [
              0.6666666666666666,
              "#ed7953"
             ],
             [
              0.7777777777777778,
              "#fb9f3a"
             ],
             [
              0.8888888888888888,
              "#fdca26"
             ],
             [
              1,
              "#f0f921"
             ]
            ],
            "type": "surface"
           }
          ],
          "table": [
           {
            "cells": {
             "fill": {
              "color": "#EBF0F8"
             },
             "line": {
              "color": "white"
             }
            },
            "header": {
             "fill": {
              "color": "#C8D4E3"
             },
             "line": {
              "color": "white"
             }
            },
            "type": "table"
           }
          ]
         },
         "layout": {
          "annotationdefaults": {
           "arrowcolor": "#2a3f5f",
           "arrowhead": 0,
           "arrowwidth": 1
          },
          "autotypenumbers": "strict",
          "coloraxis": {
           "colorbar": {
            "outlinewidth": 0,
            "ticks": ""
           }
          },
          "colorscale": {
           "diverging": [
            [
             0,
             "#8e0152"
            ],
            [
             0.1,
             "#c51b7d"
            ],
            [
             0.2,
             "#de77ae"
            ],
            [
             0.3,
             "#f1b6da"
            ],
            [
             0.4,
             "#fde0ef"
            ],
            [
             0.5,
             "#f7f7f7"
            ],
            [
             0.6,
             "#e6f5d0"
            ],
            [
             0.7,
             "#b8e186"
            ],
            [
             0.8,
             "#7fbc41"
            ],
            [
             0.9,
             "#4d9221"
            ],
            [
             1,
             "#276419"
            ]
           ],
           "sequential": [
            [
             0,
             "#0d0887"
            ],
            [
             0.1111111111111111,
             "#46039f"
            ],
            [
             0.2222222222222222,
             "#7201a8"
            ],
            [
             0.3333333333333333,
             "#9c179e"
            ],
            [
             0.4444444444444444,
             "#bd3786"
            ],
            [
             0.5555555555555556,
             "#d8576b"
            ],
            [
             0.6666666666666666,
             "#ed7953"
            ],
            [
             0.7777777777777778,
             "#fb9f3a"
            ],
            [
             0.8888888888888888,
             "#fdca26"
            ],
            [
             1,
             "#f0f921"
            ]
           ],
           "sequentialminus": [
            [
             0,
             "#0d0887"
            ],
            [
             0.1111111111111111,
             "#46039f"
            ],
            [
             0.2222222222222222,
             "#7201a8"
            ],
            [
             0.3333333333333333,
             "#9c179e"
            ],
            [
             0.4444444444444444,
             "#bd3786"
            ],
            [
             0.5555555555555556,
             "#d8576b"
            ],
            [
             0.6666666666666666,
             "#ed7953"
            ],
            [
             0.7777777777777778,
             "#fb9f3a"
            ],
            [
             0.8888888888888888,
             "#fdca26"
            ],
            [
             1,
             "#f0f921"
            ]
           ]
          },
          "colorway": [
           "#636efa",
           "#EF553B",
           "#00cc96",
           "#ab63fa",
           "#FFA15A",
           "#19d3f3",
           "#FF6692",
           "#B6E880",
           "#FF97FF",
           "#FECB52"
          ],
          "font": {
           "color": "#2a3f5f"
          },
          "geo": {
           "bgcolor": "white",
           "lakecolor": "white",
           "landcolor": "#E5ECF6",
           "showlakes": true,
           "showland": true,
           "subunitcolor": "white"
          },
          "hoverlabel": {
           "align": "left"
          },
          "hovermode": "closest",
          "mapbox": {
           "style": "light"
          },
          "paper_bgcolor": "white",
          "plot_bgcolor": "#E5ECF6",
          "polar": {
           "angularaxis": {
            "gridcolor": "white",
            "linecolor": "white",
            "ticks": ""
           },
           "bgcolor": "#E5ECF6",
           "radialaxis": {
            "gridcolor": "white",
            "linecolor": "white",
            "ticks": ""
           }
          },
          "scene": {
           "xaxis": {
            "backgroundcolor": "#E5ECF6",
            "gridcolor": "white",
            "gridwidth": 2,
            "linecolor": "white",
            "showbackground": true,
            "ticks": "",
            "zerolinecolor": "white"
           },
           "yaxis": {
            "backgroundcolor": "#E5ECF6",
            "gridcolor": "white",
            "gridwidth": 2,
            "linecolor": "white",
            "showbackground": true,
            "ticks": "",
            "zerolinecolor": "white"
           },
           "zaxis": {
            "backgroundcolor": "#E5ECF6",
            "gridcolor": "white",
            "gridwidth": 2,
            "linecolor": "white",
            "showbackground": true,
            "ticks": "",
            "zerolinecolor": "white"
           }
          },
          "shapedefaults": {
           "line": {
            "color": "#2a3f5f"
           }
          },
          "ternary": {
           "aaxis": {
            "gridcolor": "white",
            "linecolor": "white",
            "ticks": ""
           },
           "baxis": {
            "gridcolor": "white",
            "linecolor": "white",
            "ticks": ""
           },
           "bgcolor": "#E5ECF6",
           "caxis": {
            "gridcolor": "white",
            "linecolor": "white",
            "ticks": ""
           }
          },
          "title": {
           "x": 0.05
          },
          "xaxis": {
           "automargin": true,
           "gridcolor": "white",
           "linecolor": "white",
           "ticks": "",
           "title": {
            "standoff": 15
           },
           "zerolinecolor": "white",
           "zerolinewidth": 2
          },
          "yaxis": {
           "automargin": true,
           "gridcolor": "white",
           "linecolor": "white",
           "ticks": "",
           "title": {
            "standoff": 15
           },
           "zerolinecolor": "white",
           "zerolinewidth": 2
          }
         }
        },
        "title": {
         "text": "Placement Count by Internship Experience"
        },
        "xaxis": {
         "anchor": "y",
         "domain": [
          0,
          1
         ],
         "title": {
          "text": "Internship Experience"
         }
        },
        "yaxis": {
         "anchor": "x",
         "domain": [
          0,
          1
         ],
         "title": {
          "text": "Count"
         }
        }
       }
      }
     },
     "metadata": {},
     "output_type": "display_data"
    }
   ],
   "source": [
    "import plotly.express as px\n",
    "\n",
    "# Check unique values to ensure correct mapping\n",
    "print(\"Internship_Experience unique values:\", df['Internship_Experience'].unique())\n",
    "print(\"Placement unique values:\", df['Placement'].unique())\n",
    "\n",
    "# If needed, map 'Yes'/'No' to 1/0 (skip if already done)\n",
    "df['Internship_Experience'] = df['Internship_Experience'].map({'Yes': 1, 'No': 0}).fillna(df['Internship_Experience'])\n",
    "df['Placement'] = df['Placement'].map({'Yes': 1, 'No': 0}).fillna(df['Placement'])\n",
    "\n",
    "# Create count DataFrame\n",
    "count_df = df.groupby(['Internship_Experience', 'Placement']).size().reset_index(name='Count')\n",
    "\n",
    "# Map numeric values to descriptive labels for plotting\n",
    "count_df['Internship_Experience'] = count_df['Internship_Experience'].map({0: 'No Internship', 1: 'Had Internship'})\n",
    "count_df['Placement'] = count_df['Placement'].map({0: 'Not Placed', 1: 'Placed'})\n",
    "\n",
    "# Drop rows with NaN (in case mapping failed for any value)\n",
    "count_df = count_df.dropna()\n",
    "\n",
    "# Plot\n",
    "fig = px.bar(\n",
    "    count_df,\n",
    "    x='Internship_Experience',\n",
    "    y='Count',\n",
    "    color='Placement',\n",
    "    barmode='group',\n",
    "    labels={'Internship_Experience': 'Internship Experience', 'Placement': 'Placement Status'},\n",
    "    title='Placement Count by Internship Experience'\n",
    ")\n",
    "fig.show()"
   ]
  },
  {
   "cell_type": "markdown",
   "id": "16ae8c41",
   "metadata": {},
   "source": [
    "### EDA Insights\n",
    "\n",
    "- The dataset contains 10,000 students with features such as IQ, previous semester result, CGPA, academic performance, internship experience, extra-curricular score, communication skills, and projects completed.\n",
    "- **Placement Rate:** Only about 16.6% of students were placed (as seen from the mean of the Placement column and the countplot).\n",
    "- **Internship Experience:** Most students did **not** have internship experience (about 60% without, 40% with).\n",
    "- **Impact of Internship:** Not a significant difference in placement rates between students with and without internship experience (approximately 16.32% vs 16.77%).\n",
    " - **Placement Rate with Internship:** 16.32% \n",
    " - **Placement Rate without Internship:** 16.77% \n",
    "\n",
    "- **Summary:** Internship experience doesn't appeared to be a strong factor in placement, but other features like CGPA, academic performance, and communication skills may also play a role.\n"
   ]
  },
  {
   "cell_type": "markdown",
   "id": "935f11a7",
   "metadata": {},
   "source": [
    "## 3 - Feature Engineering"
   ]
  },
  {
   "cell_type": "markdown",
   "id": "da67d9b7",
   "metadata": {},
   "source": [
    "### Splitting Data"
   ]
  },
  {
   "cell_type": "code",
   "execution_count": 98,
   "id": "5bb8ebe1",
   "metadata": {},
   "outputs": [],
   "source": [
    "# Features: all columns except 'Placement'\n",
    "X = df.drop('Placement', axis=1)\n",
    "# Target: 'Placement' column\n",
    "y = df['Placement']"
   ]
  },
  {
   "cell_type": "markdown",
   "id": "ce6e0357",
   "metadata": {},
   "source": [
    "### Normalizing Data"
   ]
  },
  {
   "cell_type": "code",
   "execution_count": 99,
   "id": "34c84a6d",
   "metadata": {},
   "outputs": [],
   "source": [
    "from sklearn.preprocessing import StandardScaler\n",
    "\n",
    "scaler = StandardScaler()\n",
    "X_scaled = scaler.fit_transform(X)"
   ]
  },
  {
   "cell_type": "markdown",
   "id": "a56a205c",
   "metadata": {},
   "source": [
    "### Train Test Splitting"
   ]
  },
  {
   "cell_type": "code",
   "execution_count": 100,
   "id": "5a5ecc85",
   "metadata": {},
   "outputs": [],
   "source": [
    "from sklearn.model_selection import train_test_split\n",
    "\n",
    "X_train, X_test, y_train, y_test = train_test_split(X_scaled, y, test_size=0.2, random_state=42)"
   ]
  },
  {
   "cell_type": "markdown",
   "id": "8d75e796",
   "metadata": {},
   "source": [
    "## 4- Model Training"
   ]
  },
  {
   "cell_type": "markdown",
   "id": "6ab9c4c0",
   "metadata": {},
   "source": [
    "### KNN Classifier"
   ]
  },
  {
   "cell_type": "code",
   "execution_count": 101,
   "id": "20406278",
   "metadata": {},
   "outputs": [],
   "source": [
    "from sklearn.neighbors import KNeighborsClassifier\n",
    "\n",
    "knn = KNeighborsClassifier()\n",
    "knn.fit(X_train, y_train)\n",
    "knn_pred = knn.predict(X_test)"
   ]
  },
  {
   "cell_type": "markdown",
   "id": "c05f12df",
   "metadata": {},
   "source": [
    "### Decision Tree Classifier"
   ]
  },
  {
   "cell_type": "code",
   "execution_count": 102,
   "id": "2c4be24d",
   "metadata": {},
   "outputs": [],
   "source": [
    "from sklearn.tree import DecisionTreeClassifier\n",
    "\n",
    "dt = DecisionTreeClassifier(random_state=42)\n",
    "dt.fit(X_train, y_train)\n",
    "dt_pred = dt.predict(X_test)"
   ]
  },
  {
   "cell_type": "markdown",
   "id": "1f43924f",
   "metadata": {},
   "source": [
    "### Random Forest Classifier"
   ]
  },
  {
   "cell_type": "code",
   "execution_count": 103,
   "id": "0088799e",
   "metadata": {},
   "outputs": [],
   "source": [
    "from sklearn.ensemble import RandomForestClassifier\n",
    "\n",
    "rf = RandomForestClassifier(random_state=42)\n",
    "rf.fit(X_train, y_train)\n",
    "rf_pred = rf.predict(X_test)"
   ]
  },
  {
   "cell_type": "markdown",
   "id": "548e1294",
   "metadata": {},
   "source": [
    "## 5 - Model Evaluation"
   ]
  },
  {
   "cell_type": "code",
   "execution_count": 104,
   "id": "b319f140",
   "metadata": {},
   "outputs": [
    {
     "name": "stdout",
     "output_type": "stream",
     "text": [
      "--- KNN ---\n",
      "Accuracy: 0.947\n",
      "Precision: 0.8985507246376812\n",
      "Recall: 0.7607361963190185\n",
      "F1 Score: 0.8239202657807309\n",
      "Confusion Matrix:\n",
      " [[1646   28]\n",
      " [  78  248]]\n",
      "Classification Report:\n",
      "               precision    recall  f1-score   support\n",
      "\n",
      "         0.0       0.95      0.98      0.97      1674\n",
      "         1.0       0.90      0.76      0.82       326\n",
      "\n",
      "    accuracy                           0.95      2000\n",
      "   macro avg       0.93      0.87      0.90      2000\n",
      "weighted avg       0.95      0.95      0.95      2000\n",
      "\n",
      "\n",
      "\n",
      "--- Decision Tree ---\n",
      "Accuracy: 1.0\n",
      "Precision: 1.0\n",
      "Recall: 1.0\n",
      "F1 Score: 1.0\n",
      "Confusion Matrix:\n",
      " [[1674    0]\n",
      " [   0  326]]\n",
      "Classification Report:\n",
      "               precision    recall  f1-score   support\n",
      "\n",
      "         0.0       1.00      1.00      1.00      1674\n",
      "         1.0       1.00      1.00      1.00       326\n",
      "\n",
      "    accuracy                           1.00      2000\n",
      "   macro avg       1.00      1.00      1.00      2000\n",
      "weighted avg       1.00      1.00      1.00      2000\n",
      "\n",
      "\n",
      "\n",
      "--- Random Forest ---\n",
      "Accuracy: 1.0\n",
      "Precision: 1.0\n",
      "Recall: 1.0\n",
      "F1 Score: 1.0\n",
      "Confusion Matrix:\n",
      " [[1674    0]\n",
      " [   0  326]]\n",
      "Classification Report:\n",
      "               precision    recall  f1-score   support\n",
      "\n",
      "         0.0       1.00      1.00      1.00      1674\n",
      "         1.0       1.00      1.00      1.00       326\n",
      "\n",
      "    accuracy                           1.00      2000\n",
      "   macro avg       1.00      1.00      1.00      2000\n",
      "weighted avg       1.00      1.00      1.00      2000\n",
      "\n",
      "\n",
      "\n"
     ]
    },
    {
     "data": {
      "image/png": "[encoded data removed]",
      "text/plain": [
       "<Figure size 640x480 with 1 Axes>"
      ]
     },
     "metadata": {},
     "output_type": "display_data"
    }
   ],
   "source": [
    "from sklearn.metrics import accuracy_score, precision_score, recall_score, f1_score, confusion_matrix, classification_report, roc_curve, auc\n",
    "import matplotlib.pyplot as plt\n",
    "\n",
    "models = {\n",
    "    \"KNN\": knn_pred,\n",
    "    \"Decision Tree\": dt_pred,\n",
    "    \"Random Forest\": rf_pred\n",
    "}\n",
    "\n",
    "for name, pred in models.items():\n",
    "    print(f\"--- {name} ---\")\n",
    "    print(\"Accuracy:\", accuracy_score(y_test, pred))\n",
    "    print(\"Precision:\", precision_score(y_test, pred))\n",
    "    print(\"Recall:\", recall_score(y_test, pred))\n",
    "    print(\"F1 Score:\", f1_score(y_test, pred))\n",
    "    print(\"Confusion Matrix:\\n\", confusion_matrix(y_test, pred))\n",
    "    print(\"Classification Report:\\n\", classification_report(y_test, pred))\n",
    "    print(\"\\n\")\n",
    "\n",
    "# ROC Curve for the best model (Random Forest as example)\n",
    "rf_probs = rf.predict_proba(X_test)[:, 1]\n",
    "fpr, tpr, thresholds = roc_curve(y_test, rf_probs)\n",
    "roc_auc = auc(fpr, tpr)\n",
    "\n",
    "plt.figure()\n",
    "plt.plot(fpr, tpr, label=f'Random Forest (AUC = {roc_auc:.2f})')\n",
    "plt.plot([0, 1], [0, 1], 'k--')\n",
    "plt.xlabel('False Positive Rate')\n",
    "plt.ylabel('True Positive Rate')\n",
    "plt.title('ROC Curve')\n",
    "plt.legend(loc='lower right')\n",
    "plt.show()"
   ]
  },
  {
   "cell_type": "markdown",
   "id": "3dba50bf",
   "metadata": {},
   "source": [
    "### Model Comparison Table"
   ]
  },
  {
   "cell_type": "code",
   "execution_count": 109,
   "id": "f4bd5550",
   "metadata": {},
   "outputs": [
    {
     "data": {
      "text/html": [
       "<div>\n",
       "<style scoped>\n",
       "    .dataframe tbody tr th:only-of-type {\n",
       "        vertical-align: middle;\n",
       "    }\n",
       "\n",
       "    .dataframe tbody tr th {\n",
       "        vertical-align: top;\n",
       "    }\n",
       "\n",
       "    .dataframe thead th {\n",
       "        text-align: right;\n",
       "    }\n",
       "</style>\n",
       "<table border=\"1\" class=\"dataframe\">\n",
       "  <thead>\n",
       "    <tr style=\"text-align: right;\">\n",
       "      <th></th>\n",
       "      <th>Model</th>\n",
       "      <th>Accuracy</th>\n",
       "      <th>Precision</th>\n",
       "      <th>Recall</th>\n",
       "      <th>F1 Score</th>\n",
       "    </tr>\n",
       "  </thead>\n",
       "  <tbody>\n",
       "    <tr>\n",
       "      <th>0</th>\n",
       "      <td>KNN</td>\n",
       "      <td>0.9470</td>\n",
       "      <td>0.898551</td>\n",
       "      <td>0.760736</td>\n",
       "      <td>0.823920</td>\n",
       "    </tr>\n",
       "    <tr>\n",
       "      <th>1</th>\n",
       "      <td>Decision Tree</td>\n",
       "      <td>1.0000</td>\n",
       "      <td>1.000000</td>\n",
       "      <td>1.000000</td>\n",
       "      <td>1.000000</td>\n",
       "    </tr>\n",
       "    <tr>\n",
       "      <th>2</th>\n",
       "      <td>Random Forest</td>\n",
       "      <td>1.0000</td>\n",
       "      <td>1.000000</td>\n",
       "      <td>1.000000</td>\n",
       "      <td>1.000000</td>\n",
       "    </tr>\n",
       "    <tr>\n",
       "      <th>3</th>\n",
       "      <td>KNN (Tuned)</td>\n",
       "      <td>0.9545</td>\n",
       "      <td>0.957198</td>\n",
       "      <td>0.754601</td>\n",
       "      <td>0.843911</td>\n",
       "    </tr>\n",
       "    <tr>\n",
       "      <th>4</th>\n",
       "      <td>Decision Tree (Tuned)</td>\n",
       "      <td>1.0000</td>\n",
       "      <td>1.000000</td>\n",
       "      <td>1.000000</td>\n",
       "      <td>1.000000</td>\n",
       "    </tr>\n",
       "    <tr>\n",
       "      <th>5</th>\n",
       "      <td>Random Forest (Tuned)</td>\n",
       "      <td>1.0000</td>\n",
       "      <td>1.000000</td>\n",
       "      <td>1.000000</td>\n",
       "      <td>1.000000</td>\n",
       "    </tr>\n",
       "  </tbody>\n",
       "</table>\n",
       "</div>"
      ],
      "text/plain": [
       "                   Model  Accuracy  Precision    Recall  F1 Score\n",
       "0                    KNN    0.9470   0.898551  0.760736  0.823920\n",
       "1          Decision Tree    1.0000   1.000000  1.000000  1.000000\n",
       "2          Random Forest    1.0000   1.000000  1.000000  1.000000\n",
       "3            KNN (Tuned)    0.9545   0.957198  0.754601  0.843911\n",
       "4  Decision Tree (Tuned)    1.0000   1.000000  1.000000  1.000000\n",
       "5  Random Forest (Tuned)    1.0000   1.000000  1.000000  1.000000"
      ]
     },
     "metadata": {},
     "output_type": "display_data"
    }
   ],
   "source": [
    "# Model comparison table\n",
    "import pandas as pd\n",
    "\n",
    "model_names = [\n",
    "    \"KNN\", \"Decision Tree\", \"Random Forest\",\n",
    "    \"KNN (Tuned)\", \"Decision Tree (Tuned)\", \"Random Forest (Tuned)\"\n",
    "]\n",
    "preds = [\n",
    "    knn_pred, dt_pred, rf_pred,\n",
    "    knn_best_pred, dt_best_pred, rf_best_pred\n",
    "]\n",
    "\n",
    "results = []\n",
    "for name, pred in zip(model_names, preds):\n",
    "    results.append({\n",
    "        \"Model\": name,\n",
    "        \"Accuracy\": accuracy_score(y_test, pred),\n",
    "        \"Precision\": precision_score(y_test, pred),\n",
    "        \"Recall\": recall_score(y_test, pred),\n",
    "        \"F1 Score\": f1_score(y_test, pred)\n",
    "    })\n",
    "\n",
    "results_df = pd.DataFrame(results)\n",
    "display(results_df)"
   ]
  },
  {
   "cell_type": "markdown",
   "id": "10022e86",
   "metadata": {},
   "source": [
    "## 6 - Feature Importance"
   ]
  },
  {
   "cell_type": "markdown",
   "id": "29f731f4",
   "metadata": {},
   "source": [
    "### Extracting & Visualizing Feature Importance"
   ]
  },
  {
   "cell_type": "code",
   "execution_count": 105,
   "id": "9611f8fb",
   "metadata": {},
   "outputs": [
    {
     "data": {
      "image/png": "[encoded data removed]",
      "text/plain": [
       "<Figure size 800x500 with 1 Axes>"
      ]
     },
     "metadata": {},
     "output_type": "display_data"
    }
   ],
   "source": [
    "# Get feature importances from Random Forest\n",
    "import pandas as pd\n",
    "import matplotlib.pyplot as plt\n",
    "\n",
    "feature_importances = rf.feature_importances_\n",
    "feature_names = X.columns\n",
    "\n",
    "# Create a DataFrame for easy plotting\n",
    "fi_df = pd.DataFrame({'Feature': feature_names, 'Importance': feature_importances})\n",
    "fi_df = fi_df.sort_values('Importance', ascending=False)\n",
    "\n",
    "# Plot\n",
    "plt.figure(figsize=(8,5))\n",
    "plt.barh(fi_df['Feature'], fi_df['Importance'])\n",
    "plt.xlabel('Importance')\n",
    "plt.title('Feature Importance from Random Forest')\n",
    "plt.gca().invert_yaxis()\n",
    "plt.show()"
   ]
  },
  {
   "cell_type": "markdown",
   "id": "2718f2d8",
   "metadata": {},
   "source": [
    "### Insights\n",
    "\n",
    "- The Random Forest model identified the following features as most important for predicting placement:\n",
    "    - **Communication_Skills**\n",
    "    - **IQ**\n",
    "    - **Projects_Completed**\n",
    "    - **CGPA**\n",
    "- These features have the strongest influence on placement outcomes, while features like Internship_Experience and Academic_Performance had much lower importance."
   ]
  },
  {
   "cell_type": "markdown",
   "id": "2eec6515",
   "metadata": {},
   "source": [
    "## 7 - Hyperparameter Tunning"
   ]
  },
  {
   "cell_type": "code",
   "execution_count": 106,
   "id": "679e35d7",
   "metadata": {},
   "outputs": [
    {
     "name": "stdout",
     "output_type": "stream",
     "text": [
      "Best KNN: {'weights': 'distance', 'n_neighbors': 8, 'metric': 'manhattan'}\n",
      "Best Decision Tree: {'min_samples_split': 8, 'max_depth': 5}\n",
      "Best Random Forest: {'n_estimators': 50, 'min_samples_split': 3, 'max_depth': 9}\n"
     ]
    }
   ],
   "source": [
    "from sklearn.model_selection import RandomizedSearchCV\n",
    "\n",
    "# KNN tuning\n",
    "knn_params = {\n",
    "    'n_neighbors': range(1, 21),\n",
    "    'weights': ['uniform', 'distance'],\n",
    "    'metric': ['euclidean', 'manhattan', 'minkowski']\n",
    "}\n",
    "knn_search = RandomizedSearchCV(KNeighborsClassifier(), knn_params, n_iter=10, cv=5, random_state=42)\n",
    "knn_search.fit(X_train, y_train)\n",
    "knn_best = knn_search.best_estimator_\n",
    "knn_best_pred = knn_best.predict(X_test)\n",
    "\n",
    "# Decision Tree tuning\n",
    "dt_params = {\n",
    "    'max_depth': range(1, 21),\n",
    "    'min_samples_split': range(2, 11)\n",
    "}\n",
    "dt_search = RandomizedSearchCV(DecisionTreeClassifier(random_state=42), dt_params, n_iter=10, cv=5, random_state=42)\n",
    "dt_search.fit(X_train, y_train)\n",
    "dt_best = dt_search.best_estimator_\n",
    "dt_best_pred = dt_best.predict(X_test)\n",
    "\n",
    "# Random Forest tuning\n",
    "rf_params = {\n",
    "    'n_estimators': [50, 100, 150, 200],\n",
    "    'max_depth': range(1, 21),\n",
    "    'min_samples_split': range(2, 11)\n",
    "}\n",
    "rf_search = RandomizedSearchCV(RandomForestClassifier(random_state=42), rf_params, n_iter=10, cv=5, random_state=42)\n",
    "rf_search.fit(X_train, y_train)\n",
    "rf_best = rf_search.best_estimator_\n",
    "rf_best_pred = rf_best.predict(X_test)\n",
    "\n",
    "print(\"Best KNN:\", knn_search.best_params_)\n",
    "print(\"Best Decision Tree:\", dt_search.best_params_)\n",
    "print(\"Best Random Forest:\", rf_search.best_params_)"
   ]
  },
  {
   "cell_type": "markdown",
   "id": "cee86e64",
   "metadata": {},
   "source": [
    "## 8- Evaluating Tuned Models"
   ]
  },
  {
   "cell_type": "code",
   "execution_count": 107,
   "id": "daa3097f",
   "metadata": {},
   "outputs": [
    {
     "name": "stdout",
     "output_type": "stream",
     "text": [
      "\n",
      "--- Tuned Model Results ---\n",
      "--- KNN (Tuned) ---\n",
      "Accuracy: 0.9545\n",
      "Precision: 0.9571984435797666\n",
      "Recall: 0.754601226993865\n",
      "F1 Score: 0.8439108061749572\n",
      "Confusion Matrix:\n",
      " [[1663   11]\n",
      " [  80  246]]\n",
      "Classification Report:\n",
      "               precision    recall  f1-score   support\n",
      "\n",
      "         0.0       0.95      0.99      0.97      1674\n",
      "         1.0       0.96      0.75      0.84       326\n",
      "\n",
      "    accuracy                           0.95      2000\n",
      "   macro avg       0.96      0.87      0.91      2000\n",
      "weighted avg       0.95      0.95      0.95      2000\n",
      "\n",
      "\n",
      "\n",
      "--- Decision Tree (Tuned) ---\n",
      "Accuracy: 1.0\n",
      "Precision: 1.0\n",
      "Recall: 1.0\n",
      "F1 Score: 1.0\n",
      "Confusion Matrix:\n",
      " [[1674    0]\n",
      " [   0  326]]\n",
      "Classification Report:\n",
      "               precision    recall  f1-score   support\n",
      "\n",
      "         0.0       1.00      1.00      1.00      1674\n",
      "         1.0       1.00      1.00      1.00       326\n",
      "\n",
      "    accuracy                           1.00      2000\n",
      "   macro avg       1.00      1.00      1.00      2000\n",
      "weighted avg       1.00      1.00      1.00      2000\n",
      "\n",
      "\n",
      "\n",
      "--- Random Forest (Tuned) ---\n",
      "Accuracy: 1.0\n",
      "Precision: 1.0\n",
      "Recall: 1.0\n",
      "F1 Score: 1.0\n",
      "Confusion Matrix:\n",
      " [[1674    0]\n",
      " [   0  326]]\n",
      "Classification Report:\n",
      "               precision    recall  f1-score   support\n",
      "\n",
      "         0.0       1.00      1.00      1.00      1674\n",
      "         1.0       1.00      1.00      1.00       326\n",
      "\n",
      "    accuracy                           1.00      2000\n",
      "   macro avg       1.00      1.00      1.00      2000\n",
      "weighted avg       1.00      1.00      1.00      2000\n",
      "\n",
      "\n",
      "\n"
     ]
    },
    {
     "data": {
      "image/png": "[encoded data removed]",
      "text/plain": [
       "<Figure size 640x480 with 1 Axes>"
      ]
     },
     "metadata": {},
     "output_type": "display_data"
    }
   ],
   "source": [
    "print(\"\\n--- Tuned Model Results ---\")\n",
    "tuned_models = {\n",
    "    \"KNN (Tuned)\": knn_best_pred,\n",
    "    \"Decision Tree (Tuned)\": dt_best_pred,\n",
    "    \"Random Forest (Tuned)\": rf_best_pred\n",
    "}\n",
    "\n",
    "for name, pred in tuned_models.items():\n",
    "    print(f\"--- {name} ---\")\n",
    "    print(\"Accuracy:\", accuracy_score(y_test, pred))\n",
    "    print(\"Precision:\", precision_score(y_test, pred))\n",
    "    print(\"Recall:\", recall_score(y_test, pred))\n",
    "    print(\"F1 Score:\", f1_score(y_test, pred))\n",
    "    print(\"Confusion Matrix:\\n\", confusion_matrix(y_test, pred))\n",
    "    print(\"Classification Report:\\n\", classification_report(y_test, pred))\n",
    "    print(\"\\n\")\n",
    "\n",
    "# ROC Curve for the best tuned model (Random Forest as example)\n",
    "rf_best_probs = rf_best.predict_proba(X_test)[:, 1]\n",
    "fpr, tpr, thresholds = roc_curve(y_test, rf_best_probs)\n",
    "roc_auc = auc(fpr, tpr)\n",
    "\n",
    "plt.figure()\n",
    "plt.plot(fpr, tpr, label=f'Random Forest Tuned (AUC = {roc_auc:.2f})')\n",
    "plt.plot([0, 1], [0, 1], 'k--')\n",
    "plt.xlabel('False Positive Rate')\n",
    "plt.ylabel('True Positive Rate')\n",
    "plt.title('ROC Curve (Tuned Random Forest)')\n",
    "plt.legend(loc='lower right')\n",
    "plt.show()"
   ]
  },
  {
   "cell_type": "markdown",
   "id": "e195cf4c",
   "metadata": {},
   "source": [
    "## 9 - Conclusion\n",
    "\n",
    "- The analysis showed that 16.32% of students with internship experience and 16.77% without were placed, indicating little difference between the groups.\n",
    "- Among all models, Decision Tree and Random Forest (both default and tuned) achieved perfect accuracy, while KNN performed slightly lower.\n",
    "- Feature importance analysis revealed that **Communication Skills**, **IQ**, **Projects Completed**, and **CGPA** are the strongest predictors of placement.\n",
    "- Internship experience and academic performance had much lower importance in predicting placement outcomes.\n",
    "- Focusing on improving communication skills, IQ, and practical project experience may significantly enhance placement chances for students."
   ]
  }
 ],
 "metadata": {
  "kernelspec": {
   "display_name": "python_course_env",
   "language": "python",
   "name": "python3"
  },
  "language_info": {
   "codemirror_mode": {
    "name": "ipython",
    "version": 3
   },
   "file_extension": ".py",
   "mimetype": "text/x-python",
   "name": "python",
   "nbconvert_exporter": "python",
   "pygments_lexer": "ipython3",
   "version": "3.13.5"
  }
 },
 "nbformat": 4,
 "nbformat_minor": 5
}
